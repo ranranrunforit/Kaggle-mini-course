{
 "cells": [
  {
   "cell_type": "markdown",
   "metadata": {},
   "source": [
    "**This notebook is an exercise in the [Geospatial Analysis](https://www.kaggle.com/learn/geospatial-analysis) course.  You can reference the tutorial at [this link](https://www.kaggle.com/alexisbcook/coordinate-reference-systems).**\n",
    "\n",
    "---\n"
   ]
  },
  {
   "cell_type": "markdown",
   "metadata": {},
   "source": [
    "# Introduction\n",
    "\n",
    "You are a bird conservation expert and want to understand migration patterns of purple martins.  In your research, you discover that these birds typically spend the summer breeding season in the eastern United States, and then migrate to South America for the winter.  But since this bird is under threat of endangerment, you'd like to take a closer look at the locations that these birds are more likely to visit.\n",
    "\n",
    "<center>\n",
    "<img src=\"https://i.imgur.com/qQcS0KM.png\" width=\"1000\"><br/>\n",
    "</center>\n",
    "\n",
    "There are several [protected areas](https://www.iucn.org/theme/protected-areas/about) in South America, which operate under special regulations to ensure that species that migrate (or live) there have the best opportunity to thrive.  You'd like to know if purple martins tend to visit these areas.  To answer this question, you'll use some recently collected data that tracks the year-round location of eleven different birds.\n",
    "\n",
    "Before you get started, run the code cell below to set everything up."
   ]
  },
  {
   "cell_type": "code",
   "execution_count": null,
   "metadata": {
    "execution": {
     "iopub.execute_input": "2022-02-11T00:43:54.196880Z",
     "iopub.status.busy": "2022-02-11T00:43:54.195746Z"
    }
   },
   "outputs": [],
   "source": [
    "import pandas as pd\n",
    "import geopandas as gpd\n",
    "\n",
    "from shapely.geometry import LineString\n",
    "\n",
    "from learntools.core import binder\n",
    "binder.bind(globals())\n",
    "from learntools.geospatial.ex2 import *"
   ]
  },
  {
   "cell_type": "markdown",
   "metadata": {},
   "source": [
    "# Exercises\n",
    "\n",
    "### 1) Load the data.\n",
    "\n",
    "Run the next code cell (without changes) to load the GPS data into a pandas DataFrame `birds_df`.  "
   ]
  },
  {
   "cell_type": "code",
   "execution_count": null,
   "metadata": {
    "execution": {
     "iopub.execute_input": "2022-02-10T11:01:12.110767Z",
     "iopub.status.busy": "2022-02-10T11:01:12.110125Z",
     "iopub.status.idle": "2022-02-10T11:01:12.162195Z",
     "shell.execute_reply": "2022-02-10T11:01:12.161137Z",
     "shell.execute_reply.started": "2022-02-10T11:01:12.110706Z"
    }
   },
   "outputs": [],
   "source": [
    "# Load the data and print the first 5 rows\n",
    "birds_df = pd.read_csv(\"../input/geospatial-learn-course-data/purple_martin.csv\", parse_dates=['timestamp'])\n",
    "print(\"There are {} different birds in the dataset.\".format(birds_df[\"tag-local-identifier\"].nunique()))\n",
    "birds_df.head()"
   ]
  },
  {
   "cell_type": "markdown",
   "metadata": {},
   "source": [
    "There are 11 birds in the dataset, where each bird is identified by a unique value in the \"tag-local-identifier\" column.  Each bird has several measurements, collected at different times of the year.\n",
    "\n",
    "Use the next code cell to create a GeoDataFrame `birds`.  \n",
    "- `birds` should have all of the columns from `birds_df`, along with a \"geometry\" column that contains Point objects with (longitude, latitude) locations.  \n",
    "- Set the CRS of `birds` to `{'init': 'epsg:4326'}`."
   ]
  },
  {
   "cell_type": "code",
   "execution_count": null,
   "metadata": {
    "execution": {
     "iopub.execute_input": "2022-02-10T11:03:02.599168Z",
     "iopub.status.busy": "2022-02-10T11:03:02.598386Z",
     "iopub.status.idle": "2022-02-10T11:03:02.693876Z",
     "shell.execute_reply": "2022-02-10T11:03:02.692558Z",
     "shell.execute_reply.started": "2022-02-10T11:03:02.599017Z"
    }
   },
   "outputs": [],
   "source": [
    "# Your code here: Create the GeoDataFrame\n",
    "birds = gpd.GeoDataFrame(birds,geometry=gpd.points_from_xy(birds.Longitude,birds.Latitude))\n",
    "\n",
    "# Your code here: Set the CRS to {'init': 'epsg:4326'}\n",
    "birds.crs = {'init': 'epsg:4326'}\n",
    "\n",
    "# Check your answer\n",
    "q_1.check()"
   ]
  },
  {
   "cell_type": "code",
   "execution_count": 1,
   "metadata": {
    "execution": {
     "iopub.execute_input": "2022-02-11T00:45:16.590687Z",
     "iopub.status.busy": "2022-02-11T00:45:16.589364Z",
     "iopub.status.idle": "2022-02-11T00:45:16.692736Z",
     "shell.execute_reply": "2022-02-11T00:45:16.691322Z",
     "shell.execute_reply.started": "2022-02-11T00:45:16.590478Z"
    }
   },
   "outputs": [],
   "source": [
    "# Lines below will give you a hint or solution code\n",
    "#q_1.hint()\n",
    "q_1.solution()"
   ]
  },
  {
   "cell_type": "markdown",
   "metadata": {},
   "source": [
    "### 2) Plot the data.\n",
    "\n",
    "Next, we load in the `'naturalearth_lowres'` dataset from GeoPandas, and set `americas` to a GeoDataFrame containing the boundaries of all countries in the Americas (both North and South America).  Run the next code cell without changes."
   ]
  },
  {
   "cell_type": "code",
   "execution_count": null,
   "metadata": {},
   "outputs": [],
   "source": [
    "# Load a GeoDataFrame with country boundaries in North/South America, print the first 5 rows\n",
    "world = gpd.read_file(gpd.datasets.get_path('naturalearth_lowres'))\n",
    "americas = world.loc[world['continent'].isin(['North America', 'South America'])]\n",
    "americas.head()"
   ]
  },
  {
   "cell_type": "markdown",
   "metadata": {},
   "source": [
    "Use the next code cell to create a single plot that shows both: (1) the country boundaries in the `americas` GeoDataFrame, and (2) all of the points in the `birds_gdf` GeoDataFrame.  \n",
    "\n",
    "Don't worry about any special styling here; just create a preliminary plot, as a quick sanity check that all of the data was loaded properly.  In particular, you don't have to worry about color-coding the points to differentiate between birds, and you don't have to differentiate starting points from ending points.  We'll do that in the next part of the exercise."
   ]
  },
  {
   "cell_type": "code",
   "execution_count": null,
   "metadata": {},
   "outputs": [],
   "source": [
    "# Your code here\n",
    "ax = americas.plot(figsize=(10,10), color='whitesmoke', linestyle=':', edgecolor='black')\n",
    "birds_gdf.to_crs(epsg=32630).plot(markersize=1, ax=ax)\n",
    "\n",
    "# Uncomment to see a hint\n",
    "#q_2.hint()"
   ]
  },
  {
   "cell_type": "code",
   "execution_count": null,
   "metadata": {
    "execution": {
     "iopub.execute_input": "2022-02-10T10:45:14.772851Z",
     "iopub.status.busy": "2022-02-10T10:45:14.772562Z",
     "iopub.status.idle": "2022-02-10T10:45:14.791394Z",
     "shell.execute_reply": "2022-02-10T10:45:14.790073Z",
     "shell.execute_reply.started": "2022-02-10T10:45:14.772818Z"
    }
   },
   "outputs": [],
   "source": [
    "# Get credit for your work after you have created a map\n",
    "q_2.check()\n",
    "\n",
    "# Uncomment to see our solution (your code may look different!)\n",
    "##q_2.solution()"
   ]
  },
  {
   "cell_type": "markdown",
   "metadata": {},
   "source": [
    "### 3) Where does each bird start and end its journey? (Part 1)\n",
    "\n",
    "Now, we're ready to look more closely at each bird's path.  Run the next code cell to create two GeoDataFrames:\n",
    "- `path_gdf` contains LineString objects that show the path of each bird.  It uses the `LineString()` method to create a LineString object from a list of Point objects.\n",
    "- `start_gdf` contains the starting points for each bird."
   ]
  },
  {
   "cell_type": "code",
   "execution_count": null,
   "metadata": {},
   "outputs": [],
   "source": [
    "# GeoDataFrame showing path for each bird\n",
    "path_df = birds.groupby(\"tag-local-identifier\")['geometry'].apply(list).apply(lambda x: LineString(x)).reset_index()\n",
    "path_gdf = gpd.GeoDataFrame(path_df, geometry=path_df.geometry)\n",
    "path_gdf.crs = {'init' :'epsg:4326'}\n",
    "\n",
    "# GeoDataFrame showing starting point for each bird\n",
    "start_df = birds.groupby(\"tag-local-identifier\")['geometry'].apply(list).apply(lambda x: x[0]).reset_index()\n",
    "start_gdf = gpd.GeoDataFrame(start_df, geometry=start_df.geometry)\n",
    "start_gdf.crs = {'init' :'epsg:4326'}\n",
    "\n",
    "# Show first five rows of GeoDataFrame\n",
    "start_gdf.head()"
   ]
  },
  {
   "cell_type": "markdown",
   "metadata": {},
   "source": [
    "Use the next code cell to create a GeoDataFrame `end_gdf` containing the final location of each bird.  \n",
    "- The format should be identical to that of `start_gdf`, with two columns (\"tag-local-identifier\" and \"geometry\"), where the \"geometry\" column contains Point objects.\n",
    "- Set the CRS of `end_gdf` to `{'init': 'epsg:4326'}`."
   ]
  },
  {
   "cell_type": "code",
   "execution_count": null,
   "metadata": {},
   "outputs": [],
   "source": [
    "# Your code here\n",
    "\n",
    "end_gdf =  birds.groupby(\"tag-local-identifier\")['geometry'].apply(list).apply(lambda x: x[0]).reset_index()\n",
    "end_gdf =  gpd.GeoDataFrame(start_df, geometry=start_df.geometry)\n",
    "end_gdf.crs = {'init' :'epsg:4326'}\n",
    "\n",
    "# Check your answer\n",
    "q_3.check()"
   ]
  },
  {
   "cell_type": "code",
   "execution_count": null,
   "metadata": {},
   "outputs": [],
   "source": [
    "# Lines below will give you a hint or solution code\n",
    "#q_3.hint()\n",
    "#q_3.solution()"
   ]
  },
  {
   "cell_type": "markdown",
   "metadata": {},
   "source": [
    "### 4) Where does each bird start and end its journey? (Part 2)\n",
    "\n",
    "Use the GeoDataFrames from the question above (`path_gdf`, `start_gdf`, and `end_gdf`) to visualize the paths of all birds on a single map.  You may also want to use the `americas` GeoDataFrame."
   ]
  },
  {
   "cell_type": "code",
   "execution_count": null,
   "metadata": {},
   "outputs": [],
   "source": [
    "# Your code here\n",
    "____\n",
    "\n",
    "# Uncomment to see a hint\n",
    "#q_4.hint()"
   ]
  },
  {
   "cell_type": "code",
   "execution_count": null,
   "metadata": {},
   "outputs": [],
   "source": [
    "# Get credit for your work after you have created a map\n",
    "q_4.check()\n",
    "\n",
    "# Uncomment to see our solution (your code may look different!)\n",
    "#q_4.solution()"
   ]
  },
  {
   "cell_type": "markdown",
   "metadata": {},
   "source": [
    "### 5) Where are the protected areas in South America? (Part 1)\n",
    "\n",
    "It looks like all of the birds end up somewhere in South America.  But are they going to protected areas?\n",
    "\n",
    "In the next code cell, you'll create a GeoDataFrame `protected_areas` containing the locations of all of the protected areas in South America.  The corresponding shapefile is located at filepath `protected_filepath`."
   ]
  },
  {
   "cell_type": "code",
   "execution_count": null,
   "metadata": {},
   "outputs": [],
   "source": [
    "# Path of the shapefile to load\n",
    "protected_filepath = \"../input/geospatial-learn-course-data/SAPA_Aug2019-shapefile/SAPA_Aug2019-shapefile/SAPA_Aug2019-shapefile-polygons.shp\"\n",
    "\n",
    "# Your code here\n",
    "protected_areas = ____\n",
    "\n",
    "# Check your answer\n",
    "q_5.check()"
   ]
  },
  {
   "cell_type": "code",
   "execution_count": null,
   "metadata": {},
   "outputs": [],
   "source": [
    "# Lines below will give you a hint or solution code\n",
    "#q_5.hint()\n",
    "#q_5.solution()"
   ]
  },
  {
   "cell_type": "markdown",
   "metadata": {},
   "source": [
    "### 6) Where are the protected areas in South America? (Part 2)\n",
    "\n",
    "Create a plot that uses the `protected_areas` GeoDataFrame to show the locations of the protected areas in South America.  (_You'll notice that some protected areas are on land, while others are in marine waters._)"
   ]
  },
  {
   "cell_type": "code",
   "execution_count": null,
   "metadata": {},
   "outputs": [],
   "source": [
    "# Country boundaries in South America\n",
    "south_america = americas.loc[americas['continent']=='South America']\n",
    "\n",
    "# Your code here: plot protected areas in South America\n",
    "____\n",
    "\n",
    "# Uncomment to see a hint\n",
    "#q_6.hint()"
   ]
  },
  {
   "cell_type": "code",
   "execution_count": null,
   "metadata": {},
   "outputs": [],
   "source": [
    "# Get credit for your work after you have created a map\n",
    "q_6.check()\n",
    "\n",
    "# Uncomment to see our solution (your code may look different!)\n",
    "#q_6.solution()"
   ]
  },
  {
   "cell_type": "markdown",
   "metadata": {},
   "source": [
    "### 7) What percentage of South America is protected?\n",
    "\n",
    "You're interested in determining what percentage of South America is protected, so that you know how much of South America is suitable for the birds.  \n",
    "\n",
    "As a first step, you calculate the total area of all protected lands in South America (not including marine area).  To do this, you use the \"REP_AREA\" and \"REP_M_AREA\" columns, which contain the total area and total marine area, respectively, in square kilometers.\n",
    "\n",
    "Run the code cell below without changes."
   ]
  },
  {
   "cell_type": "code",
   "execution_count": null,
   "metadata": {},
   "outputs": [],
   "source": [
    "P_Area = sum(protected_areas['REP_AREA']-protected_areas['REP_M_AREA'])\n",
    "print(\"South America has {} square kilometers of protected areas.\".format(P_Area))"
   ]
  },
  {
   "cell_type": "markdown",
   "metadata": {},
   "source": [
    "Then, to finish the calculation, you'll use the `south_america` GeoDataFrame.  "
   ]
  },
  {
   "cell_type": "code",
   "execution_count": null,
   "metadata": {},
   "outputs": [],
   "source": [
    "south_america.head()"
   ]
  },
  {
   "cell_type": "markdown",
   "metadata": {},
   "source": [
    "Calculate the total area of South America by following these steps:\n",
    "- Calculate the area of each country using the `area` attribute of each polygon (with EPSG 3035 as the CRS), and add up the results.  The calculated area will be in units of square meters.\n",
    "- Convert your answer to have units of square kilometeters."
   ]
  },
  {
   "cell_type": "code",
   "execution_count": null,
   "metadata": {},
   "outputs": [],
   "source": [
    "# Your code here: Calculate the total area of South America (in square kilometers)\n",
    "totalArea = ____\n",
    "\n",
    "# Check your answer\n",
    "q_7.check()"
   ]
  },
  {
   "cell_type": "code",
   "execution_count": null,
   "metadata": {},
   "outputs": [],
   "source": [
    "# Lines below will give you a hint or solution code\n",
    "#q_7.hint()\n",
    "#q_7.solution()"
   ]
  },
  {
   "cell_type": "markdown",
   "metadata": {},
   "source": [
    "Run the code cell below to calculate the percentage of South America that is protected."
   ]
  },
  {
   "cell_type": "code",
   "execution_count": null,
   "metadata": {},
   "outputs": [],
   "source": [
    "# What percentage of South America is protected?\n",
    "percentage_protected = P_Area/totalArea\n",
    "print('Approximately {}% of South America is protected.'.format(round(percentage_protected*100, 2)))"
   ]
  },
  {
   "cell_type": "markdown",
   "metadata": {},
   "source": [
    "### 8) Where are the birds in South America?\n",
    "\n",
    "So, are the birds in protected areas?  \n",
    "\n",
    "Create a plot that shows for all birds, all of the locations where they were discovered in South America.  Also plot the locations of all protected areas in South America.\n",
    "\n",
    "To exclude protected areas that are purely marine areas (with no land component), you can use the \"MARINE\" column (and plot only the rows in `protected_areas[protected_areas['MARINE']!='2']`, instead of every row in the `protected_areas` GeoDataFrame)."
   ]
  },
  {
   "cell_type": "code",
   "execution_count": null,
   "metadata": {},
   "outputs": [],
   "source": [
    "# Your code here\n",
    "____\n",
    "\n",
    "# Uncomment to see a hint\n",
    "#q_8.hint()"
   ]
  },
  {
   "cell_type": "code",
   "execution_count": null,
   "metadata": {},
   "outputs": [],
   "source": [
    "# Get credit for your work after you have created a map\n",
    "q_8.check()\n",
    "\n",
    "# Uncomment to see our solution (your code may look different!)\n",
    "#q_8.solution()"
   ]
  },
  {
   "cell_type": "markdown",
   "metadata": {},
   "source": [
    "# Keep going\n",
    "\n",
    "Create stunning **[interactive maps](https://www.kaggle.com/alexisbcook/interactive-maps)** with your geospatial data."
   ]
  },
  {
   "cell_type": "markdown",
   "metadata": {},
   "source": [
    "---\n",
    "\n",
    "\n",
    "\n",
    "\n",
    "*Have questions or comments? Visit the [course discussion forum](https://www.kaggle.com/learn/geospatial-analysis/discussion) to chat with other learners.*"
   ]
  }
 ],
 "metadata": {
  "kernelspec": {
   "display_name": "Python 3",
   "language": "python",
   "name": "python3"
  },
  "language_info": {
   "codemirror_mode": {
    "name": "ipython",
    "version": 3
   },
   "file_extension": ".py",
   "mimetype": "text/x-python",
   "name": "python",
   "nbconvert_exporter": "python",
   "pygments_lexer": "ipython3",
   "version": "3.7.3"
  }
 },
 "nbformat": 4,
 "nbformat_minor": 4
}
