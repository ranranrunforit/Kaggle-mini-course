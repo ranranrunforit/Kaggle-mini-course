{
 "cells": [
  {
   "cell_type": "markdown",
   "metadata": {},
   "source": [
    "**This notebook is an exercise in the [Geospatial Analysis](https://www.kaggle.com/learn/geospatial-analysis) course.  You can reference the tutorial at [this link](https://www.kaggle.com/alexisbcook/your-first-map).**\n",
    "\n",
    "---\n"
   ]
  },
  {
   "cell_type": "markdown",
   "metadata": {},
   "source": [
    "# Introduction\n",
    "\n",
    "[Kiva.org](https://www.kiva.org/) is an online crowdfunding platform extending financial services to poor people around the world. Kiva lenders have provided over $1 billion dollars in loans to over 2 million people.\n",
    "\n",
    "<center>\n",
    "<img src=\"https://i.imgur.com/2G8C53X.png\" width=\"500\"><br/>\n",
    "</center>\n",
    "\n",
    "Kiva reaches some of the most remote places in the world through their global network of \"Field Partners\". These partners are local organizations working in communities to vet borrowers, provide services, and administer loans.\n",
    "\n",
    "In this exercise, you'll investigate Kiva loans in the Philippines.  Can you identify regions that might be outside of Kiva's current network, in order to identify opportunities for recruiting new Field Partners?\n",
    "\n",
    "To get started, run the code cell below to set up our feedback system."
   ]
  },
  {
   "cell_type": "code",
   "execution_count": 1,
   "metadata": {
    "execution": {
     "iopub.execute_input": "2022-02-10T10:21:29.185392Z",
     "iopub.status.busy": "2022-02-10T10:21:29.184730Z",
     "iopub.status.idle": "2022-02-10T10:21:31.625080Z",
     "shell.execute_reply": "2022-02-10T10:21:31.623234Z",
     "shell.execute_reply.started": "2022-02-10T10:21:29.185228Z"
    }
   },
   "outputs": [],
   "source": [
    "import geopandas as gpd\n",
    "\n",
    "from learntools.core import binder\n",
    "binder.bind(globals())\n",
    "from learntools.geospatial.ex1 import *"
   ]
  },
  {
   "cell_type": "markdown",
   "metadata": {},
   "source": [
    "### 1) Get the data.\n",
    "\n",
    "Use the next cell to load the shapefile located at `loans_filepath` to create a GeoDataFrame `world_loans`.  "
   ]
  },
  {
   "cell_type": "code",
   "execution_count": 2,
   "metadata": {
    "execution": {
     "iopub.execute_input": "2022-02-10T10:22:38.651845Z",
     "iopub.status.busy": "2022-02-10T10:22:38.650981Z",
     "iopub.status.idle": "2022-02-10T10:22:42.070239Z",
     "shell.execute_reply": "2022-02-10T10:22:42.068355Z",
     "shell.execute_reply.started": "2022-02-10T10:22:38.651794Z"
    }
   },
   "outputs": [],
   "source": [
    "loans_filepath = \"../input/geospatial-learn-course-data/kiva_loans/kiva_loans/kiva_loans.shp\"\n",
    "\n",
    "# Your code here: Load the data\n",
    "world_loans = gpd.read_file(loans_filepath)\n",
    "\n",
    "# Check your answer\n",
    "q_1.check()\n",
    "\n",
    "# Uncomment to view the first five rows of the data\n",
    "world_loans.head()"
   ]
  },
  {
   "cell_type": "code",
   "execution_count": null,
   "metadata": {},
   "outputs": [],
   "source": [
    "# Lines below will give you a hint or solution code\n",
    "#q_1.hint()\n",
    "#q_1.solution()"
   ]
  },
  {
   "cell_type": "markdown",
   "metadata": {},
   "source": [
    "### 2) Plot the data.\n",
    "\n",
    "Run the next code cell without changes to load a GeoDataFrame `world` containing country boundaries."
   ]
  },
  {
   "cell_type": "code",
   "execution_count": 3,
   "metadata": {
    "execution": {
     "iopub.execute_input": "2022-02-10T10:23:16.347930Z",
     "iopub.status.busy": "2022-02-10T10:23:16.347141Z",
     "iopub.status.idle": "2022-02-10T10:23:16.442614Z",
     "shell.execute_reply": "2022-02-10T10:23:16.441645Z",
     "shell.execute_reply.started": "2022-02-10T10:23:16.347869Z"
    }
   },
   "outputs": [],
   "source": [
    "# This dataset is provided in GeoPandas\n",
    "world_filepath = gpd.datasets.get_path('naturalearth_lowres')\n",
    "world = gpd.read_file(world_filepath)\n",
    "world.head()"
   ]
  },
  {
   "cell_type": "markdown",
   "metadata": {},
   "source": [
    "Use the `world` and `world_loans` GeoDataFrames to visualize Kiva loan locations across the world."
   ]
  },
  {
   "cell_type": "code",
   "execution_count": 6,
   "metadata": {
    "execution": {
     "iopub.execute_input": "2022-02-10T10:25:13.780040Z",
     "iopub.status.busy": "2022-02-10T10:25:13.779665Z",
     "iopub.status.idle": "2022-02-10T10:25:17.064785Z",
     "shell.execute_reply": "2022-02-10T10:25:17.063944Z",
     "shell.execute_reply.started": "2022-02-10T10:25:13.780000Z"
    }
   },
   "outputs": [],
   "source": [
    "# Your code here\n",
    "world.plot()\n",
    "world_loans.plot()\n",
    "\n",
    "# Uncomment to see a hint\n",
    "#q_2.hint()"
   ]
  },
  {
   "cell_type": "code",
   "execution_count": 7,
   "metadata": {
    "execution": {
     "iopub.execute_input": "2022-02-10T10:25:32.484389Z",
     "iopub.status.busy": "2022-02-10T10:25:32.483673Z",
     "iopub.status.idle": "2022-02-10T10:25:32.495032Z",
     "shell.execute_reply": "2022-02-10T10:25:32.494026Z",
     "shell.execute_reply.started": "2022-02-10T10:25:32.484327Z"
    }
   },
   "outputs": [],
   "source": [
    "# Get credit for your work after you have created a map\n",
    "q_2.check()\n",
    "\n",
    "# Uncomment to see our solution (your code may look different!)\n",
    "#q_2.solution()"
   ]
  },
  {
   "cell_type": "markdown",
   "metadata": {},
   "source": [
    "### 3) Select loans based in the Philippines.\n",
    "\n",
    "Next, you'll focus on loans that are based in the Philippines.  Use the next code cell to create a GeoDataFrame `PHL_loans` which contains all rows from `world_loans` with loans that are based in the Philippines."
   ]
  },
  {
   "cell_type": "code",
   "execution_count": 9,
   "metadata": {
    "execution": {
     "iopub.execute_input": "2022-02-10T10:29:03.793782Z",
     "iopub.status.busy": "2022-02-10T10:29:03.793436Z",
     "iopub.status.idle": "2022-02-10T10:29:04.334170Z",
     "shell.execute_reply": "2022-02-10T10:29:04.332080Z",
     "shell.execute_reply.started": "2022-02-10T10:29:03.793742Z"
    }
   },
   "outputs": [],
   "source": [
    "# Your code here\n",
    "PHL_loans = world_loans.loc[world_loans.country==\"Philippines\"].copy()\n",
    "\n",
    "# Check your answer\n",
    "q_3.check()"
   ]
  },
  {
   "cell_type": "code",
   "execution_count": 8,
   "metadata": {
    "execution": {
     "iopub.execute_input": "2022-02-10T10:28:29.213337Z",
     "iopub.status.busy": "2022-02-10T10:28:29.212378Z",
     "iopub.status.idle": "2022-02-10T10:28:29.223629Z",
     "shell.execute_reply": "2022-02-10T10:28:29.222752Z",
     "shell.execute_reply.started": "2022-02-10T10:28:29.213270Z"
    }
   },
   "outputs": [],
   "source": [
    "# Lines below will give you a hint or solution code\n",
    "#q_3.hint()\n",
    "#q_3.solution()"
   ]
  },
  {
   "cell_type": "markdown",
   "metadata": {},
   "source": [
    "### 4) Understand loans in the Philippines.\n",
    "\n",
    "Run the next code cell without changes to load a GeoDataFrame `PHL` containing boundaries for all islands in the Philippines."
   ]
  },
  {
   "cell_type": "code",
   "execution_count": 10,
   "metadata": {
    "execution": {
     "iopub.execute_input": "2022-02-10T10:29:19.306223Z",
     "iopub.status.busy": "2022-02-10T10:29:19.305583Z",
     "iopub.status.idle": "2022-02-10T10:29:24.212509Z",
     "shell.execute_reply": "2022-02-10T10:29:24.211624Z",
     "shell.execute_reply.started": "2022-02-10T10:29:19.306167Z"
    }
   },
   "outputs": [],
   "source": [
    "# Load a KML file containing island boundaries\n",
    "gpd.io.file.fiona.drvsupport.supported_drivers['KML'] = 'rw'\n",
    "PHL = gpd.read_file(\"../input/geospatial-learn-course-data/Philippines_AL258.kml\", driver='KML')\n",
    "PHL.head()"
   ]
  },
  {
   "cell_type": "markdown",
   "metadata": {},
   "source": [
    "Use the `PHL` and `PHL_loans` GeoDataFrames to visualize loans in the Philippines."
   ]
  },
  {
   "cell_type": "code",
   "execution_count": 16,
   "metadata": {
    "execution": {
     "iopub.execute_input": "2022-02-10T10:32:10.818260Z",
     "iopub.status.busy": "2022-02-10T10:32:10.817107Z",
     "iopub.status.idle": "2022-02-10T10:32:14.115012Z",
     "shell.execute_reply": "2022-02-10T10:32:14.114498Z",
     "shell.execute_reply.started": "2022-02-10T10:32:10.818194Z"
    }
   },
   "outputs": [],
   "source": [
    "# Your code here\n",
    "ax = PHL.plot(figsize=(12,12), color='whitesmoke', linestyle=':', edgecolor='lightgray')\n",
    "PHL_loans.plot(ax=ax, markersize=2)\n",
    "\n",
    "# Uncomment to see a hint\n",
    "#q_4.a.hint()"
   ]
  },
  {
   "cell_type": "code",
   "execution_count": 15,
   "metadata": {
    "execution": {
     "iopub.execute_input": "2022-02-10T10:31:24.761552Z",
     "iopub.status.busy": "2022-02-10T10:31:24.761199Z",
     "iopub.status.idle": "2022-02-10T10:31:24.779296Z",
     "shell.execute_reply": "2022-02-10T10:31:24.778161Z",
     "shell.execute_reply.started": "2022-02-10T10:31:24.761520Z"
    }
   },
   "outputs": [],
   "source": [
    "# Get credit for your work after you have created a map\n",
    "q_4.a.check()\n",
    "\n",
    "# Uncomment to see our solution (your code may look different!)\n",
    "q_4.a.solution()"
   ]
  },
  {
   "cell_type": "markdown",
   "metadata": {},
   "source": [
    "Can you identify any islands where it might be useful to recruit new Field Partners?  Do any islands currently look outside of Kiva's reach?\n",
    "\n",
    "You might find [this map](https://bit.ly/2U2G7x7) useful to answer the question."
   ]
  },
  {
   "cell_type": "code",
   "execution_count": 14,
   "metadata": {
    "execution": {
     "iopub.execute_input": "2022-02-10T10:31:01.478958Z",
     "iopub.status.busy": "2022-02-10T10:31:01.478588Z",
     "iopub.status.idle": "2022-02-10T10:31:01.488925Z",
     "shell.execute_reply": "2022-02-10T10:31:01.487946Z",
     "shell.execute_reply.started": "2022-02-10T10:31:01.478919Z"
    }
   },
   "outputs": [],
   "source": [
    "# View the solution (Run this code cell to receive credit!)\n",
    "q_4.b.solution()"
   ]
  },
  {
   "cell_type": "markdown",
   "metadata": {},
   "source": [
    "# Keep going\n",
    "\n",
    "Continue to learn about **[coordinate reference systems](https://www.kaggle.com/alexisbcook/coordinate-reference-systems)**."
   ]
  },
  {
   "cell_type": "markdown",
   "metadata": {},
   "source": [
    "---\n",
    "\n",
    "\n",
    "\n",
    "\n",
    "*Have questions or comments? Visit the [course discussion forum](https://www.kaggle.com/learn/geospatial-analysis/discussion) to chat with other learners.*"
   ]
  }
 ],
 "metadata": {
  "kernelspec": {
   "display_name": "Python 3",
   "language": "python",
   "name": "python3"
  },
  "language_info": {
   "codemirror_mode": {
    "name": "ipython",
    "version": 3
   },
   "file_extension": ".py",
   "mimetype": "text/x-python",
   "name": "python",
   "nbconvert_exporter": "python",
   "pygments_lexer": "ipython3",
   "version": "3.7.3"
  }
 },
 "nbformat": 4,
 "nbformat_minor": 4
}
