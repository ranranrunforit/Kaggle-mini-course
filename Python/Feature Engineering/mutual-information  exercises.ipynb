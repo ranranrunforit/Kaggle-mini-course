{
 "cells": [
  {
   "cell_type": "markdown",
   "metadata": {},
   "source": [
    "**This notebook is an exercise in the [Feature Engineering](https://www.kaggle.com/learn/feature-engineering) course.  You can reference the tutorial at [this link](https://www.kaggle.com/ryanholbrook/mutual-information).**\n",
    "\n",
    "---\n"
   ]
  },
  {
   "cell_type": "markdown",
   "metadata": {},
   "source": [
    "# Introduction #\n",
    "\n",
    "In this exercise you'll identify an initial set of features in the [*Ames*](https://www.kaggle.com/c/house-prices-advanced-regression-techniques/data) dataset to develop using mutual information scores and interaction plots.\n",
    "\n",
    "Run this cell to set everything up!"
   ]
  },
  {
   "cell_type": "code",
   "execution_count": 1,
   "metadata": {
    "execution": {
     "iopub.execute_input": "2022-02-14T01:55:33.254814Z",
     "iopub.status.busy": "2022-02-14T01:55:33.254031Z",
     "iopub.status.idle": "2022-02-14T01:55:34.931823Z",
     "shell.execute_reply": "2022-02-14T01:55:34.931109Z",
     "shell.execute_reply.started": "2022-02-14T01:55:33.254659Z"
    }
   },
   "outputs": [],
   "source": [
    "# Setup feedback system\n",
    "from learntools.core import binder\n",
    "binder.bind(globals())\n",
    "from learntools.feature_engineering_new.ex2 import *\n",
    "\n",
    "import matplotlib.pyplot as plt\n",
    "import numpy as np\n",
    "import pandas as pd\n",
    "import seaborn as sns\n",
    "from sklearn.feature_selection import mutual_info_regression\n",
    "\n",
    "# Set Matplotlib defaults\n",
    "plt.style.use(\"seaborn-whitegrid\")\n",
    "plt.rc(\"figure\", autolayout=True)\n",
    "plt.rc(\n",
    "    \"axes\",\n",
    "    labelweight=\"bold\",\n",
    "    labelsize=\"large\",\n",
    "    titleweight=\"bold\",\n",
    "    titlesize=14,\n",
    "    titlepad=10,\n",
    ")\n",
    "\n",
    "\n",
    "# Load data\n",
    "df = pd.read_csv(\"../input/fe-course-data/ames.csv\")\n",
    "\n",
    "\n",
    "# Utility functions from Tutorial\n",
    "def make_mi_scores(X, y):\n",
    "    X = X.copy()\n",
    "    for colname in X.select_dtypes([\"object\", \"category\"]):\n",
    "        X[colname], _ = X[colname].factorize()\n",
    "    # All discrete features should now have integer dtypes\n",
    "    discrete_features = [pd.api.types.is_integer_dtype(t) for t in X.dtypes]\n",
    "    mi_scores = mutual_info_regression(X, y, discrete_features=discrete_features, random_state=0)\n",
    "    mi_scores = pd.Series(mi_scores, name=\"MI Scores\", index=X.columns)\n",
    "    mi_scores = mi_scores.sort_values(ascending=False)\n",
    "    return mi_scores\n",
    "\n",
    "\n",
    "def plot_mi_scores(scores):\n",
    "    scores = scores.sort_values(ascending=True)\n",
    "    width = np.arange(len(scores))\n",
    "    ticks = list(scores.index)\n",
    "    plt.barh(width, scores)\n",
    "    plt.yticks(width, ticks)\n",
    "    plt.title(\"Mutual Information Scores\")"
   ]
  },
  {
   "cell_type": "markdown",
   "metadata": {},
   "source": [
    "-------------------------------------------------------------------------------\n",
    "\n",
    "To start, let's review the meaning of mutual information by looking at a few features from the *Ames* dataset."
   ]
  },
  {
   "cell_type": "code",
   "execution_count": 2,
   "metadata": {
    "execution": {
     "iopub.execute_input": "2022-02-14T01:55:37.301774Z",
     "iopub.status.busy": "2022-02-14T01:55:37.301456Z",
     "iopub.status.idle": "2022-02-14T01:55:38.283651Z",
     "shell.execute_reply": "2022-02-14T01:55:38.282809Z",
     "shell.execute_reply.started": "2022-02-14T01:55:37.301724Z"
    }
   },
   "outputs": [],
   "source": [
    "features = [\"YearBuilt\", \"MoSold\", \"ScreenPorch\"]\n",
    "sns.relplot(\n",
    "    x=\"value\", y=\"SalePrice\", col=\"variable\", data=df.melt(id_vars=\"SalePrice\", value_vars=features), facet_kws=dict(sharex=False),\n",
    ");"
   ]
  },
  {
   "cell_type": "markdown",
   "metadata": {},
   "source": [
    "# 1) Understand Mutual Information\n",
    "\n",
    "Based on the plots, which feature do you think would have the highest mutual information with `SalePrice`?"
   ]
  },
  {
   "cell_type": "code",
   "execution_count": 3,
   "metadata": {
    "execution": {
     "iopub.execute_input": "2022-02-14T01:56:07.962150Z",
     "iopub.status.busy": "2022-02-14T01:56:07.961814Z",
     "iopub.status.idle": "2022-02-14T01:56:07.971591Z",
     "shell.execute_reply": "2022-02-14T01:56:07.970629Z",
     "shell.execute_reply.started": "2022-02-14T01:56:07.962115Z"
    }
   },
   "outputs": [],
   "source": [
    "# View the solution (Run this cell to receive credit!)\n",
    "q_1.check()"
   ]
  },
  {
   "cell_type": "markdown",
   "metadata": {},
   "source": [
    "-------------------------------------------------------------------------------\n",
    "\n",
    "The *Ames* dataset has seventy-eight features -- a lot to work with all at once! Fortunately, you can identify the features with the most potential.\n",
    "\n",
    "Use the `make_mi_scores` function (introduced in the tutorial) to compute mutual information scores for the *Ames* features:\n"
   ]
  },
  {
   "cell_type": "code",
   "execution_count": 4,
   "metadata": {
    "execution": {
     "iopub.execute_input": "2022-02-14T01:57:39.484870Z",
     "iopub.status.busy": "2022-02-14T01:57:39.484491Z",
     "iopub.status.idle": "2022-02-14T01:57:43.250942Z",
     "shell.execute_reply": "2022-02-14T01:57:43.249874Z",
     "shell.execute_reply.started": "2022-02-14T01:57:39.484826Z"
    }
   },
   "outputs": [],
   "source": [
    "X = df.copy()\n",
    "y = X.pop('SalePrice')\n",
    "\n",
    "mi_scores = make_mi_scores(X, y)"
   ]
  },
  {
   "cell_type": "markdown",
   "metadata": {},
   "source": [
    "Now examine the scores using the functions in this cell. Look especially at top and bottom ranks."
   ]
  },
  {
   "cell_type": "code",
   "execution_count": 5,
   "metadata": {
    "execution": {
     "iopub.execute_input": "2022-02-14T01:58:02.863923Z",
     "iopub.status.busy": "2022-02-14T01:58:02.863415Z",
     "iopub.status.idle": "2022-02-14T01:58:03.412730Z",
     "shell.execute_reply": "2022-02-14T01:58:03.411565Z",
     "shell.execute_reply.started": "2022-02-14T01:58:02.863777Z"
    }
   },
   "outputs": [],
   "source": [
    "print(mi_scores.head(20))\n",
    "# print(mi_scores.tail(20))  # uncomment to see bottom 20\n",
    "\n",
    "plt.figure(dpi=100, figsize=(8, 5))\n",
    "plot_mi_scores(mi_scores.head(20))\n",
    "# plot_mi_scores(mi_scores.tail(20))  # uncomment to see bottom 20"
   ]
  },
  {
   "cell_type": "markdown",
   "metadata": {},
   "source": [
    "# 2) Examine MI Scores\n",
    "\n",
    "Do the scores seem reasonable? Do the high scoring features represent things you'd think most people would value in a home? Do you notice any themes in what they describe? "
   ]
  },
  {
   "cell_type": "code",
   "execution_count": 6,
   "metadata": {
    "execution": {
     "iopub.execute_input": "2022-02-14T01:58:25.165964Z",
     "iopub.status.busy": "2022-02-14T01:58:25.165571Z",
     "iopub.status.idle": "2022-02-14T01:58:25.174941Z",
     "shell.execute_reply": "2022-02-14T01:58:25.174077Z",
     "shell.execute_reply.started": "2022-02-14T01:58:25.165924Z"
    }
   },
   "outputs": [],
   "source": [
    "# View the solution (Run this cell to receive credit!)\n",
    "q_2.check()"
   ]
  },
  {
   "cell_type": "markdown",
   "metadata": {},
   "source": [
    "-------------------------------------------------------------------------------\n",
    "\n",
    "In this step you'll investigate possible interaction effects for the `BldgType` feature. This feature describes the broad structure of the dwelling in five categories:\n",
    "\n",
    "> Bldg Type (Nominal): Type of dwelling\n",
    ">\t\t\n",
    ">       1Fam\tSingle-family Detached\t\n",
    ">       2FmCon\tTwo-family Conversion; originally built as one-family dwelling\n",
    ">       Duplx\tDuplex\n",
    ">       TwnhsE\tTownhouse End Unit\n",
    ">       TwnhsI\tTownhouse Inside Unit\n",
    "\n",
    "The `BldgType` feature didn't get a very high MI score. A plot confirms that the categories in `BldgType` don't do a good job of distinguishing values in `SalePrice` (the distributions look fairly similar, in other words):"
   ]
  },
  {
   "cell_type": "code",
   "execution_count": 7,
   "metadata": {
    "execution": {
     "iopub.execute_input": "2022-02-14T01:59:41.875794Z",
     "iopub.status.busy": "2022-02-14T01:59:41.875389Z",
     "iopub.status.idle": "2022-02-14T01:59:42.350686Z",
     "shell.execute_reply": "2022-02-14T01:59:42.349688Z",
     "shell.execute_reply.started": "2022-02-14T01:59:41.875727Z"
    }
   },
   "outputs": [],
   "source": [
    "sns.catplot(x=\"BldgType\", y=\"SalePrice\", data=df, kind=\"boxen\");\n"
   ]
  },
  {
   "cell_type": "markdown",
   "metadata": {},
   "source": [
    "Still, the type of a dwelling seems like it should be important information. Investigate whether `BldgType` produces a significant interaction with either of the following:\n",
    "\n",
    "```\n",
    "GrLivArea  # Above ground living area\n",
    "MoSold     # Month sold\n",
    "```\n",
    "\n",
    "Run the following cell twice, the first time with `feature = \"GrLivArea\"` and the next time with `feature=\"MoSold\"`:"
   ]
  },
  {
   "cell_type": "code",
   "execution_count": 10,
   "metadata": {
    "execution": {
     "iopub.execute_input": "2022-02-14T02:01:35.295221Z",
     "iopub.status.busy": "2022-02-14T02:01:35.294895Z",
     "iopub.status.idle": "2022-02-14T02:01:37.281080Z",
     "shell.execute_reply": "2022-02-14T02:01:37.279982Z",
     "shell.execute_reply.started": "2022-02-14T02:01:35.295187Z"
    }
   },
   "outputs": [],
   "source": [
    "# YOUR CODE HERE: \n",
    "feature = \"GrLivArea\"\n",
    "# feature = \"MoSold\"\n",
    "sns.lmplot(\n",
    "    x=feature, y=\"SalePrice\", hue=\"BldgType\", col=\"BldgType\",\n",
    "    data=df, scatter_kws={\"edgecolor\": 'w'}, col_wrap=3, height=4,\n",
    ");"
   ]
  },
  {
   "cell_type": "markdown",
   "metadata": {},
   "source": [
    "The trend lines being significantly different from one category to the next indicates an interaction effect."
   ]
  },
  {
   "cell_type": "markdown",
   "metadata": {},
   "source": [
    "# 3) Discover Interactions\n",
    "\n",
    "From the plots, does `BldgType` seem to exhibit an interaction effect with either `GrLivArea` or `MoSold`?"
   ]
  },
  {
   "cell_type": "code",
   "execution_count": 11,
   "metadata": {
    "execution": {
     "iopub.execute_input": "2022-02-14T02:01:43.263480Z",
     "iopub.status.busy": "2022-02-14T02:01:43.263174Z",
     "iopub.status.idle": "2022-02-14T02:01:43.272581Z",
     "shell.execute_reply": "2022-02-14T02:01:43.271663Z",
     "shell.execute_reply.started": "2022-02-14T02:01:43.263446Z"
    }
   },
   "outputs": [],
   "source": [
    "# View the solution (Run this cell to receive credit!)\n",
    "q_3.check()"
   ]
  },
  {
   "cell_type": "markdown",
   "metadata": {},
   "source": [
    "# A First Set of Development Features #\n",
    "\n",
    "Let's take a moment to make a list of features we might focus on. In the exercise in Lesson 3, you'll start to build up a more informative feature set through combinations of the original features you identified as having high potential.\n",
    "\n",
    "You found that the ten features with the highest MI scores were:"
   ]
  },
  {
   "cell_type": "code",
   "execution_count": 12,
   "metadata": {
    "execution": {
     "iopub.execute_input": "2022-02-14T02:02:32.961637Z",
     "iopub.status.busy": "2022-02-14T02:02:32.961304Z",
     "iopub.status.idle": "2022-02-14T02:02:32.969866Z",
     "shell.execute_reply": "2022-02-14T02:02:32.969017Z",
     "shell.execute_reply.started": "2022-02-14T02:02:32.961602Z"
    }
   },
   "outputs": [],
   "source": [
    "mi_scores.head(10)"
   ]
  },
  {
   "cell_type": "markdown",
   "metadata": {},
   "source": [
    "Do you recognize the themes here? Location, size, and quality. You needn't restrict development to only these top features, but you do now have a good place to start. Combining these top features with other related features, especially those you've identified as creating interactions, is a good strategy for coming up with a highly informative set of features to train your model on.\n",
    "\n",
    "# Keep Going #\n",
    "\n",
    "[**Start creating features**](https://www.kaggle.com/ryanholbrook/creating-features) and learn what kinds of transformations different models are most likely to benefit from."
   ]
  }
 ],
 "metadata": {
  "jupytext": {
   "cell_metadata_filter": "-all",
   "formats": "ipynb"
  },
  "kernelspec": {
   "display_name": "Python 3",
   "language": "python",
   "name": "python3"
  },
  "language_info": {
   "codemirror_mode": {
    "name": "ipython",
    "version": 3
   },
   "file_extension": ".py",
   "mimetype": "text/x-python",
   "name": "python",
   "nbconvert_exporter": "python",
   "pygments_lexer": "ipython3",
   "version": "3.7.3"
  }
 },
 "nbformat": 4,
 "nbformat_minor": 4
}
