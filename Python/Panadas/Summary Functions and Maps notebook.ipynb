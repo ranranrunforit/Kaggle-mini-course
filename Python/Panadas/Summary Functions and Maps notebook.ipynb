{
 "cells": [
  {
   "cell_type": "markdown",
   "metadata": {},
   "source": [
    "**This notebook is an exercise in the [Pandas](https://www.kaggle.com/learn/pandas) course.  You can reference the tutorial at [this link](https://www.kaggle.com/residentmario/summary-functions-and-maps).**\n",
    "\n",
    "---\n"
   ]
  },
  {
   "cell_type": "markdown",
   "metadata": {},
   "source": [
    "# Introduction\n",
    "\n",
    "Now you are ready to get a deeper understanding of your data.\n",
    "\n",
    "Run the following cell to load your data and some utility functions (including code to check your answers)."
   ]
  },
  {
   "cell_type": "code",
   "execution_count": 2,
   "metadata": {
    "execution": {
     "iopub.execute_input": "2022-02-04T08:19:38.440833Z",
     "iopub.status.busy": "2022-02-04T08:19:38.440236Z",
     "iopub.status.idle": "2022-02-04T08:19:39.562883Z",
     "shell.execute_reply": "2022-02-04T08:19:39.561937Z",
     "shell.execute_reply.started": "2022-02-04T08:19:38.440769Z"
    }
   },
   "outputs": [],
   "source": [
    "import pandas as pd\n",
    "pd.set_option(\"display.max_rows\", 5)\n",
    "reviews = pd.read_csv(\"../input/wine-reviews/winemag-data-130k-v2.csv\", index_col=0)\n",
    "\n",
    "from learntools.core import binder; binder.bind(globals())\n",
    "from learntools.pandas.summary_functions_and_maps import *\n",
    "print(\"Setup complete.\")\n",
    "\n",
    "reviews.head()"
   ]
  },
  {
   "cell_type": "markdown",
   "metadata": {},
   "source": [
    "# Exercises"
   ]
  },
  {
   "cell_type": "markdown",
   "metadata": {},
   "source": [
    "## 1.\n",
    "\n",
    "What is the median of the `points` column in the `reviews` DataFrame?"
   ]
  },
  {
   "cell_type": "code",
   "execution_count": null,
   "metadata": {
    "execution": {
     "iopub.execute_input": "2022-02-04T08:00:27.058662Z",
     "iopub.status.busy": "2022-02-04T08:00:27.057906Z",
     "iopub.status.idle": "2022-02-04T08:00:27.073193Z",
     "shell.execute_reply": "2022-02-04T08:00:27.07245Z",
     "shell.execute_reply.started": "2022-02-04T08:00:27.058606Z"
    }
   },
   "outputs": [],
   "source": [
    "median_points = reviews.points.median()\n",
    "\n",
    "# Check your answer\n",
    "q1.check()"
   ]
  },
  {
   "cell_type": "code",
   "execution_count": null,
   "metadata": {},
   "outputs": [],
   "source": [
    "#q1.hint()\n",
    "#q1.solution()"
   ]
  },
  {
   "cell_type": "markdown",
   "metadata": {},
   "source": [
    "## 2. \n",
    "What countries are represented in the dataset? (Your answer should not include any duplicates.)"
   ]
  },
  {
   "cell_type": "code",
   "execution_count": null,
   "metadata": {
    "execution": {
     "iopub.execute_input": "2022-02-04T08:01:11.429517Z",
     "iopub.status.busy": "2022-02-04T08:01:11.429129Z",
     "iopub.status.idle": "2022-02-04T08:01:11.453356Z",
     "shell.execute_reply": "2022-02-04T08:01:11.452459Z",
     "shell.execute_reply.started": "2022-02-04T08:01:11.429476Z"
    }
   },
   "outputs": [],
   "source": [
    "countries = reviews.country.unique()\n",
    "\n",
    "# Check your answer\n",
    "q2.check()"
   ]
  },
  {
   "cell_type": "code",
   "execution_count": null,
   "metadata": {},
   "outputs": [],
   "source": [
    "#q2.hint()\n",
    "#q2.solution()"
   ]
  },
  {
   "cell_type": "markdown",
   "metadata": {},
   "source": [
    "## 3.\n",
    "How often does each country appear in the dataset? Create a Series `reviews_per_country` mapping countries to the count of reviews of wines from that country."
   ]
  },
  {
   "cell_type": "code",
   "execution_count": null,
   "metadata": {
    "execution": {
     "iopub.execute_input": "2022-02-04T08:01:32.818191Z",
     "iopub.status.busy": "2022-02-04T08:01:32.81695Z",
     "iopub.status.idle": "2022-02-04T08:01:32.849901Z",
     "shell.execute_reply": "2022-02-04T08:01:32.848608Z",
     "shell.execute_reply.started": "2022-02-04T08:01:32.818123Z"
    }
   },
   "outputs": [],
   "source": [
    "reviews_per_country = reviews.country.value_counts()\n",
    "\n",
    "# Check your answer\n",
    "q3.check()"
   ]
  },
  {
   "cell_type": "code",
   "execution_count": null,
   "metadata": {},
   "outputs": [],
   "source": [
    "#q3.hint()\n",
    "#q3.solution()"
   ]
  },
  {
   "cell_type": "markdown",
   "metadata": {},
   "source": [
    "## 4.\n",
    "Create variable `centered_price` containing a version of the `price` column with the mean price subtracted.\n",
    "\n",
    "(Note: this 'centering' transformation is a common preprocessing step before applying various machine learning algorithms.) "
   ]
  },
  {
   "cell_type": "code",
   "execution_count": null,
   "metadata": {
    "execution": {
     "iopub.execute_input": "2022-02-04T08:03:42.630794Z",
     "iopub.status.busy": "2022-02-04T08:03:42.630196Z",
     "iopub.status.idle": "2022-02-04T08:04:22.837974Z",
     "shell.execute_reply": "2022-02-04T08:04:22.837039Z",
     "shell.execute_reply.started": "2022-02-04T08:03:42.630722Z"
    }
   },
   "outputs": [],
   "source": [
    "centered_price = reviews.price.map(lambda p:p-reviews.price.mean())\n",
    "\n",
    "# Check your answer\n",
    "q4.check()"
   ]
  },
  {
   "cell_type": "code",
   "execution_count": null,
   "metadata": {},
   "outputs": [],
   "source": [
    "#q4.hint()\n",
    "#q4.solution()"
   ]
  },
  {
   "cell_type": "markdown",
   "metadata": {},
   "source": [
    "## 5.\n",
    "I'm an economical wine buyer. Which wine is the \"best bargain\"? Create a variable `bargain_wine` with the title of the wine with the highest points-to-price ratio in the dataset."
   ]
  },
  {
   "cell_type": "code",
   "execution_count": null,
   "metadata": {
    "execution": {
     "iopub.execute_input": "2022-02-04T08:06:36.092522Z",
     "iopub.status.busy": "2022-02-04T08:06:36.09216Z",
     "iopub.status.idle": "2022-02-04T08:06:36.104374Z",
     "shell.execute_reply": "2022-02-04T08:06:36.103496Z",
     "shell.execute_reply.started": "2022-02-04T08:06:36.092482Z"
    }
   },
   "outputs": [],
   "source": [
    "#bargain_idx = (reviews.points / reviews.price).idxmax()\n",
    "bargain_wine =  reviews.loc[(reviews.points / reviews.price).idxmax(), 'title']\n",
    "\n",
    "# Check your answer\n",
    "q5.check()"
   ]
  },
  {
   "cell_type": "code",
   "execution_count": null,
   "metadata": {
    "execution": {
     "iopub.execute_input": "2022-02-04T08:05:07.853831Z",
     "iopub.status.busy": "2022-02-04T08:05:07.853441Z",
     "iopub.status.idle": "2022-02-04T08:05:07.867493Z",
     "shell.execute_reply": "2022-02-04T08:05:07.866717Z",
     "shell.execute_reply.started": "2022-02-04T08:05:07.853766Z"
    }
   },
   "outputs": [],
   "source": [
    "#q5.hint()\n",
    "#q5.solution()"
   ]
  },
  {
   "cell_type": "markdown",
   "metadata": {},
   "source": [
    "## 6.\n",
    "There are only so many words you can use when describing a bottle of wine. Is a wine more likely to be \"tropical\" or \"fruity\"? Create a Series `descriptor_counts` counting how many times each of these two words appears in the `description` column in the dataset. (For simplicity, let's ignore the capitalized versions of these words.)"
   ]
  },
  {
   "cell_type": "code",
   "execution_count": null,
   "metadata": {
    "execution": {
     "iopub.execute_input": "2022-02-04T08:11:57.174594Z",
     "iopub.status.busy": "2022-02-04T08:11:57.174242Z",
     "iopub.status.idle": "2022-02-04T08:11:57.340896Z",
     "shell.execute_reply": "2022-02-04T08:11:57.339855Z",
     "shell.execute_reply.started": "2022-02-04T08:11:57.174556Z"
    }
   },
   "outputs": [],
   "source": [
    "n_trop = reviews.description.map(lambda desc: \"tropical\" in desc).sum()\n",
    "n_fruity = reviews.description.map(lambda desc: \"fruity\" in desc).sum()\n",
    "descriptor_counts = pd.Series([n_trop, n_fruity], index=['tropical', 'fruity'])\n",
    "\n",
    "\n",
    "# Check your answer\n",
    "q6.check()\n",
    "descriptor_counts "
   ]
  },
  {
   "cell_type": "code",
   "execution_count": null,
   "metadata": {
    "execution": {
     "iopub.execute_input": "2022-02-04T08:08:07.208039Z",
     "iopub.status.busy": "2022-02-04T08:08:07.206863Z",
     "iopub.status.idle": "2022-02-04T08:08:07.217871Z",
     "shell.execute_reply": "2022-02-04T08:08:07.216996Z",
     "shell.execute_reply.started": "2022-02-04T08:08:07.207975Z"
    }
   },
   "outputs": [],
   "source": [
    "#q6.hint()\n",
    "q6.solution()"
   ]
  },
  {
   "cell_type": "markdown",
   "metadata": {},
   "source": [
    "## 7.\n",
    "We'd like to host these wine reviews on our website, but a rating system ranging from 80 to 100 points is too hard to understand - we'd like to translate them into simple star ratings. A score of 95 or higher counts as 3 stars, a score of at least 85 but less than 95 is 2 stars. Any other score is 1 star.\n",
    "\n",
    "Also, the Canadian Vintners Association bought a lot of ads on the site, so any wines from Canada should automatically get 3 stars, regardless of points.\n",
    "\n",
    "Create a series `star_ratings` with the number of stars corresponding to each review in the dataset."
   ]
  },
  {
   "cell_type": "code",
   "execution_count": 6,
   "metadata": {
    "execution": {
     "iopub.execute_input": "2022-02-04T08:25:19.906236Z",
     "iopub.status.busy": "2022-02-04T08:25:19.905684Z",
     "iopub.status.idle": "2022-02-04T08:25:23.306325Z",
     "shell.execute_reply": "2022-02-04T08:25:23.305393Z",
     "shell.execute_reply.started": "2022-02-04T08:25:19.906188Z"
    }
   },
   "outputs": [],
   "source": [
    "def star_rate(row):\n",
    "    if row.country == 'Canada':\n",
    "        return 3\n",
    "    elif row.points >=95:\n",
    "        return 3\n",
    "    elif row.points >=85:\n",
    "        return 2\n",
    "    else:\n",
    "        return 1\n",
    "\n",
    "\n",
    "star_ratings = reviews.apply(star_rate,axis='columns')\n",
    "\n",
    "# Check your answer\n",
    "q7.check()\n",
    "star_ratings"
   ]
  },
  {
   "cell_type": "code",
   "execution_count": 3,
   "metadata": {
    "execution": {
     "iopub.execute_input": "2022-02-04T08:21:30.108977Z",
     "iopub.status.busy": "2022-02-04T08:21:30.108625Z",
     "iopub.status.idle": "2022-02-04T08:21:30.117921Z",
     "shell.execute_reply": "2022-02-04T08:21:30.117086Z",
     "shell.execute_reply.started": "2022-02-04T08:21:30.108941Z"
    }
   },
   "outputs": [],
   "source": [
    "#q7.hint()\n",
    "q7.solution()"
   ]
  },
  {
   "cell_type": "markdown",
   "metadata": {},
   "source": [
    "# Keep going\n",
    "Continue to **[grouping and sorting](https://www.kaggle.com/residentmario/grouping-and-sorting)**."
   ]
  },
  {
   "cell_type": "markdown",
   "metadata": {},
   "source": [
    "---\n",
    "\n",
    "\n",
    "\n",
    "\n",
    "*Have questions or comments? Visit the [course discussion forum](https://www.kaggle.com/learn/pandas/discussion) to chat with other learners.*"
   ]
  }
 ],
 "metadata": {
  "kernelspec": {
   "display_name": "Python 3",
   "language": "python",
   "name": "python3"
  },
  "language_info": {
   "codemirror_mode": {
    "name": "ipython",
    "version": 3
   },
   "file_extension": ".py",
   "mimetype": "text/x-python",
   "name": "python",
   "nbconvert_exporter": "python",
   "pygments_lexer": "ipython3",
   "version": "3.7.3"
  }
 },
 "nbformat": 4,
 "nbformat_minor": 4
}
