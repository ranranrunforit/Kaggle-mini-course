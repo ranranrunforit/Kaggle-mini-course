{
 "cells": [
  {
   "cell_type": "markdown",
   "metadata": {},
   "source": [
    "**This notebook is an exercise in the [Python](https://www.kaggle.com/learn/python) course.  You can reference the tutorial at [this link](https://www.kaggle.com/colinmorris/hello-python).**\n",
    "\n",
    "---\n"
   ]
  },
  {
   "cell_type": "markdown",
   "metadata": {},
   "source": [
    "Welcome to your first set of Python coding problems.  If this is your first time using Kaggle Notebooks, welcome! \n",
    "\n",
    "Notebooks are composed of blocks (called \"cells\") of text and code. Each of these is editable, though you'll mainly be editing the code cells to answer some questions.\n",
    "\n",
    "To get started, try running the code cell below (by pressing the ► button, or clicking on the cell and pressing ctrl+enter on your keyboard)."
   ]
  },
  {
   "cell_type": "code",
   "execution_count": 1,
   "metadata": {
    "execution": {
     "iopub.execute_input": "2022-01-12T02:43:35.208985Z",
     "iopub.status.busy": "2022-01-12T02:43:35.208503Z",
     "iopub.status.idle": "2022-01-12T02:43:35.254076Z",
     "shell.execute_reply": "2022-01-12T02:43:35.253112Z",
     "shell.execute_reply.started": "2022-01-12T02:43:35.208857Z"
    }
   },
   "outputs": [],
   "source": [
    "print(\"You've successfully run some Python code\")\n",
    "print(\"Congratulations!\") "
   ]
  },
  {
   "cell_type": "markdown",
   "metadata": {},
   "source": [
    "Try adding another line of code in the cell above and re-running it. \n",
    "\n",
    "Now let's get a little fancier:  Add a new code cell by clicking on an existing code cell, hitting the escape key, and then hitting the `a` or `b` key.  The `a` key will add a cell above the current cell, and `b` adds a cell below.\n",
    "\n",
    "Great! Now you know how to use Notebooks.\n",
    "\n",
    "Each hands-on exercise starts by setting up our feedback and code checking mechanism. Run the code cell below to do that. Then you'll be ready to move on to question 0."
   ]
  },
  {
   "cell_type": "code",
   "execution_count": 2,
   "metadata": {
    "_kg_hide-input": true,
    "_kg_hide-output": true,
    "execution": {
     "iopub.execute_input": "2022-01-12T02:45:57.862255Z",
     "iopub.status.busy": "2022-01-12T02:45:57.861824Z",
     "iopub.status.idle": "2022-01-12T02:45:57.901437Z",
     "shell.execute_reply": "2022-01-12T02:45:57.900391Z",
     "shell.execute_reply.started": "2022-01-12T02:45:57.862213Z"
    }
   },
   "outputs": [],
   "source": [
    "from learntools.core import binder; binder.bind(globals())\n",
    "from learntools.python.ex1 import *\n",
    "print(\"Setup complete! You're ready to start question 0.\")"
   ]
  },
  {
   "cell_type": "markdown",
   "metadata": {},
   "source": [
    "# 0.\n",
    "\n",
    "*This is a silly question intended as an introduction to the format we use for hands-on exercises throughout all Kaggle courses.*\n",
    "\n",
    "**What is your favorite color? **\n",
    "\n",
    "To complete this question, create a variable called `color` in the cell below with an appropriate value. The function call `q0.check()` (which we've already provided in the cell below) will check your answer."
   ]
  },
  {
   "cell_type": "code",
   "execution_count": 3,
   "metadata": {
    "execution": {
     "iopub.execute_input": "2022-01-12T02:47:18.013521Z",
     "iopub.status.busy": "2022-01-12T02:47:18.013092Z",
     "iopub.status.idle": "2022-01-12T02:47:18.029903Z",
     "shell.execute_reply": "2022-01-12T02:47:18.028367Z",
     "shell.execute_reply.started": "2022-01-12T02:47:18.013473Z"
    }
   },
   "outputs": [],
   "source": [
    "# create a variable called color with an appropriate value on the line below\n",
    "# (Remember, strings in Python must be enclosed in 'single' or \"double\" quotes)\n",
    "____\n",
    "color = \"blue\"\n",
    "# Check your answer\n",
    "q0.check()"
   ]
  },
  {
   "cell_type": "markdown",
   "metadata": {},
   "source": [
    "Didn't get the right answer? How do you not even know your own favorite color?!\n",
    "\n",
    "Delete the `#` in the line below to make one of the lines run. You can choose between getting a hint or the full answer by choosing which line to remove the `#` from. \n",
    "\n",
    "Removing the `#` is called uncommenting, because it changes that line from a \"comment\" which Python doesn't run to code, which Python does run."
   ]
  },
  {
   "cell_type": "code",
   "execution_count": null,
   "metadata": {},
   "outputs": [],
   "source": [
    "#q0.hint()\n",
    "#q0.solution()"
   ]
  },
  {
   "cell_type": "markdown",
   "metadata": {},
   "source": [
    "The upcoming questions work the same way. The only thing that will change are the question numbers. For the next question, you'll call `q1.check()`, `q1.hint()`, `q1.solution()`, for question 2, you'll call `q2.check()`, and so on."
   ]
  },
  {
   "cell_type": "markdown",
   "metadata": {},
   "source": [
    "<hr/>\n",
    "\n",
    "# 1.\n",
    "\n",
    "Complete the code below. In case it's helpful, here is the table of available arithmetic operations:\n",
    "\n",
    "\n",
    "\n",
    "| Operator     | Name           | Description                                            |\n",
    "|--------------|----------------|--------------------------------------------------------|\n",
    "| ``a + b``    | Addition       | Sum of ``a`` and ``b``                                 |\n",
    "| ``a - b``    | Subtraction    | Difference of ``a`` and ``b``                          |\n",
    "| ``a * b``    | Multiplication | Product of ``a`` and ``b``                             |\n",
    "| ``a / b``    | True division  | Quotient of ``a`` and ``b``                            |\n",
    "| ``a // b``   | Floor division | Quotient of ``a`` and ``b``, removing fractional parts |\n",
    "| ``a % b``    | Modulus        | Integer remainder after division of ``a`` by ``b``     |\n",
    "| ``a ** b``   | Exponentiation | ``a`` raised to the power of ``b``                     |\n",
    "| ``-a``       | Negation       | The negative of ``a``                                  |\n",
    "\n",
    "<span style=\"display:none\"></span>\n"
   ]
  },
  {
   "cell_type": "code",
   "execution_count": 7,
   "metadata": {
    "execution": {
     "iopub.execute_input": "2022-01-12T02:49:35.432777Z",
     "iopub.status.busy": "2022-01-12T02:49:35.431980Z",
     "iopub.status.idle": "2022-01-12T02:49:35.444931Z",
     "shell.execute_reply": "2022-01-12T02:49:35.443382Z",
     "shell.execute_reply.started": "2022-01-12T02:49:35.432726Z"
    }
   },
   "outputs": [],
   "source": [
    "pi = 3.14159 # approximate\n",
    "diameter = 3\n",
    "\n",
    "# Create a variable called 'radius' equal to half the diameter\n",
    "radius = diameter/2\n",
    "____\n",
    "\n",
    "# Create a variable called 'area', using the formula for the area of a circle: pi times the radius squared\n",
    "area = pi*radius**2\n",
    "____\n",
    "\n",
    "# Check your answer\n",
    "q1.check()"
   ]
  },
  {
   "cell_type": "code",
   "execution_count": null,
   "metadata": {},
   "outputs": [],
   "source": [
    "# Uncomment and run the lines below if you need help.\n",
    "#q1.hint()\n",
    "#q1.solution()"
   ]
  },
  {
   "cell_type": "markdown",
   "metadata": {},
   "source": [
    "<hr/>\n",
    "\n",
    "# 2.\n",
    "\n",
    "Add code to the following cell to swap variables `a` and `b` (so that `a` refers to the object previously referred to by `b` and vice versa)."
   ]
  },
  {
   "cell_type": "code",
   "execution_count": 9,
   "metadata": {
    "execution": {
     "iopub.execute_input": "2022-01-12T02:51:56.964907Z",
     "iopub.status.busy": "2022-01-12T02:51:56.964587Z",
     "iopub.status.idle": "2022-01-12T02:51:56.976555Z",
     "shell.execute_reply": "2022-01-12T02:51:56.975372Z",
     "shell.execute_reply.started": "2022-01-12T02:51:56.964875Z"
    }
   },
   "outputs": [],
   "source": [
    "########### Setup code - don't touch this part ######################\n",
    "# If you're curious, these are examples of lists. We'll talk about \n",
    "# them in depth a few lessons from now. For now, just know that they're\n",
    "# yet another type of Python object, like int or float.\n",
    "a = [1, 2, 3]\n",
    "b = [3, 2, 1]\n",
    "q2.store_original_ids()\n",
    "######################################################################\n",
    "\n",
    "# Your code goes here. Swap the values to which a and b refer.\n",
    "# If you get stuck, you can always uncomment one or both of the lines in\n",
    "# the next cell for a hint, or to peek at the solution.\n",
    "\n",
    "#temp = b\n",
    "#b = a\n",
    "#a = temp\n",
    "a,b = b,a\n",
    "######################################################################\n",
    "\n",
    "# Check your answer\n",
    "q2.check()"
   ]
  },
  {
   "cell_type": "code",
   "execution_count": null,
   "metadata": {},
   "outputs": [],
   "source": [
    "#q2.hint()"
   ]
  },
  {
   "cell_type": "code",
   "execution_count": null,
   "metadata": {},
   "outputs": [],
   "source": [
    "#q2.solution()"
   ]
  },
  {
   "cell_type": "markdown",
   "metadata": {},
   "source": [
    "<hr/>\n",
    "\n",
    "# 3a.\n",
    "\n",
    "Add parentheses to the following expression so that it evaluates to 1."
   ]
  },
  {
   "cell_type": "code",
   "execution_count": 10,
   "metadata": {
    "execution": {
     "iopub.execute_input": "2022-01-12T02:52:18.602181Z",
     "iopub.status.busy": "2022-01-12T02:52:18.601328Z",
     "iopub.status.idle": "2022-01-12T02:52:18.612021Z",
     "shell.execute_reply": "2022-01-12T02:52:18.610822Z",
     "shell.execute_reply.started": "2022-01-12T02:52:18.602127Z"
    }
   },
   "outputs": [],
   "source": [
    "(5 - 3) // 2"
   ]
  },
  {
   "cell_type": "code",
   "execution_count": null,
   "metadata": {},
   "outputs": [],
   "source": [
    "#q3.a.hint()"
   ]
  },
  {
   "cell_type": "code",
   "execution_count": 11,
   "metadata": {
    "execution": {
     "iopub.execute_input": "2022-01-12T02:52:26.772472Z",
     "iopub.status.busy": "2022-01-12T02:52:26.771795Z",
     "iopub.status.idle": "2022-01-12T02:52:26.784324Z",
     "shell.execute_reply": "2022-01-12T02:52:26.783349Z",
     "shell.execute_reply.started": "2022-01-12T02:52:26.772425Z"
    }
   },
   "outputs": [],
   "source": [
    "# Check your answer (Run this code cell to receive credit!)\n",
    "q3.a.solution()"
   ]
  },
  {
   "cell_type": "markdown",
   "metadata": {},
   "source": [
    "# 3b.  <span title=\"A bit spicy\" style=\"color: darkgreen \">🌶️</span>\n",
    "\n",
    "<small>Questions, like this one, marked a spicy pepper are a bit harder.</small>\n",
    "\n",
    "Add parentheses to the following expression so that it evaluates to 0."
   ]
  },
  {
   "cell_type": "code",
   "execution_count": 12,
   "metadata": {
    "execution": {
     "iopub.execute_input": "2022-01-12T02:53:08.327637Z",
     "iopub.status.busy": "2022-01-12T02:53:08.326824Z",
     "iopub.status.idle": "2022-01-12T02:53:08.335331Z",
     "shell.execute_reply": "2022-01-12T02:53:08.334398Z",
     "shell.execute_reply.started": "2022-01-12T02:53:08.327583Z"
    }
   },
   "outputs": [],
   "source": [
    "8 - (3 * 2) - (1 + 1)"
   ]
  },
  {
   "cell_type": "code",
   "execution_count": null,
   "metadata": {},
   "outputs": [],
   "source": [
    "#q3.b.hint()"
   ]
  },
  {
   "cell_type": "code",
   "execution_count": 13,
   "metadata": {
    "execution": {
     "iopub.execute_input": "2022-01-12T02:53:14.157409Z",
     "iopub.status.busy": "2022-01-12T02:53:14.156868Z",
     "iopub.status.idle": "2022-01-12T02:53:14.166497Z",
     "shell.execute_reply": "2022-01-12T02:53:14.165600Z",
     "shell.execute_reply.started": "2022-01-12T02:53:14.157356Z"
    }
   },
   "outputs": [],
   "source": [
    "# Check your answer (Run this code cell to receive credit!)\n",
    "q3.b.solution()"
   ]
  },
  {
   "cell_type": "markdown",
   "metadata": {},
   "source": [
    "<hr/>\n",
    "\n",
    "# 4. \n",
    "Alice, Bob and Carol have agreed to pool their Halloween candy and split it evenly among themselves.\n",
    "For the sake of their friendship, any candies left over will be smashed. For example, if they collectively\n",
    "bring home 91 candies, they'll take 30 each and smash 1.\n",
    "\n",
    "Write an arithmetic expression below to calculate how many candies they must smash for a given haul."
   ]
  },
  {
   "cell_type": "code",
   "execution_count": 14,
   "metadata": {
    "execution": {
     "iopub.execute_input": "2022-01-12T02:56:45.420238Z",
     "iopub.status.busy": "2022-01-12T02:56:45.419913Z",
     "iopub.status.idle": "2022-01-12T02:56:45.430241Z",
     "shell.execute_reply": "2022-01-12T02:56:45.429385Z",
     "shell.execute_reply.started": "2022-01-12T02:56:45.420206Z"
    }
   },
   "outputs": [],
   "source": [
    "# Variables representing the number of candies collected by alice, bob, and carol\n",
    "alice_candies = 121\n",
    "bob_candies = 77\n",
    "carol_candies = 109\n",
    "\n",
    "# Your code goes here! Replace the right-hand side of this assignment with an expression\n",
    "# involving alice_candies, bob_candies, and carol_candies\n",
    "to_smash = (alice_candies+bob_candies+carol_candies)%3\n",
    "\n",
    "# Check your answer\n",
    "q4.check()"
   ]
  },
  {
   "cell_type": "code",
   "execution_count": null,
   "metadata": {},
   "outputs": [],
   "source": [
    "#q4.hint()\n",
    "#q4.solution()"
   ]
  },
  {
   "cell_type": "markdown",
   "metadata": {},
   "source": [
    "# Keep Going\n",
    "\n",
    "Next up, you'll **[learn to write new functions and understand functions others write](https://www.kaggle.com/colinmorris/functions-and-getting-help)**. This will make you at least 10 times more productive as a Python programmer. "
   ]
  },
  {
   "cell_type": "markdown",
   "metadata": {},
   "source": [
    "---\n",
    "\n",
    "\n",
    "\n",
    "\n",
    "*Have questions or comments? Visit the [course discussion forum](https://www.kaggle.com/learn/python/discussion) to chat with other learners.*"
   ]
  }
 ],
 "metadata": {
  "kernelspec": {
   "display_name": "Python 3",
   "language": "python",
   "name": "python3"
  },
  "language_info": {
   "codemirror_mode": {
    "name": "ipython",
    "version": 3
   },
   "file_extension": ".py",
   "mimetype": "text/x-python",
   "name": "python",
   "nbconvert_exporter": "python",
   "pygments_lexer": "ipython3",
   "version": "3.7.3"
  },
  "learntools_metadata": {
   "lesson_index": 0,
   "type": "exercise"
  }
 },
 "nbformat": 4,
 "nbformat_minor": 4
}
