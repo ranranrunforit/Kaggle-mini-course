{
 "cells": [
  {
   "cell_type": "markdown",
   "metadata": {},
   "source": [
    "**This notebook is an exercise in the [Pandas](https://www.kaggle.com/learn/pandas) course.  You can reference the tutorial at [this link](https://www.kaggle.com/residentmario/renaming-and-combining).**\n",
    "\n",
    "---\n"
   ]
  },
  {
   "cell_type": "markdown",
   "metadata": {},
   "source": [
    "# Introduction\n",
    "\n",
    "Run the following cell to load your data and some utility functions."
   ]
  },
  {
   "cell_type": "code",
   "execution_count": 2,
   "metadata": {
    "execution": {
     "iopub.execute_input": "2022-02-04T09:25:35.934841Z",
     "iopub.status.busy": "2022-02-04T09:25:35.934280Z",
     "iopub.status.idle": "2022-02-04T09:25:37.034180Z",
     "shell.execute_reply": "2022-02-04T09:25:37.033306Z",
     "shell.execute_reply.started": "2022-02-04T09:25:35.934799Z"
    }
   },
   "outputs": [],
   "source": [
    "import pandas as pd\n",
    "\n",
    "reviews = pd.read_csv(\"../input/wine-reviews/winemag-data-130k-v2.csv\", index_col=0)\n",
    "\n",
    "from learntools.core import binder; binder.bind(globals())\n",
    "from learntools.pandas.renaming_and_combining import *\n",
    "print(\"Setup complete.\")"
   ]
  },
  {
   "cell_type": "markdown",
   "metadata": {},
   "source": [
    "# Exercises\n",
    "\n",
    "View the first several lines of your data by running the cell below:"
   ]
  },
  {
   "cell_type": "code",
   "execution_count": 3,
   "metadata": {
    "execution": {
     "iopub.execute_input": "2022-02-04T09:25:37.036168Z",
     "iopub.status.busy": "2022-02-04T09:25:37.035679Z",
     "iopub.status.idle": "2022-02-04T09:25:37.070193Z",
     "shell.execute_reply": "2022-02-04T09:25:37.060199Z",
     "shell.execute_reply.started": "2022-02-04T09:25:37.036125Z"
    }
   },
   "outputs": [],
   "source": [
    "reviews.head()"
   ]
  },
  {
   "cell_type": "markdown",
   "metadata": {},
   "source": [
    "## 1.\n",
    "`region_1` and `region_2` are pretty uninformative names for locale columns in the dataset. Create a copy of `reviews` with these columns renamed to `region` and `locale`, respectively."
   ]
  },
  {
   "cell_type": "code",
   "execution_count": 6,
   "metadata": {
    "execution": {
     "iopub.execute_input": "2022-02-04T09:28:54.643775Z",
     "iopub.status.busy": "2022-02-04T09:28:54.643460Z",
     "iopub.status.idle": "2022-02-04T09:28:54.695196Z",
     "shell.execute_reply": "2022-02-04T09:28:54.694394Z",
     "shell.execute_reply.started": "2022-02-04T09:28:54.643744Z"
    }
   },
   "outputs": [],
   "source": [
    "# Your code here\n",
    "renamed = reviews.rename(columns={'region_1': 'region', 'region_2': 'locale'})\n",
    "\n",
    "# Check your answer\n",
    "q1.check()"
   ]
  },
  {
   "cell_type": "code",
   "execution_count": 5,
   "metadata": {
    "execution": {
     "iopub.execute_input": "2022-02-04T09:28:20.877516Z",
     "iopub.status.busy": "2022-02-04T09:28:20.877149Z",
     "iopub.status.idle": "2022-02-04T09:28:20.885939Z",
     "shell.execute_reply": "2022-02-04T09:28:20.884891Z",
     "shell.execute_reply.started": "2022-02-04T09:28:20.877481Z"
    }
   },
   "outputs": [],
   "source": [
    "#q1.hint()\n",
    "q1.solution()"
   ]
  },
  {
   "cell_type": "markdown",
   "metadata": {},
   "source": [
    "## 2.\n",
    "Set the index name in the dataset to `wines`."
   ]
  },
  {
   "cell_type": "code",
   "execution_count": 8,
   "metadata": {
    "execution": {
     "iopub.execute_input": "2022-02-04T09:30:36.707773Z",
     "iopub.status.busy": "2022-02-04T09:30:36.707409Z",
     "iopub.status.idle": "2022-02-04T09:30:36.739415Z",
     "shell.execute_reply": "2022-02-04T09:30:36.738575Z",
     "shell.execute_reply.started": "2022-02-04T09:30:36.707734Z"
    }
   },
   "outputs": [],
   "source": [
    "reindexed = reviews.rename_axis(\"wines\", axis='rows')\n",
    "\n",
    "# Check your answer\n",
    "q2.check()"
   ]
  },
  {
   "cell_type": "code",
   "execution_count": 7,
   "metadata": {
    "execution": {
     "iopub.execute_input": "2022-02-04T09:30:01.373197Z",
     "iopub.status.busy": "2022-02-04T09:30:01.372841Z",
     "iopub.status.idle": "2022-02-04T09:30:01.381248Z",
     "shell.execute_reply": "2022-02-04T09:30:01.380448Z",
     "shell.execute_reply.started": "2022-02-04T09:30:01.373164Z"
    }
   },
   "outputs": [],
   "source": [
    "#q2.hint()\n",
    "q2.solution()"
   ]
  },
  {
   "cell_type": "markdown",
   "metadata": {},
   "source": [
    "## 3.\n",
    "The [Things on Reddit](https://www.kaggle.com/residentmario/things-on-reddit/data) dataset includes product links from a selection of top-ranked forums (\"subreddits\") on reddit.com. Run the cell below to load a dataframe of products mentioned on the */r/gaming* subreddit and another dataframe for products mentioned on the *r//movies* subreddit."
   ]
  },
  {
   "cell_type": "code",
   "execution_count": 9,
   "metadata": {
    "execution": {
     "iopub.execute_input": "2022-02-04T09:30:54.167746Z",
     "iopub.status.busy": "2022-02-04T09:30:54.167056Z",
     "iopub.status.idle": "2022-02-04T09:30:54.200141Z",
     "shell.execute_reply": "2022-02-04T09:30:54.199271Z",
     "shell.execute_reply.started": "2022-02-04T09:30:54.167687Z"
    }
   },
   "outputs": [],
   "source": [
    "gaming_products = pd.read_csv(\"../input/things-on-reddit/top-things/top-things/reddits/g/gaming.csv\")\n",
    "gaming_products['subreddit'] = \"r/gaming\"\n",
    "movie_products = pd.read_csv(\"../input/things-on-reddit/top-things/top-things/reddits/m/movies.csv\")\n",
    "movie_products['subreddit'] = \"r/movies\""
   ]
  },
  {
   "cell_type": "markdown",
   "metadata": {},
   "source": [
    "Create a `DataFrame` of products mentioned on *either* subreddit."
   ]
  },
  {
   "cell_type": "code",
   "execution_count": 11,
   "metadata": {
    "execution": {
     "iopub.execute_input": "2022-02-04T09:32:36.258861Z",
     "iopub.status.busy": "2022-02-04T09:32:36.258514Z",
     "iopub.status.idle": "2022-02-04T09:32:36.278195Z",
     "shell.execute_reply": "2022-02-04T09:32:36.277622Z",
     "shell.execute_reply.started": "2022-02-04T09:32:36.258826Z"
    }
   },
   "outputs": [],
   "source": [
    "combined_products = pd.concat([gaming_products, movie_products])\n",
    "\n",
    "# Check your answer\n",
    "q3.check()"
   ]
  },
  {
   "cell_type": "code",
   "execution_count": 10,
   "metadata": {
    "execution": {
     "iopub.execute_input": "2022-02-04T09:32:08.516983Z",
     "iopub.status.busy": "2022-02-04T09:32:08.516631Z",
     "iopub.status.idle": "2022-02-04T09:32:08.524923Z",
     "shell.execute_reply": "2022-02-04T09:32:08.524115Z",
     "shell.execute_reply.started": "2022-02-04T09:32:08.516951Z"
    }
   },
   "outputs": [],
   "source": [
    "#q3.hint()\n",
    "q3.solution()"
   ]
  },
  {
   "cell_type": "markdown",
   "metadata": {},
   "source": [
    "## 4.\n",
    "The [Powerlifting Database](https://www.kaggle.com/open-powerlifting/powerlifting-database) dataset on Kaggle includes one CSV table for powerlifting meets and a separate one for powerlifting competitors. Run the cell below to load these datasets into dataframes:"
   ]
  },
  {
   "cell_type": "code",
   "execution_count": 12,
   "metadata": {
    "execution": {
     "iopub.execute_input": "2022-02-04T09:33:15.829362Z",
     "iopub.status.busy": "2022-02-04T09:33:15.828991Z",
     "iopub.status.idle": "2022-02-04T09:33:16.628714Z",
     "shell.execute_reply": "2022-02-04T09:33:16.627642Z",
     "shell.execute_reply.started": "2022-02-04T09:33:15.829323Z"
    }
   },
   "outputs": [],
   "source": [
    "powerlifting_meets = pd.read_csv(\"../input/powerlifting-database/meets.csv\")\n",
    "powerlifting_competitors = pd.read_csv(\"../input/powerlifting-database/openpowerlifting.csv\")"
   ]
  },
  {
   "cell_type": "markdown",
   "metadata": {},
   "source": [
    "Both tables include references to a `MeetID`, a unique key for each meet (competition) included in the database. Using this, generate a dataset combining the two tables into one."
   ]
  },
  {
   "cell_type": "code",
   "execution_count": 14,
   "metadata": {
    "execution": {
     "iopub.execute_input": "2022-02-04T09:35:23.191663Z",
     "iopub.status.busy": "2022-02-04T09:35:23.191355Z",
     "iopub.status.idle": "2022-02-04T09:35:24.211167Z",
     "shell.execute_reply": "2022-02-04T09:35:24.210300Z",
     "shell.execute_reply.started": "2022-02-04T09:35:23.191620Z"
    }
   },
   "outputs": [],
   "source": [
    "powerlifting_combined = powerlifting_meets.set_index(\"MeetID\").join(powerlifting_competitors.set_index(\"MeetID\"))\n",
    "\n",
    "# Check your answer\n",
    "q4.check()"
   ]
  },
  {
   "cell_type": "code",
   "execution_count": 13,
   "metadata": {
    "execution": {
     "iopub.execute_input": "2022-02-04T09:34:56.582503Z",
     "iopub.status.busy": "2022-02-04T09:34:56.582102Z",
     "iopub.status.idle": "2022-02-04T09:34:56.590910Z",
     "shell.execute_reply": "2022-02-04T09:34:56.590124Z",
     "shell.execute_reply.started": "2022-02-04T09:34:56.582466Z"
    }
   },
   "outputs": [],
   "source": [
    "#q4.hint()\n",
    "q4.solution()"
   ]
  },
  {
   "cell_type": "markdown",
   "metadata": {},
   "source": [
    "# Congratulations!\n",
    "\n",
    "You've finished the Pandas micro-course.  Many data scientists feel efficiency with Pandas is the most useful and practical skill they have, because it allows you to progress quickly in any project you have.\n",
    "\n",
    "If you'd like to apply your new skills to examining geospatial data, you're encouraged to check out our **[Geospatial Analysis](https://www.kaggle.com/learn/geospatial-analysis)** micro-course.\n",
    "\n",
    "You can also take advantage of your Pandas skills by entering a **[Kaggle Competition](https://www.kaggle.com/competitions)** or by answering a question you find interesting using **[Kaggle Datasets](https://www.kaggle.com/datasets)**."
   ]
  },
  {
   "cell_type": "markdown",
   "metadata": {},
   "source": [
    "---\n",
    "\n",
    "\n",
    "\n",
    "\n",
    "*Have questions or comments? Visit the [course discussion forum](https://www.kaggle.com/learn/pandas/discussion) to chat with other learners.*"
   ]
  }
 ],
 "metadata": {
  "kernelspec": {
   "display_name": "Python 3",
   "language": "python",
   "name": "python3"
  },
  "language_info": {
   "codemirror_mode": {
    "name": "ipython",
    "version": 3
   },
   "file_extension": ".py",
   "mimetype": "text/x-python",
   "name": "python",
   "nbconvert_exporter": "python",
   "pygments_lexer": "ipython3",
   "version": "3.7.3"
  }
 },
 "nbformat": 4,
 "nbformat_minor": 4
}
