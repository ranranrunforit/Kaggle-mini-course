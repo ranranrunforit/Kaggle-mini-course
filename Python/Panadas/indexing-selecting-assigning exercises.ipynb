{
 "cells": [
  {
   "cell_type": "markdown",
   "metadata": {},
   "source": [
    "**This notebook is an exercise in the [Pandas](https://www.kaggle.com/learn/pandas) course.  You can reference the tutorial at [this link](https://www.kaggle.com/residentmario/indexing-selecting-assigning).**\n",
    "\n",
    "---\n"
   ]
  },
  {
   "cell_type": "markdown",
   "metadata": {},
   "source": [
    "# Introduction\n",
    "\n",
    "In this set of exercises we will work with the [Wine Reviews dataset](https://www.kaggle.com/zynicide/wine-reviews). "
   ]
  },
  {
   "cell_type": "markdown",
   "metadata": {},
   "source": [
    "Run the following cell to load your data and some utility functions (including code to check your answers)."
   ]
  },
  {
   "cell_type": "code",
   "execution_count": 1,
   "metadata": {
    "execution": {
     "iopub.execute_input": "2022-02-04T07:07:11.957678Z",
     "iopub.status.busy": "2022-02-04T07:07:11.956557Z",
     "iopub.status.idle": "2022-02-04T07:07:15.355213Z",
     "shell.execute_reply": "2022-02-04T07:07:15.354149Z",
     "shell.execute_reply.started": "2022-02-04T07:07:11.957523Z"
    }
   },
   "outputs": [],
   "source": [
    "import pandas as pd\n",
    "\n",
    "reviews = pd.read_csv(\"../input/wine-reviews/winemag-data-130k-v2.csv\", index_col=0)\n",
    "pd.set_option(\"display.max_rows\", 5)\n",
    "\n",
    "from learntools.core import binder; binder.bind(globals())\n",
    "from learntools.pandas.indexing_selecting_and_assigning import *\n",
    "print(\"Setup complete.\")"
   ]
  },
  {
   "cell_type": "markdown",
   "metadata": {},
   "source": [
    "Look at an overview of your data by running the following line."
   ]
  },
  {
   "cell_type": "code",
   "execution_count": 2,
   "metadata": {
    "execution": {
     "iopub.execute_input": "2022-02-04T07:07:15.358120Z",
     "iopub.status.busy": "2022-02-04T07:07:15.357575Z",
     "iopub.status.idle": "2022-02-04T07:07:15.388139Z",
     "shell.execute_reply": "2022-02-04T07:07:15.387127Z",
     "shell.execute_reply.started": "2022-02-04T07:07:15.358072Z"
    }
   },
   "outputs": [],
   "source": [
    "reviews.head()"
   ]
  },
  {
   "cell_type": "markdown",
   "metadata": {},
   "source": [
    "# Exercises"
   ]
  },
  {
   "cell_type": "markdown",
   "metadata": {},
   "source": [
    "## 1.\n",
    "\n",
    "Select the `description` column from `reviews` and assign the result to the variable `desc`."
   ]
  },
  {
   "cell_type": "code",
   "execution_count": null,
   "metadata": {
    "execution": {
     "iopub.execute_input": "2022-02-04T06:51:44.546219Z",
     "iopub.status.busy": "2022-02-04T06:51:44.54589Z",
     "iopub.status.idle": "2022-02-04T06:51:44.561204Z",
     "shell.execute_reply": "2022-02-04T06:51:44.559837Z",
     "shell.execute_reply.started": "2022-02-04T06:51:44.546182Z"
    }
   },
   "outputs": [],
   "source": [
    "# Your code here\n",
    "desc = reviews['description']\n",
    "\n",
    "# Check your answer\n",
    "q1.check()"
   ]
  },
  {
   "cell_type": "markdown",
   "metadata": {},
   "source": [
    "Follow-up question: what type of object is `desc`? If you're not sure, you can check by calling Python's `type` function: `type(desc)`."
   ]
  },
  {
   "cell_type": "code",
   "execution_count": null,
   "metadata": {
    "execution": {
     "iopub.execute_input": "2022-02-04T06:33:37.306111Z",
     "iopub.status.busy": "2022-02-04T06:33:37.305577Z",
     "iopub.status.idle": "2022-02-04T06:33:37.312334Z",
     "shell.execute_reply": "2022-02-04T06:33:37.311495Z",
     "shell.execute_reply.started": "2022-02-04T06:33:37.306062Z"
    }
   },
   "outputs": [],
   "source": [
    "type(desc)"
   ]
  },
  {
   "cell_type": "code",
   "execution_count": null,
   "metadata": {},
   "outputs": [],
   "source": [
    "#q1.hint()\n",
    "#q1.solution()"
   ]
  },
  {
   "cell_type": "markdown",
   "metadata": {},
   "source": [
    "## 2.\n",
    "\n",
    "Select the first value from the description column of `reviews`, assigning it to variable `first_description`."
   ]
  },
  {
   "cell_type": "code",
   "execution_count": null,
   "metadata": {
    "execution": {
     "iopub.execute_input": "2022-02-04T06:34:18.95874Z",
     "iopub.status.busy": "2022-02-04T06:34:18.958382Z",
     "iopub.status.idle": "2022-02-04T06:34:18.980054Z",
     "shell.execute_reply": "2022-02-04T06:34:18.978937Z",
     "shell.execute_reply.started": "2022-02-04T06:34:18.958704Z"
    }
   },
   "outputs": [],
   "source": [
    "first_description = desc[0]\n",
    "\n",
    "# Check your answer\n",
    "q2.check()\n",
    "first_description"
   ]
  },
  {
   "cell_type": "code",
   "execution_count": null,
   "metadata": {},
   "outputs": [],
   "source": [
    "#q2.hint()\n",
    "#q2.solution()"
   ]
  },
  {
   "cell_type": "markdown",
   "metadata": {},
   "source": [
    "## 3. \n",
    "\n",
    "Select the first row of data (the first record) from `reviews`, assigning it to the variable `first_row`."
   ]
  },
  {
   "cell_type": "code",
   "execution_count": null,
   "metadata": {
    "execution": {
     "iopub.execute_input": "2022-02-04T06:51:53.39449Z",
     "iopub.status.busy": "2022-02-04T06:51:53.393957Z",
     "iopub.status.idle": "2022-02-04T06:51:53.410077Z",
     "shell.execute_reply": "2022-02-04T06:51:53.408808Z",
     "shell.execute_reply.started": "2022-02-04T06:51:53.394447Z"
    }
   },
   "outputs": [],
   "source": [
    "first_row = reviews.iloc[0]\n",
    "\n",
    "# Check your answer\n",
    "q3.check()\n",
    "first_row"
   ]
  },
  {
   "cell_type": "code",
   "execution_count": null,
   "metadata": {
    "execution": {
     "iopub.execute_input": "2022-02-04T06:38:18.025443Z",
     "iopub.status.busy": "2022-02-04T06:38:18.02472Z",
     "iopub.status.idle": "2022-02-04T06:38:18.033904Z",
     "shell.execute_reply": "2022-02-04T06:38:18.032835Z",
     "shell.execute_reply.started": "2022-02-04T06:38:18.025388Z"
    }
   },
   "outputs": [],
   "source": [
    "#q3.hint()\n",
    "#q3.solution()"
   ]
  },
  {
   "cell_type": "markdown",
   "metadata": {},
   "source": [
    "## 4.\n",
    "\n",
    "Select the first 10 values from the `description` column in `reviews`, assigning the result to variable `first_descriptions`.\n",
    "\n",
    "Hint: format your output as a pandas Series."
   ]
  },
  {
   "cell_type": "code",
   "execution_count": null,
   "metadata": {
    "execution": {
     "iopub.execute_input": "2022-02-04T06:52:28.645745Z",
     "iopub.status.busy": "2022-02-04T06:52:28.644866Z",
     "iopub.status.idle": "2022-02-04T06:52:28.660702Z",
     "shell.execute_reply": "2022-02-04T06:52:28.659771Z",
     "shell.execute_reply.started": "2022-02-04T06:52:28.645677Z"
    }
   },
   "outputs": [],
   "source": [
    "first_descriptions = reviews.description.iloc[0:10]\n",
    "#first_descriptions = desc.head(10)\n",
    "\n",
    "# Check your answer\n",
    "q4.check()\n",
    "first_descriptions"
   ]
  },
  {
   "cell_type": "code",
   "execution_count": null,
   "metadata": {
    "execution": {
     "iopub.execute_input": "2022-02-04T06:38:47.091411Z",
     "iopub.status.busy": "2022-02-04T06:38:47.091017Z",
     "iopub.status.idle": "2022-02-04T06:38:47.100841Z",
     "shell.execute_reply": "2022-02-04T06:38:47.099692Z",
     "shell.execute_reply.started": "2022-02-04T06:38:47.091372Z"
    }
   },
   "outputs": [],
   "source": [
    "#q4.hint()\n",
    "q4.solution()"
   ]
  },
  {
   "cell_type": "markdown",
   "metadata": {},
   "source": [
    "## 5.\n",
    "\n",
    "Select the records with index labels `1`, `2`, `3`, `5`, and `8`, assigning the result to the variable `sample_reviews`.\n",
    "\n",
    "In other words, generate the following DataFrame:\n",
    "\n",
    "![](https://i.imgur.com/sHZvI1O.png)"
   ]
  },
  {
   "cell_type": "code",
   "execution_count": null,
   "metadata": {
    "execution": {
     "iopub.execute_input": "2022-02-04T06:56:23.943038Z",
     "iopub.status.busy": "2022-02-04T06:56:23.942661Z",
     "iopub.status.idle": "2022-02-04T06:56:23.971031Z",
     "shell.execute_reply": "2022-02-04T06:56:23.970077Z",
     "shell.execute_reply.started": "2022-02-04T06:56:23.942999Z"
    }
   },
   "outputs": [],
   "source": [
    "sample_reviews = reviews.iloc[[1,2,3,5,8]]\n",
    "\n",
    "# Check your answer\n",
    "q5.check()\n",
    "sample_reviews"
   ]
  },
  {
   "cell_type": "code",
   "execution_count": null,
   "metadata": {
    "execution": {
     "iopub.execute_input": "2022-02-04T06:55:59.422792Z",
     "iopub.status.busy": "2022-02-04T06:55:59.422294Z",
     "iopub.status.idle": "2022-02-04T06:55:59.432073Z",
     "shell.execute_reply": "2022-02-04T06:55:59.431053Z",
     "shell.execute_reply.started": "2022-02-04T06:55:59.422741Z"
    }
   },
   "outputs": [],
   "source": [
    "#q5.hint()\n",
    "q5.solution()"
   ]
  },
  {
   "cell_type": "markdown",
   "metadata": {},
   "source": [
    "## 6.\n",
    "\n",
    "Create a variable `df` containing the `country`, `province`, `region_1`, and `region_2` columns of the records with the index labels `0`, `1`, `10`, and `100`. In other words, generate the following DataFrame:\n",
    "\n",
    "![](https://i.imgur.com/FUCGiKP.png)"
   ]
  },
  {
   "cell_type": "code",
   "execution_count": null,
   "metadata": {
    "execution": {
     "iopub.execute_input": "2022-02-04T06:58:46.990704Z",
     "iopub.status.busy": "2022-02-04T06:58:46.989496Z",
     "iopub.status.idle": "2022-02-04T06:58:47.02684Z",
     "shell.execute_reply": "2022-02-04T06:58:47.025683Z",
     "shell.execute_reply.started": "2022-02-04T06:58:46.990637Z"
    }
   },
   "outputs": [],
   "source": [
    "df = reviews.loc[[0,1,10,100],['country','province','region_1','region_2']]\n",
    "\n",
    "# Check your answer\n",
    "q6.check()\n",
    "df"
   ]
  },
  {
   "cell_type": "code",
   "execution_count": null,
   "metadata": {},
   "outputs": [],
   "source": [
    "#q6.hint()\n",
    "#q6.solution()"
   ]
  },
  {
   "cell_type": "markdown",
   "metadata": {},
   "source": [
    "## 7.\n",
    "\n",
    "Create a variable `df` containing the `country` and `variety` columns of the first 100 records. \n",
    "\n",
    "Hint: you may use `loc` or `iloc`. When working on the answer this question and the several of the ones that follow, keep the following \"gotcha\" described in the tutorial:\n",
    "\n",
    "> `iloc` uses the Python stdlib indexing scheme, where the first element of the range is included and the last one excluded. \n",
    "`loc`, meanwhile, indexes inclusively. \n",
    "\n",
    "> This is particularly confusing when the DataFrame index is a simple numerical list, e.g. `0,...,1000`. In this case `df.iloc[0:1000]` will return 1000 entries, while `df.loc[0:1000]` return 1001 of them! To get 1000 elements using `loc`, you will need to go one lower and ask for `df.iloc[0:999]`. "
   ]
  },
  {
   "cell_type": "code",
   "execution_count": null,
   "metadata": {
    "execution": {
     "iopub.execute_input": "2022-02-04T07:04:30.372691Z",
     "iopub.status.busy": "2022-02-04T07:04:30.372319Z",
     "iopub.status.idle": "2022-02-04T07:04:30.398702Z",
     "shell.execute_reply": "2022-02-04T07:04:30.396806Z",
     "shell.execute_reply.started": "2022-02-04T07:04:30.372649Z"
    }
   },
   "outputs": [],
   "source": [
    "df = reviews.loc[0:99,['country','variety']]\n",
    "\n",
    "# Check your answer\n",
    "q7.check()\n",
    "df"
   ]
  },
  {
   "cell_type": "code",
   "execution_count": null,
   "metadata": {},
   "outputs": [],
   "source": [
    "#q7.hint()\n",
    "#q7.solution()"
   ]
  },
  {
   "cell_type": "markdown",
   "metadata": {},
   "source": [
    "## 8.\n",
    "\n",
    "Create a DataFrame `italian_wines` containing reviews of wines made in `Italy`. Hint: `reviews.country` equals what?"
   ]
  },
  {
   "cell_type": "code",
   "execution_count": 3,
   "metadata": {
    "execution": {
     "iopub.execute_input": "2022-02-04T07:07:25.082178Z",
     "iopub.status.busy": "2022-02-04T07:07:25.081803Z",
     "iopub.status.idle": "2022-02-04T07:07:25.126994Z",
     "shell.execute_reply": "2022-02-04T07:07:25.126073Z",
     "shell.execute_reply.started": "2022-02-04T07:07:25.082135Z"
    }
   },
   "outputs": [],
   "source": [
    "italian_wines = reviews.loc[reviews.country == 'Italy']\n",
    "\n",
    "# Check your answer\n",
    "q8.check()"
   ]
  },
  {
   "cell_type": "code",
   "execution_count": null,
   "metadata": {},
   "outputs": [],
   "source": [
    "#q8.hint()\n",
    "#q8.solution()"
   ]
  },
  {
   "cell_type": "markdown",
   "metadata": {},
   "source": [
    "## 9.\n",
    "\n",
    "Create a DataFrame `top_oceania_wines` containing all reviews with at least 95 points (out of 100) for wines from Australia or New Zealand."
   ]
  },
  {
   "cell_type": "code",
   "execution_count": 5,
   "metadata": {
    "execution": {
     "iopub.execute_input": "2022-02-04T07:11:16.367014Z",
     "iopub.status.busy": "2022-02-04T07:11:16.366003Z",
     "iopub.status.idle": "2022-02-04T07:11:16.417355Z",
     "shell.execute_reply": "2022-02-04T07:11:16.416119Z",
     "shell.execute_reply.started": "2022-02-04T07:11:16.366952Z"
    }
   },
   "outputs": [],
   "source": [
    "top_oceania_wines = reviews.loc[(reviews.country.isin(['New Zealand','Australia'])) &(reviews.points>=95)]\n",
    "\n",
    "# Check your answer\n",
    "q9.check()\n",
    "top_oceania_wines"
   ]
  },
  {
   "cell_type": "code",
   "execution_count": null,
   "metadata": {},
   "outputs": [],
   "source": [
    "#q9.hint()\n",
    "#q9.solution()"
   ]
  },
  {
   "cell_type": "markdown",
   "metadata": {},
   "source": [
    "# Keep going\n",
    "\n",
    "Move on to learn about **[summary functions and maps](https://www.kaggle.com/residentmario/summary-functions-and-maps)**."
   ]
  },
  {
   "cell_type": "markdown",
   "metadata": {},
   "source": [
    "---\n",
    "\n",
    "\n",
    "\n",
    "\n",
    "*Have questions or comments? Visit the [course discussion forum](https://www.kaggle.com/learn/pandas/discussion) to chat with other learners.*"
   ]
  }
 ],
 "metadata": {
  "kernelspec": {
   "display_name": "Python 3",
   "language": "python",
   "name": "python3"
  },
  "language_info": {
   "codemirror_mode": {
    "name": "ipython",
    "version": 3
   },
   "file_extension": ".py",
   "mimetype": "text/x-python",
   "name": "python",
   "nbconvert_exporter": "python",
   "pygments_lexer": "ipython3",
   "version": "3.7.3"
  }
 },
 "nbformat": 4,
 "nbformat_minor": 4
}
