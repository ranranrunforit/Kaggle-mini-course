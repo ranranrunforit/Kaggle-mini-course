{
 "cells": [
  {
   "cell_type": "markdown",
   "metadata": {},
   "source": [
    "**This notebook is an exercise in the [Python](https://www.kaggle.com/learn/python) course.  You can reference the tutorial at [this link](https://www.kaggle.com/colinmorris/booleans-and-conditionals).**\n",
    "\n",
    "---\n"
   ]
  },
  {
   "cell_type": "markdown",
   "metadata": {},
   "source": [
    "In this exercise, you'll put to work what you have learned about booleans and conditionals.\n",
    "\n",
    "To get started, **run the setup code below** before writing your own code (and if you leave this notebook and come back later, don't forget to run the setup code again)."
   ]
  },
  {
   "cell_type": "code",
   "execution_count": 1,
   "metadata": {
    "execution": {
     "iopub.execute_input": "2022-01-12T08:56:11.826246Z",
     "iopub.status.busy": "2022-01-12T08:56:11.825415Z",
     "iopub.status.idle": "2022-01-12T08:56:11.881399Z",
     "shell.execute_reply": "2022-01-12T08:56:11.880745Z",
     "shell.execute_reply.started": "2022-01-12T08:56:11.826096Z"
    }
   },
   "outputs": [],
   "source": [
    "from learntools.core import binder; binder.bind(globals())\n",
    "from learntools.python.ex3 import *\n",
    "print('Setup complete.')"
   ]
  },
  {
   "cell_type": "markdown",
   "metadata": {},
   "source": [
    "# 1.\n",
    "\n",
    "Many programming languages have [`sign`](https://en.wikipedia.org/wiki/Sign_function) available as a built-in function. Python doesn't, but we can define our own!\n",
    "\n",
    "In the cell below, define a function called `sign` which takes a numerical argument and returns -1 if it's negative, 1 if it's positive, and 0 if it's 0."
   ]
  },
  {
   "cell_type": "raw",
   "metadata": {},
   "source": [
    "# Your code goes here. Define a function called 'sign'\n",
    "def sign(num):\n",
    "    if num == 0:\n",
    "        return 0\n",
    "    elif num > 0:\n",
    "        return 1\n",
    "    else:\n",
    "        return -1\n",
    "# Check your answer\n",
    "q1.check()"
   ]
  },
  {
   "cell_type": "code",
   "execution_count": 2,
   "metadata": {
    "execution": {
     "iopub.execute_input": "2022-01-12T06:09:40.465408Z",
     "iopub.status.busy": "2022-01-12T06:09:40.465096Z",
     "iopub.status.idle": "2022-01-12T06:09:40.469999Z",
     "shell.execute_reply": "2022-01-12T06:09:40.468633Z",
     "shell.execute_reply.started": "2022-01-12T06:09:40.465366Z"
    }
   },
   "outputs": [],
   "source": [
    "# q1.solution()"
   ]
  },
  {
   "cell_type": "markdown",
   "metadata": {},
   "source": [
    "# 2.\n",
    "\n",
    "We've decided to add \"logging\" to our `to_smash` function from the previous exercise."
   ]
  },
  {
   "cell_type": "code",
   "execution_count": 6,
   "metadata": {
    "execution": {
     "iopub.execute_input": "2022-01-12T05:54:04.326702Z",
     "iopub.status.busy": "2022-01-12T05:54:04.324777Z",
     "iopub.status.idle": "2022-01-12T05:54:04.337856Z",
     "shell.execute_reply": "2022-01-12T05:54:04.336160Z",
     "shell.execute_reply.started": "2022-01-12T05:54:04.326623Z"
    }
   },
   "outputs": [],
   "source": [
    "def to_smash(total_candies):\n",
    "    \"\"\"Return the number of leftover candies that must be smashed after distributing\n",
    "    the given number of candies evenly between 3 friends.\n",
    "    \n",
    "    >>> to_smash(91)\n",
    "    1\n",
    "    \"\"\"\n",
    "    print(\"Splitting\", total_candies, \"candies\")\n",
    "    return total_candies % 3\n",
    "\n",
    "to_smash(91)"
   ]
  },
  {
   "cell_type": "markdown",
   "metadata": {},
   "source": [
    "What happens if we call it with `total_candies = 1`?"
   ]
  },
  {
   "cell_type": "code",
   "execution_count": 7,
   "metadata": {
    "execution": {
     "iopub.execute_input": "2022-01-12T05:54:07.427583Z",
     "iopub.status.busy": "2022-01-12T05:54:07.427176Z",
     "iopub.status.idle": "2022-01-12T05:54:07.438247Z",
     "shell.execute_reply": "2022-01-12T05:54:07.437134Z",
     "shell.execute_reply.started": "2022-01-12T05:54:07.427535Z"
    }
   },
   "outputs": [],
   "source": [
    "to_smash(1)"
   ]
  },
  {
   "cell_type": "markdown",
   "metadata": {},
   "source": [
    "That isn't great grammar!\n",
    "\n",
    "Modify the definition in the cell below to correct the grammar of our print statement. (If there's only one candy, we should use the singular \"candy\" instead of the plural \"candies\")"
   ]
  },
  {
   "cell_type": "code",
   "execution_count": 8,
   "metadata": {
    "execution": {
     "iopub.execute_input": "2022-01-12T05:54:11.822355Z",
     "iopub.status.busy": "2022-01-12T05:54:11.821497Z",
     "iopub.status.idle": "2022-01-12T05:54:11.839294Z",
     "shell.execute_reply": "2022-01-12T05:54:11.838381Z",
     "shell.execute_reply.started": "2022-01-12T05:54:11.822295Z"
    }
   },
   "outputs": [],
   "source": [
    "def to_smash(total_candies):\n",
    "    \"\"\"Return the number of leftover candies that must be smashed after distributing\n",
    "    the given number of candies evenly between 3 friends.\n",
    "    \n",
    "    >>> to_smash(91)\n",
    "    1\n",
    "    \"\"\"\n",
    "    if total_candies > 1:\n",
    "        print(\"Splitting\", total_candies, \"candies\")\n",
    "    else:\n",
    "        print(\"Splitting\", total_candies, \"candie\")\n",
    "    return total_candies % 3\n",
    "\n",
    "to_smash(91)\n",
    "to_smash(1)"
   ]
  },
  {
   "cell_type": "markdown",
   "metadata": {},
   "source": [
    "To get credit for completing this problem, and to see the official answer, run the code cell below."
   ]
  },
  {
   "cell_type": "code",
   "execution_count": 9,
   "metadata": {
    "execution": {
     "iopub.execute_input": "2022-01-12T05:54:15.414812Z",
     "iopub.status.busy": "2022-01-12T05:54:15.414379Z",
     "iopub.status.idle": "2022-01-12T05:54:15.443749Z",
     "shell.execute_reply": "2022-01-12T05:54:15.442126Z",
     "shell.execute_reply.started": "2022-01-12T05:54:15.414770Z"
    }
   },
   "outputs": [],
   "source": [
    "# Check your answer (Run this code cell to receive credit!)\n",
    "q2.solution()"
   ]
  },
  {
   "cell_type": "markdown",
   "metadata": {},
   "source": [
    "# 3. <span title=\"A bit spicy\" style=\"color: darkgreen \">🌶️</span>\n",
    "\n",
    "In the tutorial, we talked about deciding whether we're prepared for the weather. I said that I'm safe from today's weather if...\n",
    "- I have an umbrella...\n",
    "- or if the rain isn't too heavy and I have a hood...\n",
    "- otherwise, I'm still fine unless it's raining *and* it's a workday\n",
    "\n",
    "The function below uses our first attempt at turning this logic into a Python expression. I claimed that there was a bug in that code. Can you find it?\n",
    "\n",
    "To prove that `prepared_for_weather` is buggy, come up with a set of inputs where either:\n",
    "- the function returns `False` (but should have returned `True`), or\n",
    "- the function returned `True` (but should have returned `False`).\n",
    "\n",
    "To get credit for completing this question, your code should return a <font color='#33cc33'>Correct</font> result."
   ]
  },
  {
   "cell_type": "code",
   "execution_count": 26,
   "metadata": {
    "execution": {
     "iopub.execute_input": "2022-01-12T06:00:38.766557Z",
     "iopub.status.busy": "2022-01-12T06:00:38.766223Z",
     "iopub.status.idle": "2022-01-12T06:00:38.780856Z",
     "shell.execute_reply": "2022-01-12T06:00:38.779773Z",
     "shell.execute_reply.started": "2022-01-12T06:00:38.766521Z"
    }
   },
   "outputs": [],
   "source": [
    "def prepared_for_weather(have_umbrella, rain_level, have_hood, is_workday):\n",
    "    # Don't change this code. Our goal is just to find the bug, not fix it!\n",
    "    return have_umbrella or rain_level < 5 and have_hood or not rain_level > 0 and is_workday\n",
    "\n",
    "# Change the values of these inputs so they represent a case where prepared_for_weather\n",
    "# returns the wrong answer.\n",
    "have_umbrella = False\n",
    "rain_level = 0.0\n",
    "have_hood = False\n",
    "is_workday = False\n",
    "\n",
    "# Check what the function returns given the current values of the variables above\n",
    "actual = prepared_for_weather(have_umbrella, rain_level, have_hood, is_workday)\n",
    "print(actual)\n",
    "\n",
    "# Check your answer\n",
    "q3.check()"
   ]
  },
  {
   "cell_type": "code",
   "execution_count": 25,
   "metadata": {
    "execution": {
     "iopub.execute_input": "2022-01-12T06:00:27.300418Z",
     "iopub.status.busy": "2022-01-12T06:00:27.300114Z",
     "iopub.status.idle": "2022-01-12T06:00:27.314657Z",
     "shell.execute_reply": "2022-01-12T06:00:27.313722Z",
     "shell.execute_reply.started": "2022-01-12T06:00:27.300367Z"
    }
   },
   "outputs": [],
   "source": [
    "q3.hint()\n",
    "q3.solution()"
   ]
  },
  {
   "cell_type": "markdown",
   "metadata": {},
   "source": [
    "# 4.\n",
    "\n",
    "The function `is_negative` below is implemented correctly - it returns True if the given number is negative and False otherwise.\n",
    "\n",
    "However, it's more verbose than it needs to be. We can actually reduce the number of lines of code in this function by *75%* while keeping the same behaviour. \n",
    "\n",
    "See if you can come up with an equivalent body that uses just **one line** of code, and put it in the function `concise_is_negative`. (HINT: you don't even need Python's ternary syntax)"
   ]
  },
  {
   "cell_type": "code",
   "execution_count": 30,
   "metadata": {
    "execution": {
     "iopub.execute_input": "2022-01-12T06:04:22.718295Z",
     "iopub.status.busy": "2022-01-12T06:04:22.717679Z",
     "iopub.status.idle": "2022-01-12T06:04:22.729970Z",
     "shell.execute_reply": "2022-01-12T06:04:22.728866Z",
     "shell.execute_reply.started": "2022-01-12T06:04:22.718240Z"
    }
   },
   "outputs": [],
   "source": [
    "def is_negative(number):\n",
    "    if number < 0:\n",
    "        return True\n",
    "    else:\n",
    "        return False\n",
    "\n",
    "def concise_is_negative(number):\n",
    "    #return True if number < 0 else False\n",
    "    return number < 0\n",
    "    pass # Your code goes here (try to keep it to one line!)\n",
    "\n",
    "# Check your answer\n",
    "q4.check()"
   ]
  },
  {
   "cell_type": "code",
   "execution_count": 29,
   "metadata": {
    "execution": {
     "iopub.execute_input": "2022-01-12T06:04:03.532947Z",
     "iopub.status.busy": "2022-01-12T06:04:03.532206Z",
     "iopub.status.idle": "2022-01-12T06:04:03.550725Z",
     "shell.execute_reply": "2022-01-12T06:04:03.549688Z",
     "shell.execute_reply.started": "2022-01-12T06:04:03.532878Z"
    }
   },
   "outputs": [],
   "source": [
    "q4.hint()\n",
    "q4.solution()"
   ]
  },
  {
   "cell_type": "markdown",
   "metadata": {},
   "source": [
    "# 5a.\n",
    "\n",
    "The boolean variables `ketchup`, `mustard` and `onion` represent whether a customer wants a particular topping on their hot dog. We want to implement a number of boolean functions that correspond to some yes-or-no questions about the customer's order. For example:"
   ]
  },
  {
   "cell_type": "code",
   "execution_count": null,
   "metadata": {},
   "outputs": [],
   "source": [
    "def onionless(ketchup, mustard, onion):\n",
    "    \"\"\"Return whether the customer doesn't want onions.\n",
    "    \"\"\"\n",
    "    return not onion"
   ]
  },
  {
   "cell_type": "code",
   "execution_count": 3,
   "metadata": {
    "execution": {
     "iopub.execute_input": "2022-01-12T06:09:54.917111Z",
     "iopub.status.busy": "2022-01-12T06:09:54.916428Z",
     "iopub.status.idle": "2022-01-12T06:09:54.929334Z",
     "shell.execute_reply": "2022-01-12T06:09:54.928633Z",
     "shell.execute_reply.started": "2022-01-12T06:09:54.917058Z"
    }
   },
   "outputs": [],
   "source": [
    "def wants_all_toppings(ketchup, mustard, onion):\n",
    "    \"\"\"Return whether the customer wants \"the works\" (all 3 toppings)\n",
    "    \"\"\"\n",
    "    return ketchup and mustard and onion\n",
    "\n",
    "# Check your answer\n",
    "q5.a.check()"
   ]
  },
  {
   "cell_type": "code",
   "execution_count": null,
   "metadata": {},
   "outputs": [],
   "source": [
    "#q5.a.hint()\n",
    "#q5.a.solution()"
   ]
  },
  {
   "cell_type": "markdown",
   "metadata": {},
   "source": [
    "# 5b.\n",
    "\n",
    "For the next function, fill in the body to match the English description in the docstring. "
   ]
  },
  {
   "cell_type": "code",
   "execution_count": 7,
   "metadata": {
    "execution": {
     "iopub.execute_input": "2022-01-12T06:11:31.375362Z",
     "iopub.status.busy": "2022-01-12T06:11:31.374392Z",
     "iopub.status.idle": "2022-01-12T06:11:31.387543Z",
     "shell.execute_reply": "2022-01-12T06:11:31.386968Z",
     "shell.execute_reply.started": "2022-01-12T06:11:31.375306Z"
    }
   },
   "outputs": [],
   "source": [
    "def wants_plain_hotdog(ketchup, mustard, onion):\n",
    "    \"\"\"Return whether the customer wants a plain hot dog with no toppings.\n",
    "    \"\"\"\n",
    "    #return (not ketchup) and (not mustard) and (not onion)\n",
    "    return not (ketchup or mustard or onion)\n",
    "\n",
    "# Check your answer\n",
    "q5.b.check()"
   ]
  },
  {
   "cell_type": "code",
   "execution_count": null,
   "metadata": {},
   "outputs": [],
   "source": [
    "#q5.b.hint()\n",
    "#q5.b.solution()"
   ]
  },
  {
   "cell_type": "markdown",
   "metadata": {},
   "source": [
    "# 5c.\n",
    "\n",
    "You know what to do: for the next function, fill in the body to match the English description in the docstring."
   ]
  },
  {
   "cell_type": "code",
   "execution_count": 9,
   "metadata": {
    "execution": {
     "iopub.execute_input": "2022-01-12T06:13:31.800315Z",
     "iopub.status.busy": "2022-01-12T06:13:31.799536Z",
     "iopub.status.idle": "2022-01-12T06:13:31.809947Z",
     "shell.execute_reply": "2022-01-12T06:13:31.809154Z",
     "shell.execute_reply.started": "2022-01-12T06:13:31.800270Z"
    }
   },
   "outputs": [],
   "source": [
    "def exactly_one_sauce(ketchup, mustard, onion):\n",
    "    \"\"\"Return whether the customer wants either ketchup or mustard, but not both.\n",
    "    (You may be familiar with this operation under the name \"exclusive or\")\n",
    "    \"\"\"\n",
    "    return (ketchup and not mustard) or (mustard and not ketchup)  \n",
    "\n",
    "# Check your answer\n",
    "q5.c.check()"
   ]
  },
  {
   "cell_type": "code",
   "execution_count": 8,
   "metadata": {
    "execution": {
     "iopub.execute_input": "2022-01-12T06:12:07.609157Z",
     "iopub.status.busy": "2022-01-12T06:12:07.608480Z",
     "iopub.status.idle": "2022-01-12T06:12:07.621464Z",
     "shell.execute_reply": "2022-01-12T06:12:07.620639Z",
     "shell.execute_reply.started": "2022-01-12T06:12:07.609101Z"
    }
   },
   "outputs": [],
   "source": [
    "# q5.c.hint()\n",
    "# q5.c.solution()"
   ]
  },
  {
   "cell_type": "markdown",
   "metadata": {},
   "source": [
    "# 6. <span title=\"A bit spicy\" style=\"color: darkgreen \">🌶️</span>\n",
    "\n",
    "We’ve seen that calling `bool()` on an integer returns `False` if it’s equal to 0 and `True` otherwise. What happens if we call `int()` on a bool? Try it out in the notebook cell below.\n",
    "\n",
    "Can you take advantage of this to write a succinct function that corresponds to the English sentence \"does the customer want exactly one topping?\"?"
   ]
  },
  {
   "cell_type": "code",
   "execution_count": 12,
   "metadata": {
    "execution": {
     "iopub.execute_input": "2022-01-12T06:16:43.040953Z",
     "iopub.status.busy": "2022-01-12T06:16:43.040262Z",
     "iopub.status.idle": "2022-01-12T06:16:43.050203Z",
     "shell.execute_reply": "2022-01-12T06:16:43.049369Z",
     "shell.execute_reply.started": "2022-01-12T06:16:43.040906Z"
    }
   },
   "outputs": [],
   "source": [
    "def exactly_one_topping(ketchup, mustard, onion):\n",
    "    \"\"\"Return whether the customer wants exactly one of the three available toppings\n",
    "    on their hot dog.\n",
    "    \"\"\"\n",
    "    return ketchup + mustard + onion == 1\n",
    "\n",
    "# Check your answer\n",
    "q6.check()"
   ]
  },
  {
   "cell_type": "code",
   "execution_count": 11,
   "metadata": {
    "execution": {
     "iopub.execute_input": "2022-01-12T06:15:56.509501Z",
     "iopub.status.busy": "2022-01-12T06:15:56.508582Z",
     "iopub.status.idle": "2022-01-12T06:15:56.522203Z",
     "shell.execute_reply": "2022-01-12T06:15:56.521390Z",
     "shell.execute_reply.started": "2022-01-12T06:15:56.509446Z"
    }
   },
   "outputs": [],
   "source": [
    "q6.hint()\n",
    "q6.solution()"
   ]
  },
  {
   "cell_type": "markdown",
   "metadata": {},
   "source": [
    "# 7. <span title=\"A bit spicy\" style=\"color: darkgreen \">🌶️</span> (Optional)\n",
    "\n",
    "In this problem we'll be working with a simplified version of [blackjack](https://en.wikipedia.org/wiki/Blackjack) (aka twenty-one). In this version there is one player (who you'll control) and a dealer. Play proceeds as follows:\n",
    "\n",
    "- The player is dealt two face-up cards. The dealer is dealt one face-up card.\n",
    "- The player may ask to be dealt another card ('hit') as many times as they wish. If the sum of their cards exceeds 21, they lose the round immediately.\n",
    "- The dealer then deals additional cards to himself until either:\n",
    "    - the sum of the dealer's cards exceeds 21, in which case the player wins the round\n",
    "    - the sum of the dealer's cards is greater than or equal to 17. If the player's total is greater than the dealer's, the player wins. Otherwise, the dealer wins (even in case of a tie).\n",
    "    \n",
    "When calculating the sum of cards, Jack, Queen, and King count for 10. Aces can count as 1 or 11 (when referring to a player's \"total\" above, we mean the largest total that can be made without exceeding 21. So e.g. A+8 = 19, A+8+8 = 17)\n",
    "\n",
    "For this problem, you'll write a function representing the player's decision-making strategy in this game. We've provided a very unintelligent implementation below:"
   ]
  },
  {
   "cell_type": "code",
   "execution_count": 3,
   "metadata": {
    "execution": {
     "iopub.execute_input": "2022-01-12T08:31:53.176165Z",
     "iopub.status.busy": "2022-01-12T08:31:53.175279Z",
     "iopub.status.idle": "2022-01-12T08:31:53.182618Z",
     "shell.execute_reply": "2022-01-12T08:31:53.181613Z",
     "shell.execute_reply.started": "2022-01-12T08:31:53.176111Z"
    }
   },
   "outputs": [],
   "source": [
    "def should_hit(dealer_total, player_total, player_low_aces, player_high_aces):\n",
    "    \"\"\"Return True if the player should hit (request another card) given the current game\n",
    "    state, or False if the player should stay.\n",
    "    When calculating a hand's total value, we count aces as \"high\" (with value 11) if doing so\n",
    "    doesn't bring the total above 21, otherwise we count them as low (with value 1). \n",
    "    For example, if the player's hand is {A, A, A, 7}, we will count it as 11 + 1 + 1 + 7,\n",
    "    and therefore set player_total=20, player_low_aces=2, player_high_aces=1.\n",
    "    \"\"\"\n",
    "    return False"
   ]
  },
  {
   "cell_type": "markdown",
   "metadata": {},
   "source": [
    "This very conservative agent *always* sticks with the hand of two cards that they're dealt.\n",
    "\n",
    "We'll be simulating games between your player agent and our own dealer agent by calling your function.\n",
    "\n",
    "Try running the function below to see an example of a simulated game:"
   ]
  },
  {
   "cell_type": "code",
   "execution_count": 4,
   "metadata": {
    "execution": {
     "iopub.execute_input": "2022-01-12T08:32:05.446488Z",
     "iopub.status.busy": "2022-01-12T08:32:05.446128Z",
     "iopub.status.idle": "2022-01-12T08:32:05.453027Z",
     "shell.execute_reply": "2022-01-12T08:32:05.452313Z",
     "shell.execute_reply.started": "2022-01-12T08:32:05.446445Z"
    }
   },
   "outputs": [],
   "source": [
    "q7.simulate_one_game()"
   ]
  },
  {
   "cell_type": "markdown",
   "metadata": {},
   "source": [
    "The real test of your agent's mettle is their average win rate over many games. Try calling the function below to simulate 50000 games of blackjack (it may take a couple seconds):"
   ]
  },
  {
   "cell_type": "code",
   "execution_count": 5,
   "metadata": {
    "execution": {
     "iopub.execute_input": "2022-01-12T08:32:38.893709Z",
     "iopub.status.busy": "2022-01-12T08:32:38.893313Z",
     "iopub.status.idle": "2022-01-12T08:32:40.170252Z",
     "shell.execute_reply": "2022-01-12T08:32:40.169325Z",
     "shell.execute_reply.started": "2022-01-12T08:32:38.893659Z"
    }
   },
   "outputs": [],
   "source": [
    "q7.simulate(n_games=50000)"
   ]
  },
  {
   "cell_type": "markdown",
   "metadata": {},
   "source": [
    "Our dumb agent that completely ignores the game state still manages to win shockingly often!\n",
    "\n",
    "Try adding some more smarts to the `should_hit` function and see how it affects the results."
   ]
  },
  {
   "cell_type": "code",
   "execution_count": 7,
   "metadata": {
    "execution": {
     "iopub.execute_input": "2022-01-12T09:05:22.191057Z",
     "iopub.status.busy": "2022-01-12T09:05:22.190717Z",
     "iopub.status.idle": "2022-01-12T09:05:23.610406Z",
     "shell.execute_reply": "2022-01-12T09:05:23.609365Z",
     "shell.execute_reply.started": "2022-01-12T09:05:22.191016Z"
    }
   },
   "outputs": [],
   "source": [
    "def should_hit(dealer_total, player_total, player_low_aces, player_high_aces):\n",
    "    \"\"\"Return True if the player should hit (request another card) given the current game\n",
    "    state, or False if the player should stay.\n",
    "    When calculating a hand's total value, we count aces as \"high\" (with value 11) if doing so\n",
    "    doesn't bring the total above 21, otherwise we count them as low (with value 1). \n",
    "    For example, if the player's hand is {A, A, A, 7}, we will count it as 11 + 1 + 1 + 7,\n",
    "    and therefore set player_total=20, player_low_aces=2, player_high_aces=1.\n",
    "    \"\"\"\n",
    "     \"\"\"\n",
    "    #If player total is less than 12\n",
    "    if (player_total < 12\n",
    "        # or player total is 12 and dealer total is not 4, 5, or 6\n",
    "        or (player_total == 12 and dealer_total < 7)\n",
    "        # or player total is less than 17 and dealer total is greater than 6\n",
    "        or (player_total <= 17 and dealer_total > 6)\n",
    "        # or player total is between 12 and 17 and player has 1 \"high\" ace\n",
    "        or (player_total > 12 and player_total < 18 and player_high_aces == 1)\n",
    "       ):\n",
    "        #Hit!\n",
    "        return True\n",
    "    # Else, Stay\n",
    "    else:\n",
    "        return False\n",
    "    \"\"\"\n",
    "    if player_total < 12:\n",
    "        return True\n",
    "    elif (player_low_aces+player_high_aces) > 0 and player_total < 18:\n",
    "        return True\n",
    "    elif dealer_total >6 and player_total <17:\n",
    "        return True\n",
    "    elif dealer_total <4 and player_total <13:\n",
    "        return True\n",
    "    else:\n",
    "        return False\n",
    "    #return False\n",
    "\n",
    "q7.simulate(n_games=50000)"
   ]
  },
  {
   "cell_type": "markdown",
   "metadata": {},
   "source": [
    "# Keep Going\n",
    "\n",
    "Learn about **[lists and tuples](https://www.kaggle.com/colinmorris/lists)** to handle multiple items of data in a systematic way."
   ]
  },
  {
   "cell_type": "markdown",
   "metadata": {},
   "source": [
    "---\n",
    "\n",
    "\n",
    "\n",
    "\n",
    "*Have questions or comments? Visit the [course discussion forum](https://www.kaggle.com/learn/python/discussion) to chat with other learners.*"
   ]
  }
 ],
 "metadata": {
  "kernelspec": {
   "display_name": "Python 3",
   "language": "python",
   "name": "python3"
  },
  "language_info": {
   "codemirror_mode": {
    "name": "ipython",
    "version": 3
   },
   "file_extension": ".py",
   "mimetype": "text/x-python",
   "name": "python",
   "nbconvert_exporter": "python",
   "pygments_lexer": "ipython3",
   "version": "3.7.3"
  },
  "learntools_metadata": {
   "lesson_index": 2,
   "type": "exercise"
  }
 },
 "nbformat": 4,
 "nbformat_minor": 4
}
