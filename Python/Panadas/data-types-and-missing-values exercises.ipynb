{
 "cells": [
  {
   "cell_type": "markdown",
   "metadata": {},
   "source": [
    "**This notebook is an exercise in the [Pandas](https://www.kaggle.com/learn/pandas) course.  You can reference the tutorial at [this link](https://www.kaggle.com/residentmario/data-types-and-missing-values).**\n",
    "\n",
    "---\n"
   ]
  },
  {
   "cell_type": "markdown",
   "metadata": {},
   "source": [
    "# Introduction\n",
    "\n",
    "Run the following cell to load your data and some utility functions."
   ]
  },
  {
   "cell_type": "code",
   "execution_count": 2,
   "metadata": {
    "execution": {
     "iopub.execute_input": "2022-02-04T09:10:42.370253Z",
     "iopub.status.busy": "2022-02-04T09:10:42.369702Z",
     "iopub.status.idle": "2022-02-04T09:10:43.588333Z",
     "shell.execute_reply": "2022-02-04T09:10:43.587376Z",
     "shell.execute_reply.started": "2022-02-04T09:10:42.370203Z"
    }
   },
   "outputs": [],
   "source": [
    "import pandas as pd\n",
    "\n",
    "reviews = pd.read_csv(\"../input/wine-reviews/winemag-data-130k-v2.csv\", index_col=0)\n",
    "\n",
    "from learntools.core import binder; binder.bind(globals())\n",
    "from learntools.pandas.data_types_and_missing_data import *\n",
    "print(\"Setup complete.\")"
   ]
  },
  {
   "cell_type": "markdown",
   "metadata": {},
   "source": [
    "# Exercises"
   ]
  },
  {
   "cell_type": "markdown",
   "metadata": {},
   "source": [
    "## 1. \n",
    "What is the data type of the `points` column in the dataset?"
   ]
  },
  {
   "cell_type": "code",
   "execution_count": 3,
   "metadata": {
    "execution": {
     "iopub.execute_input": "2022-02-04T09:12:10.249092Z",
     "iopub.status.busy": "2022-02-04T09:12:10.248266Z",
     "iopub.status.idle": "2022-02-04T09:12:10.265894Z",
     "shell.execute_reply": "2022-02-04T09:12:10.264233Z",
     "shell.execute_reply.started": "2022-02-04T09:12:10.249020Z"
    }
   },
   "outputs": [],
   "source": [
    "# Your code here\n",
    "dtype = reviews.points.dtype\n",
    "\n",
    "# Check your answer\n",
    "q1.check()"
   ]
  },
  {
   "cell_type": "code",
   "execution_count": null,
   "metadata": {},
   "outputs": [],
   "source": [
    "#q1.hint()\n",
    "#q1.solution()"
   ]
  },
  {
   "cell_type": "markdown",
   "metadata": {},
   "source": [
    "## 2. \n",
    "Create a Series from entries in the `points` column, but convert the entries to strings. Hint: strings are `str` in native Python."
   ]
  },
  {
   "cell_type": "code",
   "execution_count": 4,
   "metadata": {
    "execution": {
     "iopub.execute_input": "2022-02-04T09:13:04.524583Z",
     "iopub.status.busy": "2022-02-04T09:13:04.523644Z",
     "iopub.status.idle": "2022-02-04T09:13:04.773813Z",
     "shell.execute_reply": "2022-02-04T09:13:04.771244Z",
     "shell.execute_reply.started": "2022-02-04T09:13:04.524507Z"
    }
   },
   "outputs": [],
   "source": [
    "point_strings = reviews.points.astype('str')\n",
    "\n",
    "# Check your answer\n",
    "q2.check()"
   ]
  },
  {
   "cell_type": "code",
   "execution_count": null,
   "metadata": {},
   "outputs": [],
   "source": [
    "#q2.hint()\n",
    "#q2.solution()"
   ]
  },
  {
   "cell_type": "markdown",
   "metadata": {},
   "source": [
    "## 3.\n",
    "Sometimes the price column is null. How many reviews in the dataset are missing a price?"
   ]
  },
  {
   "cell_type": "code",
   "execution_count": 9,
   "metadata": {
    "execution": {
     "iopub.execute_input": "2022-02-04T09:15:56.711347Z",
     "iopub.status.busy": "2022-02-04T09:15:56.710763Z",
     "iopub.status.idle": "2022-02-04T09:15:56.723342Z",
     "shell.execute_reply": "2022-02-04T09:15:56.722430Z",
     "shell.execute_reply.started": "2022-02-04T09:15:56.711301Z"
    }
   },
   "outputs": [],
   "source": [
    "n_missing_prices = pd.isnull(reviews.price).sum()\n",
    "\n",
    "# Check your answer\n",
    "q3.check()"
   ]
  },
  {
   "cell_type": "code",
   "execution_count": 8,
   "metadata": {
    "execution": {
     "iopub.execute_input": "2022-02-04T09:15:19.092199Z",
     "iopub.status.busy": "2022-02-04T09:15:19.091577Z",
     "iopub.status.idle": "2022-02-04T09:15:19.106621Z",
     "shell.execute_reply": "2022-02-04T09:15:19.105207Z",
     "shell.execute_reply.started": "2022-02-04T09:15:19.092142Z"
    }
   },
   "outputs": [],
   "source": [
    "#q3.hint()\n",
    "q3.solution()"
   ]
  },
  {
   "cell_type": "markdown",
   "metadata": {},
   "source": [
    "## 4.\n",
    "What are the most common wine-producing regions? Create a Series counting the number of times each value occurs in the `region_1` field. This field is often missing data, so replace missing values with `Unknown`. Sort in descending order.  Your output should look something like this:\n",
    "\n",
    "```\n",
    "Unknown                    21247\n",
    "Napa Valley                 4480\n",
    "                           ...  \n",
    "Bardolino Superiore            1\n",
    "Primitivo del Tarantino        1\n",
    "Name: region_1, Length: 1230, dtype: int64\n",
    "```"
   ]
  },
  {
   "cell_type": "code",
   "execution_count": 15,
   "metadata": {
    "execution": {
     "iopub.execute_input": "2022-02-04T09:21:52.420959Z",
     "iopub.status.busy": "2022-02-04T09:21:52.420035Z",
     "iopub.status.idle": "2022-02-04T09:21:52.511027Z",
     "shell.execute_reply": "2022-02-04T09:21:52.509934Z",
     "shell.execute_reply.started": "2022-02-04T09:21:52.420896Z"
    }
   },
   "outputs": [],
   "source": [
    "reviews_per_region = reviews.region_1.fillna(\"Unknown\").value_counts().sort_values(ascending=False)\n",
    "\n",
    "# Check your answer\n",
    "q4.check()"
   ]
  },
  {
   "cell_type": "code",
   "execution_count": 14,
   "metadata": {
    "execution": {
     "iopub.execute_input": "2022-02-04T09:21:30.098506Z",
     "iopub.status.busy": "2022-02-04T09:21:30.097578Z",
     "iopub.status.idle": "2022-02-04T09:21:30.109387Z",
     "shell.execute_reply": "2022-02-04T09:21:30.108174Z",
     "shell.execute_reply.started": "2022-02-04T09:21:30.098439Z"
    }
   },
   "outputs": [],
   "source": [
    "#q4.hint()\n",
    "q4.solution()"
   ]
  },
  {
   "cell_type": "markdown",
   "metadata": {},
   "source": [
    "# Keep going\n",
    "\n",
    "Move on to **[renaming and combining](https://www.kaggle.com/residentmario/renaming-and-combining)**."
   ]
  },
  {
   "cell_type": "markdown",
   "metadata": {},
   "source": [
    "---\n",
    "\n",
    "\n",
    "\n",
    "\n",
    "*Have questions or comments? Visit the [course discussion forum](https://www.kaggle.com/learn/pandas/discussion) to chat with other learners.*"
   ]
  }
 ],
 "metadata": {
  "kernelspec": {
   "display_name": "Python 3",
   "language": "python",
   "name": "python3"
  },
  "language_info": {
   "codemirror_mode": {
    "name": "ipython",
    "version": 3
   },
   "file_extension": ".py",
   "mimetype": "text/x-python",
   "name": "python",
   "nbconvert_exporter": "python",
   "pygments_lexer": "ipython3",
   "version": "3.7.3"
  }
 },
 "nbformat": 4,
 "nbformat_minor": 4
}
