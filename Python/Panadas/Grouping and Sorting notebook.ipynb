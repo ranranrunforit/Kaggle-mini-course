{
 "cells": [
  {
   "cell_type": "markdown",
   "metadata": {},
   "source": [
    "**This notebook is an exercise in the [Pandas](https://www.kaggle.com/learn/pandas) course.  You can reference the tutorial at [this link](https://www.kaggle.com/residentmario/grouping-and-sorting).**\n",
    "\n",
    "---\n"
   ]
  },
  {
   "cell_type": "markdown",
   "metadata": {},
   "source": [
    "# Introduction\n",
    "\n",
    "In these exercises we'll apply groupwise analysis to our dataset.\n",
    "\n",
    "Run the code cell below to load the data before running the exercises."
   ]
  },
  {
   "cell_type": "code",
   "execution_count": 2,
   "metadata": {
    "execution": {
     "iopub.execute_input": "2022-02-04T08:50:36.212153Z",
     "iopub.status.busy": "2022-02-04T08:50:36.211600Z",
     "iopub.status.idle": "2022-02-04T08:50:37.777018Z",
     "shell.execute_reply": "2022-02-04T08:50:37.776076Z",
     "shell.execute_reply.started": "2022-02-04T08:50:36.212108Z"
    }
   },
   "outputs": [],
   "source": [
    "import pandas as pd\n",
    "\n",
    "reviews = pd.read_csv(\"../input/wine-reviews/winemag-data-130k-v2.csv\", index_col=0)\n",
    "#pd.set_option(\"display.max_rows\", 5)\n",
    "\n",
    "from learntools.core import binder; binder.bind(globals())\n",
    "from learntools.pandas.grouping_and_sorting import *\n",
    "print(\"Setup complete.\")"
   ]
  },
  {
   "cell_type": "code",
   "execution_count": null,
   "metadata": {
    "execution": {
     "iopub.execute_input": "2022-02-04T08:32:40.295222Z",
     "iopub.status.busy": "2022-02-04T08:32:40.294899Z",
     "iopub.status.idle": "2022-02-04T08:32:40.32883Z",
     "shell.execute_reply": "2022-02-04T08:32:40.327856Z",
     "shell.execute_reply.started": "2022-02-04T08:32:40.295187Z"
    }
   },
   "outputs": [],
   "source": [
    "reviews"
   ]
  },
  {
   "cell_type": "markdown",
   "metadata": {},
   "source": [
    "# Exercises"
   ]
  },
  {
   "cell_type": "markdown",
   "metadata": {},
   "source": [
    "## 1.\n",
    "Who are the most common wine reviewers in the dataset? Create a `Series` whose index is the `taster_twitter_handle` category from the dataset, and whose values count how many reviews each person wrote."
   ]
  },
  {
   "cell_type": "code",
   "execution_count": null,
   "metadata": {
    "execution": {
     "iopub.execute_input": "2022-02-04T08:35:13.80978Z",
     "iopub.status.busy": "2022-02-04T08:35:13.809466Z",
     "iopub.status.idle": "2022-02-04T08:35:13.858119Z",
     "shell.execute_reply": "2022-02-04T08:35:13.857265Z",
     "shell.execute_reply.started": "2022-02-04T08:35:13.809748Z"
    }
   },
   "outputs": [],
   "source": [
    "# Your code here\n",
    "reviews_written = reviews.groupby('taster_twitter_handle').taster_twitter_handle.count()\n",
    "\n",
    "# Check your answer\n",
    "q1.check()"
   ]
  },
  {
   "cell_type": "code",
   "execution_count": null,
   "metadata": {},
   "outputs": [],
   "source": [
    "#q1.hint()\n",
    "#q1.solution()"
   ]
  },
  {
   "cell_type": "markdown",
   "metadata": {},
   "source": [
    "## 2.\n",
    "What is the best wine I can buy for a given amount of money? Create a `Series` whose index is wine prices and whose values is the maximum number of points a wine costing that much was given in a review. Sort the values by price, ascending (so that `4.0` dollars is at the top and `3300.0` dollars is at the bottom)."
   ]
  },
  {
   "cell_type": "code",
   "execution_count": null,
   "metadata": {
    "execution": {
     "iopub.execute_input": "2022-02-04T08:41:13.43033Z",
     "iopub.status.busy": "2022-02-04T08:41:13.430022Z",
     "iopub.status.idle": "2022-02-04T08:41:13.446808Z",
     "shell.execute_reply": "2022-02-04T08:41:13.44627Z",
     "shell.execute_reply.started": "2022-02-04T08:41:13.430288Z"
    }
   },
   "outputs": [],
   "source": [
    "best_rating_per_price = reviews.groupby('price')['points'].max().sort_index()\n",
    "\n",
    "# Check your answer\n",
    "q2.check()"
   ]
  },
  {
   "cell_type": "code",
   "execution_count": null,
   "metadata": {
    "execution": {
     "iopub.execute_input": "2022-02-04T08:40:16.900443Z",
     "iopub.status.busy": "2022-02-04T08:40:16.899517Z",
     "iopub.status.idle": "2022-02-04T08:40:16.909396Z",
     "shell.execute_reply": "2022-02-04T08:40:16.908444Z",
     "shell.execute_reply.started": "2022-02-04T08:40:16.90039Z"
    }
   },
   "outputs": [],
   "source": [
    "#q2.hint()\n",
    "q2.solution()"
   ]
  },
  {
   "cell_type": "markdown",
   "metadata": {},
   "source": [
    "## 3.\n",
    "What are the minimum and maximum prices for each `variety` of wine? Create a `DataFrame` whose index is the `variety` category from the dataset and whose values are the `min` and `max` values thereof."
   ]
  },
  {
   "cell_type": "code",
   "execution_count": null,
   "metadata": {
    "execution": {
     "iopub.execute_input": "2022-02-04T08:43:59.945945Z",
     "iopub.status.busy": "2022-02-04T08:43:59.945477Z",
     "iopub.status.idle": "2022-02-04T08:43:59.986862Z",
     "shell.execute_reply": "2022-02-04T08:43:59.986046Z",
     "shell.execute_reply.started": "2022-02-04T08:43:59.9459Z"
    }
   },
   "outputs": [],
   "source": [
    "price_extremes = reviews.groupby(['variety']).price.agg([min, max])\n",
    "\n",
    "\n",
    "# Check your answer\n",
    "q3.check()\n",
    "price_extremes"
   ]
  },
  {
   "cell_type": "code",
   "execution_count": null,
   "metadata": {},
   "outputs": [],
   "source": [
    "#q3.hint()\n",
    "#q3.solution()"
   ]
  },
  {
   "cell_type": "markdown",
   "metadata": {},
   "source": [
    "## 4.\n",
    "What are the most expensive wine varieties? Create a variable `sorted_varieties` containing a copy of the dataframe from the previous question where varieties are sorted in descending order based on minimum price, then on maximum price (to break ties)."
   ]
  },
  {
   "cell_type": "code",
   "execution_count": null,
   "metadata": {
    "execution": {
     "iopub.execute_input": "2022-02-04T08:45:55.597474Z",
     "iopub.status.busy": "2022-02-04T08:45:55.596986Z",
     "iopub.status.idle": "2022-02-04T08:45:55.610034Z",
     "shell.execute_reply": "2022-02-04T08:45:55.609158Z",
     "shell.execute_reply.started": "2022-02-04T08:45:55.597423Z"
    }
   },
   "outputs": [],
   "source": [
    "sorted_varieties = price_extremes.sort_values(by=['min', 'max'], ascending=False)\n",
    "\n",
    "# Check your answer\n",
    "q4.check()"
   ]
  },
  {
   "cell_type": "code",
   "execution_count": null,
   "metadata": {
    "execution": {
     "iopub.execute_input": "2022-02-04T08:45:20.763652Z",
     "iopub.status.busy": "2022-02-04T08:45:20.763334Z",
     "iopub.status.idle": "2022-02-04T08:45:20.771418Z",
     "shell.execute_reply": "2022-02-04T08:45:20.770622Z",
     "shell.execute_reply.started": "2022-02-04T08:45:20.763618Z"
    }
   },
   "outputs": [],
   "source": [
    "#q4.hint()\n",
    "q4.solution()"
   ]
  },
  {
   "cell_type": "markdown",
   "metadata": {},
   "source": [
    "## 5.\n",
    "Create a `Series` whose index is reviewers and whose values is the average review score given out by that reviewer. Hint: you will need the `taster_name` and `points` columns."
   ]
  },
  {
   "cell_type": "code",
   "execution_count": 4,
   "metadata": {
    "execution": {
     "iopub.execute_input": "2022-02-04T08:58:33.817749Z",
     "iopub.status.busy": "2022-02-04T08:58:33.817051Z",
     "iopub.status.idle": "2022-02-04T08:58:33.849733Z",
     "shell.execute_reply": "2022-02-04T08:58:33.848808Z",
     "shell.execute_reply.started": "2022-02-04T08:58:33.817705Z"
    }
   },
   "outputs": [],
   "source": [
    "reviewer_mean_ratings = reviews.groupby(['taster_name']).points.mean()\n",
    "\n",
    "# Check your answer\n",
    "q5.check()"
   ]
  },
  {
   "cell_type": "code",
   "execution_count": 3,
   "metadata": {
    "execution": {
     "iopub.execute_input": "2022-02-04T08:58:21.844426Z",
     "iopub.status.busy": "2022-02-04T08:58:21.844065Z",
     "iopub.status.idle": "2022-02-04T08:58:21.855670Z",
     "shell.execute_reply": "2022-02-04T08:58:21.854820Z",
     "shell.execute_reply.started": "2022-02-04T08:58:21.844386Z"
    }
   },
   "outputs": [],
   "source": [
    "#q5.hint()\n",
    "q5.solution()"
   ]
  },
  {
   "cell_type": "markdown",
   "metadata": {},
   "source": [
    "Are there significant differences in the average scores assigned by the various reviewers? Run the cell below to use the `describe()` method to see a summary of the range of values."
   ]
  },
  {
   "cell_type": "code",
   "execution_count": 5,
   "metadata": {
    "execution": {
     "iopub.execute_input": "2022-02-04T08:58:41.285005Z",
     "iopub.status.busy": "2022-02-04T08:58:41.284701Z",
     "iopub.status.idle": "2022-02-04T08:58:41.299112Z",
     "shell.execute_reply": "2022-02-04T08:58:41.297607Z",
     "shell.execute_reply.started": "2022-02-04T08:58:41.284972Z"
    }
   },
   "outputs": [],
   "source": [
    "reviewer_mean_ratings.describe()"
   ]
  },
  {
   "cell_type": "markdown",
   "metadata": {},
   "source": [
    "## 6.\n",
    "What combination of countries and varieties are most common? Create a `Series` whose index is a `MultiIndex`of `{country, variety}` pairs. For example, a pinot noir produced in the US should map to `{\"US\", \"Pinot Noir\"}`. Sort the values in the `Series` in descending order based on wine count."
   ]
  },
  {
   "cell_type": "code",
   "execution_count": 8,
   "metadata": {
    "execution": {
     "iopub.execute_input": "2022-02-04T09:03:12.051387Z",
     "iopub.status.busy": "2022-02-04T09:03:12.050886Z",
     "iopub.status.idle": "2022-02-04T09:03:12.101948Z",
     "shell.execute_reply": "2022-02-04T09:03:12.101164Z",
     "shell.execute_reply.started": "2022-02-04T09:03:12.051312Z"
    }
   },
   "outputs": [],
   "source": [
    "country_variety_counts = reviews.groupby(['country', 'variety']).size().sort_values(ascending=False)\n",
    "# Check your answer\n",
    "q6.check()"
   ]
  },
  {
   "cell_type": "code",
   "execution_count": 7,
   "metadata": {
    "execution": {
     "iopub.execute_input": "2022-02-04T09:02:11.991231Z",
     "iopub.status.busy": "2022-02-04T09:02:11.990738Z",
     "iopub.status.idle": "2022-02-04T09:02:11.999950Z",
     "shell.execute_reply": "2022-02-04T09:02:11.999187Z",
     "shell.execute_reply.started": "2022-02-04T09:02:11.991184Z"
    }
   },
   "outputs": [],
   "source": [
    "#q6.hint()\n",
    "q6.solution()"
   ]
  },
  {
   "cell_type": "markdown",
   "metadata": {},
   "source": [
    "# Keep going\n",
    "\n",
    "Move on to the [**data types and missing data**](https://www.kaggle.com/residentmario/data-types-and-missing-values)."
   ]
  },
  {
   "cell_type": "markdown",
   "metadata": {},
   "source": [
    "---\n",
    "\n",
    "\n",
    "\n",
    "\n",
    "*Have questions or comments? Visit the [course discussion forum](https://www.kaggle.com/learn/pandas/discussion) to chat with other learners.*"
   ]
  }
 ],
 "metadata": {
  "kernelspec": {
   "display_name": "Python 3",
   "language": "python",
   "name": "python3"
  },
  "language_info": {
   "codemirror_mode": {
    "name": "ipython",
    "version": 3
   },
   "file_extension": ".py",
   "mimetype": "text/x-python",
   "name": "python",
   "nbconvert_exporter": "python",
   "pygments_lexer": "ipython3",
   "version": "3.7.3"
  }
 },
 "nbformat": 4,
 "nbformat_minor": 4
}
