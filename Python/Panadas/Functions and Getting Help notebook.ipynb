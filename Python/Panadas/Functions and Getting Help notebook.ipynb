{
 "cells": [
  {
   "cell_type": "markdown",
   "metadata": {},
   "source": [
    "**This notebook is an exercise in the [Python](https://www.kaggle.com/learn/python) course.  You can reference the tutorial at [this link](https://www.kaggle.com/colinmorris/functions-and-getting-help).**\n",
    "\n",
    "---\n"
   ]
  },
  {
   "cell_type": "markdown",
   "metadata": {},
   "source": [
    "Functions are powerful. Try writing some yourself.\n",
    "\n",
    "As before, don't forget to run the setup code below before jumping into question 1."
   ]
  },
  {
   "cell_type": "code",
   "execution_count": 1,
   "metadata": {
    "_kg_hide-input": true,
    "_kg_hide-output": true,
    "execution": {
     "iopub.execute_input": "2022-01-12T03:13:11.584469Z",
     "iopub.status.busy": "2022-01-12T03:13:11.583562Z",
     "iopub.status.idle": "2022-01-12T03:13:11.650976Z",
     "shell.execute_reply": "2022-01-12T03:13:11.646862Z",
     "shell.execute_reply.started": "2022-01-12T03:13:11.584295Z"
    }
   },
   "outputs": [],
   "source": [
    "# SETUP. You don't need to worry for now about what this code does or how it works.\n",
    "from learntools.core import binder; binder.bind(globals())\n",
    "from learntools.python.ex2 import *\n",
    "print('Setup complete.')"
   ]
  },
  {
   "cell_type": "markdown",
   "metadata": {},
   "source": [
    "# 1.\n",
    "\n",
    "Complete the body of the following function according to its docstring.\n",
    "\n",
    "HINT: Python has a built-in function `round`."
   ]
  },
  {
   "cell_type": "code",
   "execution_count": 2,
   "metadata": {
    "execution": {
     "iopub.execute_input": "2022-01-12T03:14:16.452637Z",
     "iopub.status.busy": "2022-01-12T03:14:16.452188Z",
     "iopub.status.idle": "2022-01-12T03:14:16.463083Z",
     "shell.execute_reply": "2022-01-12T03:14:16.461889Z",
     "shell.execute_reply.started": "2022-01-12T03:14:16.452593Z"
    }
   },
   "outputs": [],
   "source": [
    "help(round)"
   ]
  },
  {
   "cell_type": "code",
   "execution_count": 4,
   "metadata": {
    "execution": {
     "iopub.execute_input": "2022-01-12T03:14:53.631194Z",
     "iopub.status.busy": "2022-01-12T03:14:53.630388Z",
     "iopub.status.idle": "2022-01-12T03:14:53.641991Z",
     "shell.execute_reply": "2022-01-12T03:14:53.641102Z",
     "shell.execute_reply.started": "2022-01-12T03:14:53.631137Z"
    }
   },
   "outputs": [],
   "source": [
    "def round_to_two_places(num):\n",
    "    \"\"\"Return the given number rounded to two decimal places. \n",
    "    \n",
    "    >>> round_to_two_places(3.14159)\n",
    "    3.14\n",
    "    \"\"\"\n",
    "    return round(num,2)\n",
    "    # Replace this body with your own code.\n",
    "    # (\"pass\" is a keyword that does literally nothing. We used it as a placeholder\n",
    "    # because after we begin a code block, Python requires at least one line of code)\n",
    "    pass\n",
    "\n",
    "# Check your answer\n",
    "q1.check()"
   ]
  },
  {
   "cell_type": "code",
   "execution_count": null,
   "metadata": {},
   "outputs": [],
   "source": [
    "# Uncomment the following for a hint\n",
    "#q1.hint()\n",
    "# Or uncomment the following to peek at the solution\n",
    "#q1.solution()"
   ]
  },
  {
   "cell_type": "markdown",
   "metadata": {},
   "source": [
    "# 2.\n",
    "The help for `round` says that `ndigits` (the second argument) may be negative.\n",
    "What do you think will happen when it is? Try some examples in the following cell."
   ]
  },
  {
   "cell_type": "code",
   "execution_count": 10,
   "metadata": {
    "execution": {
     "iopub.execute_input": "2022-01-12T03:16:53.096256Z",
     "iopub.status.busy": "2022-01-12T03:16:53.095915Z",
     "iopub.status.idle": "2022-01-12T03:16:53.103586Z",
     "shell.execute_reply": "2022-01-12T03:16:53.102223Z",
     "shell.execute_reply.started": "2022-01-12T03:16:53.096221Z"
    }
   },
   "outputs": [],
   "source": [
    "# Put your test code here\n",
    "print(round(102.13456,-2),\n",
    "      round(1002.13456,-2),\n",
    "      round(2.13456,-2))"
   ]
  },
  {
   "cell_type": "markdown",
   "metadata": {},
   "source": [
    "Can you think of a case where this would be useful?  Once you're ready, run the code cell below to see the answer and to receive credit for completing the problem."
   ]
  },
  {
   "cell_type": "code",
   "execution_count": 11,
   "metadata": {
    "execution": {
     "iopub.execute_input": "2022-01-12T03:17:09.765074Z",
     "iopub.status.busy": "2022-01-12T03:17:09.764741Z",
     "iopub.status.idle": "2022-01-12T03:17:09.775090Z",
     "shell.execute_reply": "2022-01-12T03:17:09.774164Z",
     "shell.execute_reply.started": "2022-01-12T03:17:09.765037Z"
    }
   },
   "outputs": [],
   "source": [
    "# Check your answer (Run this code cell to receive credit!)\n",
    "q2.solution()"
   ]
  },
  {
   "cell_type": "markdown",
   "metadata": {},
   "source": [
    "# 3.\n",
    "\n",
    "In the previous exercise, the candy-sharing friends Alice, Bob and Carol tried to split candies evenly. For the sake of their friendship, any candies left over would be smashed. For example, if they collectively bring home 91 candies, they'll take 30 each and smash 1.\n",
    "\n",
    "Below is a simple function that will calculate the number of candies to smash for *any* number of total candies.\n",
    "\n",
    "Modify it so that it optionally takes a second argument representing the number of friends the candies are being split between. If no second argument is provided, it should assume 3 friends, as before.\n",
    "\n",
    "Update the docstring to reflect this new behaviour."
   ]
  },
  {
   "cell_type": "code",
   "execution_count": 13,
   "metadata": {
    "execution": {
     "iopub.execute_input": "2022-01-12T03:19:32.530694Z",
     "iopub.status.busy": "2022-01-12T03:19:32.529998Z",
     "iopub.status.idle": "2022-01-12T03:19:32.539939Z",
     "shell.execute_reply": "2022-01-12T03:19:32.539073Z",
     "shell.execute_reply.started": "2022-01-12T03:19:32.530649Z"
    }
   },
   "outputs": [],
   "source": [
    "def to_smash(total_candies,num=3):\n",
    "    \"\"\"Return the number of leftover candies that must be smashed after distributing\n",
    "    the given number of candies evenly between any number of friends.\n",
    "    \n",
    "    >>> to_smash(91)\n",
    "    1\n",
    "    \"\"\"\n",
    "    return total_candies % num\n",
    "\n",
    "# Check your answer\n",
    "q3.check()"
   ]
  },
  {
   "cell_type": "code",
   "execution_count": null,
   "metadata": {},
   "outputs": [],
   "source": [
    "#q3.hint()"
   ]
  },
  {
   "cell_type": "code",
   "execution_count": null,
   "metadata": {},
   "outputs": [],
   "source": [
    "#q3.solution()"
   ]
  },
  {
   "cell_type": "markdown",
   "metadata": {},
   "source": [
    "# 4. (Optional)\n",
    "\n",
    "It may not be fun, but reading and understanding error messages will be an important part of your Python career.\n",
    "\n",
    "Each code cell below contains some commented buggy code. For each cell...\n",
    "\n",
    "1. Read the code and predict what you think will happen when it's run.\n",
    "2. Then uncomment the code and run it to see what happens. (**Tip**: In the kernel editor, you can highlight several lines and press `ctrl`+`/` to toggle commenting.)\n",
    "3. Fix the code (so that it accomplishes its intended purpose without throwing an exception)\n",
    "\n",
    "<!-- TODO: should this be autochecked? Delta is probably pretty small. -->"
   ]
  },
  {
   "cell_type": "code",
   "execution_count": 18,
   "metadata": {
    "execution": {
     "iopub.execute_input": "2022-01-12T03:25:22.382026Z",
     "iopub.status.busy": "2022-01-12T03:25:22.380663Z",
     "iopub.status.idle": "2022-01-12T03:25:22.390471Z",
     "shell.execute_reply": "2022-01-12T03:25:22.389562Z",
     "shell.execute_reply.started": "2022-01-12T03:25:22.381945Z"
    }
   },
   "outputs": [],
   "source": [
    "# ruound_to_two_places(9.9999)\n",
    "def round_to_two_places(num):\n",
    "    \"\"\"Return the given number rounded to two decimal places. \n",
    "    \n",
    "    >>> round_to_two_places(3.14159)\n",
    "    3.14\n",
    "    \"\"\"\n",
    "    return round(num,2)\n",
    "    # Replace this body with your own code.\n",
    "    # (\"pass\" is a keyword that does literally nothing. We used it as a placeholder\n",
    "    # because after we begin a code block, Python requires at least one line of code)\n",
    "    pass\n",
    "\n",
    "round_to_two_places(9.9999)"
   ]
  },
  {
   "cell_type": "code",
   "execution_count": 22,
   "metadata": {
    "execution": {
     "iopub.execute_input": "2022-01-12T03:27:27.795292Z",
     "iopub.status.busy": "2022-01-12T03:27:27.794892Z",
     "iopub.status.idle": "2022-01-12T03:27:27.802397Z",
     "shell.execute_reply": "2022-01-12T03:27:27.801274Z",
     "shell.execute_reply.started": "2022-01-12T03:27:27.795247Z"
    }
   },
   "outputs": [],
   "source": [
    "x = -10\n",
    "y = 5\n",
    "# # Which of the two variables above has the smallest absolute value?\n",
    "smallest_abs = min(x, y,key=abs)\n",
    "print(smallest_abs)"
   ]
  },
  {
   "cell_type": "code",
   "execution_count": 24,
   "metadata": {
    "execution": {
     "iopub.execute_input": "2022-01-12T03:28:26.526118Z",
     "iopub.status.busy": "2022-01-12T03:28:26.525429Z",
     "iopub.status.idle": "2022-01-12T03:28:26.534261Z",
     "shell.execute_reply": "2022-01-12T03:28:26.533057Z",
     "shell.execute_reply.started": "2022-01-12T03:28:26.526055Z"
    }
   },
   "outputs": [],
   "source": [
    "def f(x):\n",
    "    y = abs(x)\n",
    "    return y\n",
    "\n",
    "print(f(5))"
   ]
  },
  {
   "cell_type": "markdown",
   "metadata": {},
   "source": [
    "# Keep Going\n",
    "\n",
    "Nice job with the code. Next up, you'll learn about *conditionals*, which you'll need to **[write interesting programs](https://www.kaggle.com/colinmorris/booleans-and-conditionals)**. "
   ]
  },
  {
   "cell_type": "markdown",
   "metadata": {},
   "source": [
    "---\n",
    "\n",
    "\n",
    "\n",
    "\n",
    "*Have questions or comments? Visit the [course discussion forum](https://www.kaggle.com/learn/python/discussion) to chat with other learners.*"
   ]
  }
 ],
 "metadata": {
  "kernelspec": {
   "display_name": "Python 3",
   "language": "python",
   "name": "python3"
  },
  "language_info": {
   "codemirror_mode": {
    "name": "ipython",
    "version": 3
   },
   "file_extension": ".py",
   "mimetype": "text/x-python",
   "name": "python",
   "nbconvert_exporter": "python",
   "pygments_lexer": "ipython3",
   "version": "3.7.3"
  },
  "learntools_metadata": {
   "lesson_index": 1,
   "type": "exercise"
  }
 },
 "nbformat": 4,
 "nbformat_minor": 4
}
