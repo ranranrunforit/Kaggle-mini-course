{
 "cells": [
  {
   "cell_type": "markdown",
   "metadata": {},
   "source": [
    "**This notebook is an exercise in the [Python](https://www.kaggle.com/learn/python) course.  You can reference the tutorial at [this link](https://www.kaggle.com/colinmorris/strings-and-dictionaries).**\n",
    "\n",
    "---\n"
   ]
  },
  {
   "cell_type": "markdown",
   "metadata": {},
   "source": [
    "You are almost done with the course. Nice job!\n",
    "\n",
    "We have a couple more interesting problems for you before you go. \n",
    "\n",
    "As always, run the setup code below before working on the questions."
   ]
  },
  {
   "cell_type": "code",
   "execution_count": 1,
   "metadata": {
    "execution": {
     "iopub.execute_input": "2022-01-12T13:03:07.135459Z",
     "iopub.status.busy": "2022-01-12T13:03:07.135050Z",
     "iopub.status.idle": "2022-01-12T13:03:07.204969Z",
     "shell.execute_reply": "2022-01-12T13:03:07.204025Z",
     "shell.execute_reply.started": "2022-01-12T13:03:07.135362Z"
    }
   },
   "outputs": [],
   "source": [
    "from learntools.core import binder; binder.bind(globals())\n",
    "from learntools.python.ex6 import *\n",
    "print('Setup complete.')"
   ]
  },
  {
   "cell_type": "markdown",
   "metadata": {},
   "source": [
    "Let's start with a string lightning round to warm up. What are the lengths of the strings below?\n",
    "\n",
    "For each of the five strings below, predict what `len()` would return when passed that string. Use the variable `length` to record your answer, then run the cell to check whether you were right.  \n",
    "\n",
    "# 0a."
   ]
  },
  {
   "cell_type": "code",
   "execution_count": 2,
   "metadata": {
    "execution": {
     "iopub.execute_input": "2022-01-12T13:03:36.751744Z",
     "iopub.status.busy": "2022-01-12T13:03:36.750954Z",
     "iopub.status.idle": "2022-01-12T13:03:36.765799Z",
     "shell.execute_reply": "2022-01-12T13:03:36.764456Z",
     "shell.execute_reply.started": "2022-01-12T13:03:36.751682Z"
    }
   },
   "outputs": [],
   "source": [
    "a = \"\"\n",
    "length = 0\n",
    "q0.a.check()"
   ]
  },
  {
   "cell_type": "markdown",
   "metadata": {},
   "source": [
    "# 0b."
   ]
  },
  {
   "cell_type": "code",
   "execution_count": 3,
   "metadata": {
    "execution": {
     "iopub.execute_input": "2022-01-12T13:04:03.812724Z",
     "iopub.status.busy": "2022-01-12T13:04:03.812081Z",
     "iopub.status.idle": "2022-01-12T13:04:03.824597Z",
     "shell.execute_reply": "2022-01-12T13:04:03.823564Z",
     "shell.execute_reply.started": "2022-01-12T13:04:03.812661Z"
    }
   },
   "outputs": [],
   "source": [
    "b = \"it's ok\"\n",
    "length = 7\n",
    "q0.b.check()"
   ]
  },
  {
   "cell_type": "markdown",
   "metadata": {},
   "source": [
    "# 0c."
   ]
  },
  {
   "cell_type": "code",
   "execution_count": 4,
   "metadata": {
    "execution": {
     "iopub.execute_input": "2022-01-12T13:04:15.693245Z",
     "iopub.status.busy": "2022-01-12T13:04:15.692859Z",
     "iopub.status.idle": "2022-01-12T13:04:15.703536Z",
     "shell.execute_reply": "2022-01-12T13:04:15.702535Z",
     "shell.execute_reply.started": "2022-01-12T13:04:15.693206Z"
    }
   },
   "outputs": [],
   "source": [
    "c = 'it\\'s ok'\n",
    "length = 7\n",
    "q0.c.check()"
   ]
  },
  {
   "cell_type": "markdown",
   "metadata": {},
   "source": [
    "# 0d."
   ]
  },
  {
   "cell_type": "code",
   "execution_count": 5,
   "metadata": {
    "execution": {
     "iopub.execute_input": "2022-01-12T13:04:24.877344Z",
     "iopub.status.busy": "2022-01-12T13:04:24.876567Z",
     "iopub.status.idle": "2022-01-12T13:04:24.886496Z",
     "shell.execute_reply": "2022-01-12T13:04:24.885655Z",
     "shell.execute_reply.started": "2022-01-12T13:04:24.877294Z"
    }
   },
   "outputs": [],
   "source": [
    "d = \"\"\"hey\"\"\"\n",
    "length = 3\n",
    "q0.d.check()"
   ]
  },
  {
   "cell_type": "markdown",
   "metadata": {},
   "source": [
    "# 0e."
   ]
  },
  {
   "cell_type": "code",
   "execution_count": 7,
   "metadata": {
    "execution": {
     "iopub.execute_input": "2022-01-12T13:04:38.190872Z",
     "iopub.status.busy": "2022-01-12T13:04:38.190121Z",
     "iopub.status.idle": "2022-01-12T13:04:38.200925Z",
     "shell.execute_reply": "2022-01-12T13:04:38.199934Z",
     "shell.execute_reply.started": "2022-01-12T13:04:38.190817Z"
    }
   },
   "outputs": [],
   "source": [
    "e = '\\n'\n",
    "length = 1\n",
    "q0.e.check()"
   ]
  },
  {
   "cell_type": "markdown",
   "metadata": {},
   "source": [
    "# 1.\n",
    "\n",
    "There is a saying that \"Data scientists spend 80% of their time cleaning data, and 20% of their time complaining about cleaning data.\" Let's see if you can write a function to help clean US zip code data. Given a string, it should return whether or not that string represents a valid zip code. For our purposes, a valid zip code is any string consisting of exactly 5 digits.\n",
    "\n",
    "HINT: `str` has a method that will be useful here. Use `help(str)` to review a list of string methods."
   ]
  },
  {
   "cell_type": "code",
   "execution_count": 12,
   "metadata": {
    "execution": {
     "iopub.execute_input": "2022-01-12T13:07:38.529151Z",
     "iopub.status.busy": "2022-01-12T13:07:38.527912Z",
     "iopub.status.idle": "2022-01-12T13:07:38.541573Z",
     "shell.execute_reply": "2022-01-12T13:07:38.540620Z",
     "shell.execute_reply.started": "2022-01-12T13:07:38.529083Z"
    }
   },
   "outputs": [],
   "source": [
    "def is_valid_zip(zip_code):\n",
    "    \"\"\"Returns whether the input string is a valid (5 digit) zip code\n",
    "    \"\"\"\n",
    "    return len(zip_code)==5 and zip_code.isdigit()\n",
    "\n",
    "# Check your answer\n",
    "q1.check()"
   ]
  },
  {
   "cell_type": "code",
   "execution_count": 13,
   "metadata": {
    "execution": {
     "iopub.execute_input": "2022-01-12T13:07:43.875519Z",
     "iopub.status.busy": "2022-01-12T13:07:43.875158Z",
     "iopub.status.idle": "2022-01-12T13:07:43.888887Z",
     "shell.execute_reply": "2022-01-12T13:07:43.887935Z",
     "shell.execute_reply.started": "2022-01-12T13:07:43.875480Z"
    }
   },
   "outputs": [],
   "source": [
    "#q1.hint()\n",
    "#q1.solution()"
   ]
  },
  {
   "cell_type": "markdown",
   "metadata": {},
   "source": [
    "# 2.\n",
    "\n",
    "A researcher has gathered thousands of news articles. But she wants to focus her attention on articles including a specific word. Complete the function below to help her filter her list of articles.\n",
    "\n",
    "Your function should meet the following criteria:\n",
    "\n",
    "- Do not include documents where the keyword string shows up only as a part of a larger word. For example, if she were looking for the keyword “closed”, you would not include the string “enclosed.” \n",
    "- She does not want you to distinguish upper case from lower case letters. So the phrase “Closed the case.” would be included when the keyword is “closed”\n",
    "- Do not let periods or commas affect what is matched. “It is closed.” would be included when the keyword is “closed”. But you can assume there are no other types of punctuation."
   ]
  },
  {
   "cell_type": "code",
   "execution_count": 17,
   "metadata": {
    "execution": {
     "iopub.execute_input": "2022-01-12T13:15:31.860380Z",
     "iopub.status.busy": "2022-01-12T13:15:31.860080Z",
     "iopub.status.idle": "2022-01-12T13:15:31.873331Z",
     "shell.execute_reply": "2022-01-12T13:15:31.872253Z",
     "shell.execute_reply.started": "2022-01-12T13:15:31.860350Z"
    }
   },
   "outputs": [],
   "source": [
    "def word_search(doc_list, keyword):\n",
    "    \"\"\"\n",
    "    Takes a list of documents (each document is a string) and a keyword. \n",
    "    Returns list of the index values into the original list for all documents \n",
    "    containing the keyword.\n",
    "\n",
    "    Example:\n",
    "    doc_list = [\"The Learn Python Challenge Casino.\", \"They bought a car\", \"Casinoville\"]\n",
    "    >>> word_search(doc_list, 'casino')\n",
    "    >>> [0]\n",
    "    \"\"\"\n",
    "    # list to hold the indices of matching documents\n",
    "    indices = [] \n",
    "    # Iterate through the indices (i) and elements (doc) of documents\n",
    "    for i, doc in enumerate(doc_list):\n",
    "        # Split the string doc into a list of words (according to whitespace)\n",
    "        tokens = doc.split()\n",
    "        # Make a transformed list where we 'normalize' each word to facilitate matching.\n",
    "        # Periods and commas are removed from the end of each word, and it's set to all lowercase.\n",
    "        normalized = [token.rstrip('.,').lower() for token in tokens]\n",
    "        # Is there a match? If so, update the list of matching indices.\n",
    "        if keyword.lower() in normalized:\n",
    "            indices.append(i)\n",
    "    return indices\n",
    "# Check your answer\n",
    "q2.check()"
   ]
  },
  {
   "cell_type": "code",
   "execution_count": 18,
   "metadata": {
    "execution": {
     "iopub.execute_input": "2022-01-12T13:16:02.175756Z",
     "iopub.status.busy": "2022-01-12T13:16:02.174631Z",
     "iopub.status.idle": "2022-01-12T13:16:02.192488Z",
     "shell.execute_reply": "2022-01-12T13:16:02.191445Z",
     "shell.execute_reply.started": "2022-01-12T13:16:02.175672Z"
    }
   },
   "outputs": [],
   "source": [
    "q2.hint()\n",
    "q2.solution()"
   ]
  },
  {
   "cell_type": "markdown",
   "metadata": {},
   "source": [
    "# 3.\n",
    "\n",
    "Now the researcher wants to supply multiple keywords to search for. Complete the function below to help her.\n",
    "\n",
    "(You're encouraged to use the `word_search` function you just wrote when implementing this function. Reusing code in this way makes your programs more robust and readable - and it saves typing!)"
   ]
  },
  {
   "cell_type": "code",
   "execution_count": 21,
   "metadata": {
    "execution": {
     "iopub.execute_input": "2022-01-12T13:17:45.468836Z",
     "iopub.status.busy": "2022-01-12T13:17:45.467983Z",
     "iopub.status.idle": "2022-01-12T13:17:45.484846Z",
     "shell.execute_reply": "2022-01-12T13:17:45.483717Z",
     "shell.execute_reply.started": "2022-01-12T13:17:45.468782Z"
    }
   },
   "outputs": [],
   "source": [
    "def multi_word_search(doc_list, keywords):\n",
    "    \"\"\"\n",
    "    Takes list of documents (each document is a string) and a list of keywords.  \n",
    "    Returns a dictionary where each key is a keyword, and the value is a list of indices\n",
    "    (from doc_list) of the documents containing that keyword\n",
    "\n",
    "    >>> doc_list = [\"The Learn Python Challenge Casino.\", \"They bought a car and a casino\", \"Casinoville\"]\n",
    "    >>> keywords = ['casino', 'they']\n",
    "    >>> multi_word_search(doc_list, keywords)\n",
    "    {'casino': [0, 1], 'they': [1]}\n",
    "    \"\"\"\n",
    "    keyword_to_indices = {}\n",
    "    for keyword in keywords:\n",
    "        keyword_to_indices[keyword] = word_search(doc_list, keyword)\n",
    "    return keyword_to_indices\n",
    "\n",
    "# Check your answer\n",
    "q3.check()"
   ]
  },
  {
   "cell_type": "code",
   "execution_count": 19,
   "metadata": {
    "execution": {
     "iopub.execute_input": "2022-01-12T13:16:40.081625Z",
     "iopub.status.busy": "2022-01-12T13:16:40.080991Z",
     "iopub.status.idle": "2022-01-12T13:16:40.094423Z",
     "shell.execute_reply": "2022-01-12T13:16:40.093179Z",
     "shell.execute_reply.started": "2022-01-12T13:16:40.081578Z"
    }
   },
   "outputs": [],
   "source": [
    "q3.solution()"
   ]
  },
  {
   "cell_type": "markdown",
   "metadata": {},
   "source": [
    "# Keep Going\n",
    "\n",
    "You've learned a lot. But even the best programmers rely heavily on \"libraries\" of code from other programmers. You'll learn about that in **[the last lesson](https://www.kaggle.com/colinmorris/working-with-external-libraries)**.\n"
   ]
  },
  {
   "cell_type": "markdown",
   "metadata": {},
   "source": [
    "---\n",
    "\n",
    "\n",
    "\n",
    "\n",
    "*Have questions or comments? Visit the [course discussion forum](https://www.kaggle.com/learn/python/discussion) to chat with other learners.*"
   ]
  }
 ],
 "metadata": {
  "kernelspec": {
   "display_name": "Python 3",
   "language": "python",
   "name": "python3"
  },
  "language_info": {
   "codemirror_mode": {
    "name": "ipython",
    "version": 3
   },
   "file_extension": ".py",
   "mimetype": "text/x-python",
   "name": "python",
   "nbconvert_exporter": "python",
   "pygments_lexer": "ipython3",
   "version": "3.7.3"
  },
  "learntools_metadata": {
   "lesson_index": 5,
   "type": "exercise"
  }
 },
 "nbformat": 4,
 "nbformat_minor": 4
}
