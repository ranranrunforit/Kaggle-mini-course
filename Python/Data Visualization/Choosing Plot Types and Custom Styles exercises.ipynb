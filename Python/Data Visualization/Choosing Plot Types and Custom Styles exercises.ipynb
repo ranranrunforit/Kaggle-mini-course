{
 "cells": [
  {
   "cell_type": "markdown",
   "metadata": {},
   "source": [
    "**This notebook is an exercise in the [Data Visualization](https://www.kaggle.com/learn/data-visualization) course.  You can reference the tutorial at [this link](https://www.kaggle.com/alexisbcook/choosing-plot-types-and-custom-styles).**\n",
    "\n",
    "---\n"
   ]
  },
  {
   "cell_type": "markdown",
   "metadata": {},
   "source": [
    "In this exercise, you'll explore different chart styles, to see which color combinations and fonts you like best!\n",
    "\n",
    "## Setup\n",
    "\n",
    "Run the next cell to import and configure the Python libraries that you need to complete the exercise."
   ]
  },
  {
   "cell_type": "code",
   "execution_count": 1,
   "metadata": {
    "execution": {
     "iopub.execute_input": "2022-02-03T12:27:35.360048Z",
     "iopub.status.busy": "2022-02-03T12:27:35.359578Z",
     "iopub.status.idle": "2022-02-03T12:27:36.568999Z",
     "shell.execute_reply": "2022-02-03T12:27:36.567216Z",
     "shell.execute_reply.started": "2022-02-03T12:27:35.359923Z"
    }
   },
   "outputs": [],
   "source": [
    "import pandas as pd\n",
    "pd.plotting.register_matplotlib_converters()\n",
    "import matplotlib.pyplot as plt\n",
    "%matplotlib inline\n",
    "import seaborn as sns\n",
    "print(\"Setup Complete\")"
   ]
  },
  {
   "cell_type": "markdown",
   "metadata": {},
   "source": [
    "The questions below will give you feedback on your work. Run the following cell to set up our feedback system."
   ]
  },
  {
   "cell_type": "code",
   "execution_count": 2,
   "metadata": {
    "execution": {
     "iopub.execute_input": "2022-02-03T12:27:36.570863Z",
     "iopub.status.busy": "2022-02-03T12:27:36.570617Z",
     "iopub.status.idle": "2022-02-03T12:27:36.607901Z",
     "shell.execute_reply": "2022-02-03T12:27:36.607218Z",
     "shell.execute_reply.started": "2022-02-03T12:27:36.570829Z"
    }
   },
   "outputs": [],
   "source": [
    "# Set up code checking\n",
    "import os\n",
    "if not os.path.exists(\"../input/spotify.csv\"):\n",
    "    os.symlink(\"../input/data-for-datavis/spotify.csv\", \"../input/spotify.csv\") \n",
    "from learntools.core import binder\n",
    "binder.bind(globals())\n",
    "from learntools.data_viz_to_coder.ex6 import *\n",
    "print(\"Setup Complete\")"
   ]
  },
  {
   "cell_type": "markdown",
   "metadata": {},
   "source": [
    "You'll work with a chart from the previous tutorial.  Run the next cell to load the data."
   ]
  },
  {
   "cell_type": "code",
   "execution_count": 3,
   "metadata": {
    "execution": {
     "iopub.execute_input": "2022-02-03T12:27:46.158317Z",
     "iopub.status.busy": "2022-02-03T12:27:46.157564Z",
     "iopub.status.idle": "2022-02-03T12:27:46.190933Z",
     "shell.execute_reply": "2022-02-03T12:27:46.189912Z",
     "shell.execute_reply.started": "2022-02-03T12:27:46.158257Z"
    }
   },
   "outputs": [],
   "source": [
    "# Path of the file to read\n",
    "spotify_filepath = \"../input/spotify.csv\"\n",
    "\n",
    "# Read the file into a variable spotify_data\n",
    "spotify_data = pd.read_csv(spotify_filepath, index_col=\"Date\", parse_dates=True)"
   ]
  },
  {
   "cell_type": "markdown",
   "metadata": {},
   "source": [
    "# Try out seaborn styles\n",
    "\n",
    "Run the command below to try out the `\"dark\"` theme."
   ]
  },
  {
   "cell_type": "code",
   "execution_count": 11,
   "metadata": {
    "execution": {
     "iopub.execute_input": "2022-02-03T12:30:52.181472Z",
     "iopub.status.busy": "2022-02-03T12:30:52.180807Z",
     "iopub.status.idle": "2022-02-03T12:30:52.890296Z",
     "shell.execute_reply": "2022-02-03T12:30:52.889412Z",
     "shell.execute_reply.started": "2022-02-03T12:30:52.181420Z"
    }
   },
   "outputs": [],
   "source": [
    "# Change the style of the figure\n",
    "sns.set_style(\"white\")\n",
    "\n",
    "# Line chart \n",
    "plt.figure(figsize=(12,6))\n",
    "sns.lineplot(data=spotify_data)\n",
    "\n",
    "# Mark the exercise complete after the code cell is run\n",
    "step_1.check()"
   ]
  },
  {
   "cell_type": "markdown",
   "metadata": {},
   "source": [
    "Now, try out different themes by amending the first line of code and running the code cell again.  Remember the list of available themes:\n",
    "- `\"darkgrid\"`\n",
    "- `\"whitegrid\"`\n",
    "- `\"dark\"`\n",
    "- `\"white\"`\n",
    "- `\"ticks\"`\n",
    "\n",
    "This notebook is your playground -- feel free to experiment as little or as much you wish here!  The exercise is marked as complete after you run every code cell in the notebook at least once.\n",
    "\n",
    "## Keep going\n",
    "\n",
    "Learn about how to select and visualize your own datasets in the **[next tutorial](https://www.kaggle.com/alexisbcook/final-project)**!"
   ]
  },
  {
   "cell_type": "markdown",
   "metadata": {},
   "source": [
    "---\n",
    "\n",
    "\n",
    "\n",
    "\n",
    "*Have questions or comments? Visit the [course discussion forum](https://www.kaggle.com/learn/data-visualization/discussion) to chat with other learners.*"
   ]
  }
 ],
 "metadata": {
  "kernelspec": {
   "display_name": "Python 3",
   "language": "python",
   "name": "python3"
  },
  "language_info": {
   "codemirror_mode": {
    "name": "ipython",
    "version": 3
   },
   "file_extension": ".py",
   "mimetype": "text/x-python",
   "name": "python",
   "nbconvert_exporter": "python",
   "pygments_lexer": "ipython3",
   "version": "3.7.3"
  }
 },
 "nbformat": 4,
 "nbformat_minor": 4
}
