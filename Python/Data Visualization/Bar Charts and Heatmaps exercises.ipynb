{
 "cells": [
  {
   "cell_type": "markdown",
   "metadata": {},
   "source": [
    "**This notebook is an exercise in the [Data Visualization](https://www.kaggle.com/learn/data-visualization) course.  You can reference the tutorial at [this link](https://www.kaggle.com/alexisbcook/bar-charts-and-heatmaps).**\n",
    "\n",
    "---\n"
   ]
  },
  {
   "cell_type": "markdown",
   "metadata": {},
   "source": [
    "In this exercise, you will use your new knowledge to propose a solution to a real-world scenario.  To succeed, you will need to import data into Python, answer questions using the data, and generate **bar charts** and **heatmaps** to understand patterns in the data.\n",
    "\n",
    "## Scenario\n",
    "\n",
    "You've recently decided to create your very own video game!  As an avid reader of [IGN Game Reviews](https://www.ign.com/reviews/games), you hear about all of the most recent game releases, along with the ranking they've received from experts, ranging from 0 (_Disaster_) to 10 (_Masterpiece_).\n",
    "\n",
    "![ex2_ign](https://i.imgur.com/Oh06Fu1.png)\n",
    "\n",
    "You're interested in using [IGN reviews](https://www.ign.com/reviews/games) to guide the design of your upcoming game.  Thankfully, someone has summarized the rankings in a really useful CSV file that you can use to guide your analysis.\n",
    "\n",
    "## Setup\n",
    "\n",
    "Run the next cell to import and configure the Python libraries that you need to complete the exercise."
   ]
  },
  {
   "cell_type": "code",
   "execution_count": 2,
   "metadata": {
    "execution": {
     "iopub.execute_input": "2022-02-03T06:46:05.847699Z",
     "iopub.status.busy": "2022-02-03T06:46:05.847334Z",
     "iopub.status.idle": "2022-02-03T06:46:07.057632Z",
     "shell.execute_reply": "2022-02-03T06:46:07.056922Z",
     "shell.execute_reply.started": "2022-02-03T06:46:05.847659Z"
    }
   },
   "outputs": [],
   "source": [
    "import pandas as pd\n",
    "pd.plotting.register_matplotlib_converters()\n",
    "import matplotlib.pyplot as plt\n",
    "%matplotlib inline\n",
    "import seaborn as sns\n",
    "print(\"Setup Complete\")"
   ]
  },
  {
   "cell_type": "markdown",
   "metadata": {},
   "source": [
    "The questions below will give you feedback on your work. Run the following cell to set up our feedback system."
   ]
  },
  {
   "cell_type": "code",
   "execution_count": 3,
   "metadata": {
    "execution": {
     "iopub.execute_input": "2022-02-03T06:46:11.623865Z",
     "iopub.status.busy": "2022-02-03T06:46:11.623288Z",
     "iopub.status.idle": "2022-02-03T06:46:11.678802Z",
     "shell.execute_reply": "2022-02-03T06:46:11.677872Z",
     "shell.execute_reply.started": "2022-02-03T06:46:11.623793Z"
    }
   },
   "outputs": [],
   "source": [
    "# Set up code checking\n",
    "import os\n",
    "if not os.path.exists(\"../input/ign_scores.csv\"):\n",
    "    os.symlink(\"../input/data-for-datavis/ign_scores.csv\", \"../input/ign_scores.csv\") \n",
    "from learntools.core import binder\n",
    "binder.bind(globals())\n",
    "from learntools.data_viz_to_coder.ex3 import *\n",
    "print(\"Setup Complete\")"
   ]
  },
  {
   "cell_type": "markdown",
   "metadata": {},
   "source": [
    "## Step 1: Load the data\n",
    "\n",
    "Read the IGN data file into `ign_data`.  Use the `\"Platform\"` column to label the rows."
   ]
  },
  {
   "cell_type": "code",
   "execution_count": 4,
   "metadata": {
    "execution": {
     "iopub.execute_input": "2022-02-03T06:46:15.507535Z",
     "iopub.status.busy": "2022-02-03T06:46:15.504968Z",
     "iopub.status.idle": "2022-02-03T06:46:15.528374Z",
     "shell.execute_reply": "2022-02-03T06:46:15.527766Z",
     "shell.execute_reply.started": "2022-02-03T06:46:15.507452Z"
    }
   },
   "outputs": [],
   "source": [
    "# Path of the file to read\n",
    "ign_filepath = \"../input/ign_scores.csv\"\n",
    "\n",
    "# Fill in the line below to read the file into a variable ign_data\n",
    "ign_data = pd.read_csv(ign_filepath,index_col=\"Platform\")\n",
    "\n",
    "# Run the line below with no changes to check that you've loaded the data correctly\n",
    "step_1.check()"
   ]
  },
  {
   "cell_type": "code",
   "execution_count": 7,
   "metadata": {
    "execution": {
     "iopub.execute_input": "2022-02-03T06:41:05.258264Z",
     "iopub.status.busy": "2022-02-03T06:41:05.257891Z",
     "iopub.status.idle": "2022-02-03T06:41:05.267399Z",
     "shell.execute_reply": "2022-02-03T06:41:05.266551Z",
     "shell.execute_reply.started": "2022-02-03T06:41:05.258224Z"
    }
   },
   "outputs": [],
   "source": [
    "# Lines below will give you a hint or solution code\n",
    "#step_1.hint()\n",
    "#step_1.solution()"
   ]
  },
  {
   "cell_type": "markdown",
   "metadata": {},
   "source": [
    "## Step 2: Review the data\n",
    "\n",
    "Use a Python command to print the entire dataset."
   ]
  },
  {
   "cell_type": "code",
   "execution_count": 5,
   "metadata": {
    "execution": {
     "iopub.execute_input": "2022-02-03T06:46:19.926286Z",
     "iopub.status.busy": "2022-02-03T06:46:19.925787Z",
     "iopub.status.idle": "2022-02-03T06:46:19.956873Z",
     "shell.execute_reply": "2022-02-03T06:46:19.955962Z",
     "shell.execute_reply.started": "2022-02-03T06:46:19.926242Z"
    }
   },
   "outputs": [],
   "source": [
    "# Print the data\n",
    "ign_data # Your code here"
   ]
  },
  {
   "cell_type": "markdown",
   "metadata": {},
   "source": [
    "The dataset that you've just printed shows the average score, by platform and genre.  Use the data to answer the questions below."
   ]
  },
  {
   "cell_type": "code",
   "execution_count": 7,
   "metadata": {
    "execution": {
     "iopub.execute_input": "2022-02-03T06:46:43.207789Z",
     "iopub.status.busy": "2022-02-03T06:46:43.206858Z",
     "iopub.status.idle": "2022-02-03T06:46:43.217596Z",
     "shell.execute_reply": "2022-02-03T06:46:43.216713Z",
     "shell.execute_reply.started": "2022-02-03T06:46:43.207736Z"
    }
   },
   "outputs": [],
   "source": [
    "# Fill in the line below: What is the highest average score received by PC games,\n",
    "# for any genre?\n",
    "high_score = 7.759930\n",
    "\n",
    "# Fill in the line below: On the Playstation Vita platform, which genre has the \n",
    "# lowest average score? Please provide the name of the column, and put your answer \n",
    "# in single quotes (e.g., 'Action', 'Adventure', 'Fighting', etc.)\n",
    "worst_genre = 'Simulation'\n",
    "\n",
    "# Check your answers\n",
    "step_2.check()"
   ]
  },
  {
   "cell_type": "code",
   "execution_count": null,
   "metadata": {},
   "outputs": [],
   "source": [
    "# Lines below will give you a hint or solution code\n",
    "#step_2.hint()\n",
    "#step_2.solution()"
   ]
  },
  {
   "cell_type": "markdown",
   "metadata": {},
   "source": [
    "## Step 3: Which platform is best?\n",
    "\n",
    "Since you can remember, your favorite video game has been [**Mario Kart Wii**](https://www.ign.com/games/mario-kart-wii), a racing game released for the Wii platform in 2008.  And, IGN agrees with you that it is a great game -- their rating for this game is a whopping 8.9!  Inspired by the success of this game, you're considering creating your very own racing game for the Wii platform.\n",
    "\n",
    "#### Part A\n",
    "\n",
    "Create a bar chart that shows the average score for **racing** games, for each platform.  Your chart should have one bar for each platform. "
   ]
  },
  {
   "cell_type": "code",
   "execution_count": 11,
   "metadata": {
    "execution": {
     "iopub.execute_input": "2022-02-03T06:51:20.426348Z",
     "iopub.status.busy": "2022-02-03T06:51:20.425703Z",
     "iopub.status.idle": "2022-02-03T06:51:20.851435Z",
     "shell.execute_reply": "2022-02-03T06:51:20.850563Z",
     "shell.execute_reply.started": "2022-02-03T06:51:20.426293Z"
    }
   },
   "outputs": [],
   "source": [
    "# Bar chart showing average score for racing games by platform\n",
    "plt.figure(figsize=(20,6)) # Your code here\n",
    "\n",
    "sns.barplot(x=ign_data.index,y=ign_data['Racing'])\n",
    "\n",
    "# Check your answer\n",
    "step_3.a.check()"
   ]
  },
  {
   "cell_type": "code",
   "execution_count": 8,
   "metadata": {
    "execution": {
     "iopub.execute_input": "2022-02-03T06:49:41.436312Z",
     "iopub.status.busy": "2022-02-03T06:49:41.435741Z",
     "iopub.status.idle": "2022-02-03T06:49:41.445486Z",
     "shell.execute_reply": "2022-02-03T06:49:41.444589Z",
     "shell.execute_reply.started": "2022-02-03T06:49:41.436259Z"
    }
   },
   "outputs": [],
   "source": [
    "# Lines below will give you a hint or solution code\n",
    "#step_3.a.hint()\n",
    "#step_3.a.solution_plot()"
   ]
  },
  {
   "cell_type": "markdown",
   "metadata": {},
   "source": [
    "#### Part B\n",
    "\n",
    "Based on the bar chart, do you expect a racing game for the **Wii** platform to receive a high rating?  If not, what gaming platform seems to be the best alternative?"
   ]
  },
  {
   "cell_type": "code",
   "execution_count": 12,
   "metadata": {
    "execution": {
     "iopub.execute_input": "2022-02-03T06:52:32.364026Z",
     "iopub.status.busy": "2022-02-03T06:52:32.363235Z",
     "iopub.status.idle": "2022-02-03T06:52:32.376143Z",
     "shell.execute_reply": "2022-02-03T06:52:32.373740Z",
     "shell.execute_reply.started": "2022-02-03T06:52:32.363971Z"
    }
   },
   "outputs": [],
   "source": [
    "#step_3.b.hint()"
   ]
  },
  {
   "cell_type": "code",
   "execution_count": 13,
   "metadata": {
    "execution": {
     "iopub.execute_input": "2022-02-03T06:52:51.570883Z",
     "iopub.status.busy": "2022-02-03T06:52:51.569698Z",
     "iopub.status.idle": "2022-02-03T06:52:51.578543Z",
     "shell.execute_reply": "2022-02-03T06:52:51.577716Z",
     "shell.execute_reply.started": "2022-02-03T06:52:51.570820Z"
    }
   },
   "outputs": [],
   "source": [
    "# Check your answer (Run this code cell to receive credit!)\n",
    "step_3.b.solution()"
   ]
  },
  {
   "cell_type": "markdown",
   "metadata": {},
   "source": [
    "## Step 4: All possible combinations!\n",
    "\n",
    "Eventually, you decide against creating a racing game for Wii, but you're still committed to creating your own video game!  Since your gaming interests are pretty broad (_... you generally love most video games_), you decide to use the IGN data to inform your new choice of genre and platform.\n",
    "\n",
    "#### Part A\n",
    "\n",
    "Use the data to create a heatmap of average score by genre and platform.  "
   ]
  },
  {
   "cell_type": "code",
   "execution_count": 17,
   "metadata": {
    "execution": {
     "iopub.execute_input": "2022-02-03T06:56:49.440865Z",
     "iopub.status.busy": "2022-02-03T06:56:49.440486Z",
     "iopub.status.idle": "2022-02-03T06:56:51.118684Z",
     "shell.execute_reply": "2022-02-03T06:56:51.117775Z",
     "shell.execute_reply.started": "2022-02-03T06:56:49.440824Z"
    }
   },
   "outputs": [],
   "source": [
    "# Heatmap showing average game score by platform and genre\n",
    "plt.figure(figsize=(14,7)) # Your code here\n",
    "\n",
    "sns.heatmap(data=ign_data,annot=True)\n",
    "\n",
    "plt.xlabel(\"Genre\")\n",
    "\n",
    "# # Your code here\n",
    "\n",
    "# Check your answer\n",
    "step_4.a.check()"
   ]
  },
  {
   "cell_type": "code",
   "execution_count": null,
   "metadata": {},
   "outputs": [],
   "source": [
    "# Lines below will give you a hint or solution code\n",
    "#step_4.a.hint()\n",
    "#step_4.a.solution_plot()"
   ]
  },
  {
   "cell_type": "markdown",
   "metadata": {},
   "source": [
    "#### Part B\n",
    "\n",
    "Which combination of genre and platform receives the highest average ratings?  Which combination receives the lowest average rankings?"
   ]
  },
  {
   "cell_type": "code",
   "execution_count": null,
   "metadata": {},
   "outputs": [],
   "source": [
    "#step_4.b.hint()"
   ]
  },
  {
   "cell_type": "code",
   "execution_count": 18,
   "metadata": {
    "execution": {
     "iopub.execute_input": "2022-02-03T06:57:43.125772Z",
     "iopub.status.busy": "2022-02-03T06:57:43.125059Z",
     "iopub.status.idle": "2022-02-03T06:57:43.134848Z",
     "shell.execute_reply": "2022-02-03T06:57:43.133963Z",
     "shell.execute_reply.started": "2022-02-03T06:57:43.125718Z"
    }
   },
   "outputs": [],
   "source": [
    "# Check your answer (Run this code cell to receive credit!)\n",
    "step_4.b.solution()"
   ]
  },
  {
   "cell_type": "markdown",
   "metadata": {},
   "source": [
    "# Keep going\n",
    "\n",
    "Move on to learn all about **[scatter plots](https://www.kaggle.com/alexisbcook/scatter-plots)**!"
   ]
  },
  {
   "cell_type": "markdown",
   "metadata": {},
   "source": [
    "---\n",
    "\n",
    "\n",
    "\n",
    "\n",
    "*Have questions or comments? Visit the [course discussion forum](https://www.kaggle.com/learn/data-visualization/discussion) to chat with other learners.*"
   ]
  }
 ],
 "metadata": {
  "kernelspec": {
   "display_name": "Python 3",
   "language": "python",
   "name": "python3"
  },
  "language_info": {
   "codemirror_mode": {
    "name": "ipython",
    "version": 3
   },
   "file_extension": ".py",
   "mimetype": "text/x-python",
   "name": "python",
   "nbconvert_exporter": "python",
   "pygments_lexer": "ipython3",
   "version": "3.7.3"
  }
 },
 "nbformat": 4,
 "nbformat_minor": 4
}
