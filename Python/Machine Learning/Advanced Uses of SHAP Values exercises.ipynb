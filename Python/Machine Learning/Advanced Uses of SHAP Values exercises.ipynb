{
 "cells": [
  {
   "cell_type": "markdown",
   "metadata": {},
   "source": [
    "**This notebook is an exercise in the [Machine Learning Explainability](https://www.kaggle.com/learn/machine-learning-explainability) course.  You can reference the tutorial at [this link](https://www.kaggle.com/dansbecker/advanced-uses-of-shap-values).**\n",
    "\n",
    "---\n"
   ]
  },
  {
   "cell_type": "markdown",
   "metadata": {},
   "source": [
    "## Set Up\n",
    "\n",
    "\n",
    "We have again provided code to do the basic loading, review and model-building. Run the cell below to set everything up:"
   ]
  },
  {
   "cell_type": "code",
   "execution_count": 1,
   "metadata": {
    "execution": {
     "iopub.execute_input": "2022-02-14T08:00:36.792921Z",
     "iopub.status.busy": "2022-02-14T08:00:36.792433Z",
     "iopub.status.idle": "2022-02-14T08:00:42.432044Z",
     "shell.execute_reply": "2022-02-14T08:00:42.431010Z",
     "shell.execute_reply.started": "2022-02-14T08:00:36.792789Z"
    }
   },
   "outputs": [],
   "source": [
    "import numpy as np\n",
    "import pandas as pd\n",
    "from sklearn.ensemble import RandomForestRegressor\n",
    "from sklearn.model_selection import train_test_split\n",
    "import shap\n",
    "\n",
    "# Environment Set-Up for feedback system.\n",
    "from learntools.core import binder\n",
    "binder.bind(globals())\n",
    "from learntools.ml_explainability.ex5 import *\n",
    "print(\"Setup Complete\")\n",
    "\n",
    "\n",
    "import pandas as pd\n",
    "from sklearn.ensemble import RandomForestClassifier\n",
    "from sklearn.model_selection import train_test_split\n",
    "\n",
    "data = pd.read_csv('../input/hospital-readmissions/train.csv')\n",
    "y = data.readmitted\n",
    "base_features = ['number_inpatient', 'num_medications', 'number_diagnoses', 'num_lab_procedures', \n",
    "                 'num_procedures', 'time_in_hospital', 'number_outpatient', 'number_emergency', \n",
    "                 'gender_Female', 'payer_code_?', 'medical_specialty_?', 'diag_1_428', 'diag_1_414', \n",
    "                 'diabetesMed_Yes', 'A1Cresult_None']\n",
    "\n",
    "# Some versions of shap package error when mixing bools and numerics\n",
    "X = data[base_features].astype(float)\n",
    "\n",
    "train_X, val_X, train_y, val_y = train_test_split(X, y, random_state=1)\n",
    "\n",
    "# For speed, we will calculate shap values on smaller subset of the validation data\n",
    "small_val_X = val_X.iloc[:150]\n",
    "my_model = RandomForestClassifier(n_estimators=30, random_state=1).fit(train_X, train_y)"
   ]
  },
  {
   "cell_type": "code",
   "execution_count": 2,
   "metadata": {
    "execution": {
     "iopub.execute_input": "2022-02-14T08:00:46.540138Z",
     "iopub.status.busy": "2022-02-14T08:00:46.539570Z",
     "iopub.status.idle": "2022-02-14T08:00:46.607843Z",
     "shell.execute_reply": "2022-02-14T08:00:46.606937Z",
     "shell.execute_reply.started": "2022-02-14T08:00:46.540100Z"
    }
   },
   "outputs": [],
   "source": [
    "data.describe()"
   ]
  },
  {
   "cell_type": "markdown",
   "metadata": {},
   "source": [
    "The first few questions require examining the distribution of effects for each feature, rather than just an average effect for each feature.  Run the following cell for a summary plot of the shap_values for readmission. It will take about 20 seconds to run."
   ]
  },
  {
   "cell_type": "code",
   "execution_count": 3,
   "metadata": {
    "execution": {
     "iopub.execute_input": "2022-02-14T08:00:53.401889Z",
     "iopub.status.busy": "2022-02-14T08:00:53.401295Z",
     "iopub.status.idle": "2022-02-14T08:01:20.566881Z",
     "shell.execute_reply": "2022-02-14T08:01:20.557394Z",
     "shell.execute_reply.started": "2022-02-14T08:00:53.401836Z"
    }
   },
   "outputs": [],
   "source": [
    "explainer = shap.TreeExplainer(my_model)\n",
    "shap_values = explainer.shap_values(small_val_X)\n",
    "\n",
    "shap.summary_plot(shap_values[1], small_val_X)"
   ]
  },
  {
   "cell_type": "markdown",
   "metadata": {},
   "source": [
    "## Question 1\n",
    "\n",
    "Which of the following features has a bigger range of effects on predictions (i.e. larger difference between most positive and most negative effect)\n",
    "- `diag_1_428` or\n",
    "- `payer_code_?`"
   ]
  },
  {
   "cell_type": "code",
   "execution_count": 4,
   "metadata": {
    "execution": {
     "iopub.execute_input": "2022-02-14T08:01:35.638958Z",
     "iopub.status.busy": "2022-02-14T08:01:35.638358Z",
     "iopub.status.idle": "2022-02-14T08:01:35.651679Z",
     "shell.execute_reply": "2022-02-14T08:01:35.650412Z",
     "shell.execute_reply.started": "2022-02-14T08:01:35.638913Z"
    }
   },
   "outputs": [],
   "source": [
    "# set following variable to 'diag_1_428' or 'payer_code_?'\n",
    "feature_with_bigger_range_of_effects = 'diag_1_428'\n",
    "\n",
    "# Check your answer\n",
    "q_1.check()"
   ]
  },
  {
   "cell_type": "markdown",
   "metadata": {},
   "source": [
    "Uncomment the line below to see the solution and explanation."
   ]
  },
  {
   "cell_type": "code",
   "execution_count": null,
   "metadata": {},
   "outputs": [],
   "source": [
    "# q_1.solution()"
   ]
  },
  {
   "cell_type": "markdown",
   "metadata": {},
   "source": [
    "## Question 2\n",
    "\n",
    "Do you believe the range of effects sizes (distance between smallest effect and largest effect) is a good indication of which feature will have a higher permutation importance? Why or why not?  \n",
    "\n",
    "If the **range of effect sizes** measures something different from **permutation importance**: which is a better answer for the question \"Which of these two features does the model say is more important for us to understand when discussing readmission risks in the population?\"\n",
    "\n",
    "Run the following line after you've decided your answer."
   ]
  },
  {
   "cell_type": "code",
   "execution_count": 6,
   "metadata": {
    "execution": {
     "iopub.execute_input": "2022-02-14T07:47:48.118888Z",
     "iopub.status.busy": "2022-02-14T07:47:48.118581Z",
     "iopub.status.idle": "2022-02-14T07:47:48.126639Z",
     "shell.execute_reply": "2022-02-14T07:47:48.125854Z",
     "shell.execute_reply.started": "2022-02-14T07:47:48.118853Z"
    }
   },
   "outputs": [],
   "source": [
    "# Check your answer (Run this code cell to receive credit!)\n",
    "q_2.solution()"
   ]
  },
  {
   "cell_type": "markdown",
   "metadata": {},
   "source": [
    "## Question 3\n",
    "\n",
    "Both `diag_1_428` and `payer_code_?` are binary variables, taking values of 0 or 1.\n",
    "\n",
    "From the graph, which do you think would typically have a bigger impact on predicted readmission risk:\n",
    "- Changing `diag_1_428` from 0 to 1\n",
    "- Changing `payer_code_?` from 0 to 1\n",
    "\n",
    "To save you scrolling, we have included a cell below to plot the graph again (this one runs quickly)."
   ]
  },
  {
   "cell_type": "code",
   "execution_count": 7,
   "metadata": {
    "execution": {
     "iopub.execute_input": "2022-02-14T07:48:31.122883Z",
     "iopub.status.busy": "2022-02-14T07:48:31.122549Z",
     "iopub.status.idle": "2022-02-14T07:48:31.903940Z",
     "shell.execute_reply": "2022-02-14T07:48:31.902982Z",
     "shell.execute_reply.started": "2022-02-14T07:48:31.122847Z"
    }
   },
   "outputs": [],
   "source": [
    "shap.summary_plot(shap_values[1], small_val_X)"
   ]
  },
  {
   "cell_type": "code",
   "execution_count": 9,
   "metadata": {
    "execution": {
     "iopub.execute_input": "2022-02-14T07:49:44.248683Z",
     "iopub.status.busy": "2022-02-14T07:49:44.248368Z",
     "iopub.status.idle": "2022-02-14T07:49:44.257760Z",
     "shell.execute_reply": "2022-02-14T07:49:44.256628Z",
     "shell.execute_reply.started": "2022-02-14T07:49:44.248649Z"
    }
   },
   "outputs": [],
   "source": [
    "# Set following var to \"diag_1_428\" if changing it to 1 has bigger effect.  Else set it to 'payer_code_?'\n",
    "bigger_effect_when_changed = \"diag_1_428\"\n",
    "\n",
    "# Check your answer\n",
    "q_3.check()"
   ]
  },
  {
   "cell_type": "markdown",
   "metadata": {},
   "source": [
    "For a solution and explanation, uncomment the line below."
   ]
  },
  {
   "cell_type": "code",
   "execution_count": null,
   "metadata": {},
   "outputs": [],
   "source": [
    "# q_3.solution()"
   ]
  },
  {
   "cell_type": "markdown",
   "metadata": {},
   "source": [
    "## Question 4\n",
    "\n",
    "Some features (like `number_inpatient`) have reasonably clear separation between the blue and pink dots. Other variables like `num_lab_procedures` have blue and pink dots jumbled together, even though the SHAP values (or impacts on prediction) aren't all 0.\n",
    "\n",
    "What do you think you learn from the fact that `num_lab_procedures` has blue and pink dots jumbled together? Once you have your answer, run the line below to verify your solution."
   ]
  },
  {
   "cell_type": "code",
   "execution_count": 10,
   "metadata": {
    "execution": {
     "iopub.execute_input": "2022-02-14T07:50:46.928203Z",
     "iopub.status.busy": "2022-02-14T07:50:46.927272Z",
     "iopub.status.idle": "2022-02-14T07:50:46.938940Z",
     "shell.execute_reply": "2022-02-14T07:50:46.938207Z",
     "shell.execute_reply.started": "2022-02-14T07:50:46.928146Z"
    }
   },
   "outputs": [],
   "source": [
    "# Check your answer (Run this code cell to receive credit!)\n",
    "q_4.solution()"
   ]
  },
  {
   "cell_type": "markdown",
   "metadata": {},
   "source": [
    "## Question 5\n",
    "\n",
    "Consider the following SHAP contribution dependence plot. \n",
    "\n",
    "The x-axis shows `feature_of_interest` and the points are colored based on `other_feature`.\n",
    "\n",
    "![Imgur](https://i.imgur.com/zFdHneM.png)\n",
    "\n",
    "Is there an interaction between `feature_of_interest` and `other_feature`?  \n",
    "If so, does `feature_of_interest` have a more positive impact on predictions when `other_feature` is high or when `other_feature` is low?\n",
    "\n",
    "Run the following code when you are ready for the answer."
   ]
  },
  {
   "cell_type": "code",
   "execution_count": 11,
   "metadata": {
    "execution": {
     "iopub.execute_input": "2022-02-14T07:51:01.895760Z",
     "iopub.status.busy": "2022-02-14T07:51:01.895409Z",
     "iopub.status.idle": "2022-02-14T07:51:01.905032Z",
     "shell.execute_reply": "2022-02-14T07:51:01.904202Z",
     "shell.execute_reply.started": "2022-02-14T07:51:01.895722Z"
    }
   },
   "outputs": [],
   "source": [
    "# Check your answer (Run this code cell to receive credit!)\n",
    "q_5.solution()"
   ]
  },
  {
   "cell_type": "markdown",
   "metadata": {},
   "source": [
    "## Question 6\n",
    "\n",
    "Review the summary plot for the readmission data by running the following cell:"
   ]
  },
  {
   "cell_type": "code",
   "execution_count": 5,
   "metadata": {
    "execution": {
     "iopub.execute_input": "2022-02-14T08:02:42.853394Z",
     "iopub.status.busy": "2022-02-14T08:02:42.852465Z",
     "iopub.status.idle": "2022-02-14T08:02:43.818238Z",
     "shell.execute_reply": "2022-02-14T08:02:43.817368Z",
     "shell.execute_reply.started": "2022-02-14T08:02:42.853346Z"
    }
   },
   "outputs": [],
   "source": [
    "shap.summary_plot(shap_values[1], small_val_X)"
   ]
  },
  {
   "cell_type": "markdown",
   "metadata": {},
   "source": [
    "Both **num_medications** and **num_lab_procedures** share that jumbling of pink and blue dots.\n",
    "\n",
    "Aside from `num_medications` having effects of greater magnitude (both more positive and more negative), it's hard to see a meaningful difference between how these two features affect readmission risk.  Create the SHAP dependence contribution plots for each variable, and describe what you think is different between how these two variables affect predictions.\n",
    "\n",
    "As a reminder, here is the code you previously saw to create this type of plot.\n",
    "\n",
    "    shap.dependence_plot(feature_of_interest, shap_values[1], val_X)\n",
    "    \n",
    "And recall that your validation data is called `small_val_X`."
   ]
  },
  {
   "cell_type": "code",
   "execution_count": 13,
   "metadata": {
    "execution": {
     "iopub.execute_input": "2022-02-14T08:08:19.388297Z",
     "iopub.status.busy": "2022-02-14T08:08:19.387956Z",
     "iopub.status.idle": "2022-02-14T08:08:19.415959Z",
     "shell.execute_reply": "2022-02-14T08:08:19.414767Z",
     "shell.execute_reply.started": "2022-02-14T08:08:19.388262Z"
    }
   },
   "outputs": [],
   "source": [
    "# Your code here\n",
    "shap.dependence_plot('num_lab_procedures', shap_values[1], small_val_X,norm=LogNorm(min_val, max_val))\n",
    "shap.dependence_plot('num_medications',shap_values[1], small_val_X,norm=LogNorm(min_val, max_val) )"
   ]
  },
  {
   "cell_type": "markdown",
   "metadata": {},
   "source": [
    "Then run the following line to compare your observations from this graph to the solution."
   ]
  },
  {
   "cell_type": "code",
   "execution_count": 14,
   "metadata": {
    "execution": {
     "iopub.execute_input": "2022-02-14T07:53:30.828696Z",
     "iopub.status.busy": "2022-02-14T07:53:30.827956Z",
     "iopub.status.idle": "2022-02-14T07:53:30.838889Z",
     "shell.execute_reply": "2022-02-14T07:53:30.837921Z",
     "shell.execute_reply.started": "2022-02-14T07:53:30.828658Z"
    }
   },
   "outputs": [],
   "source": [
    "# Check your answer (Run this code cell to receive credit!)\n",
    "q_6.solution()"
   ]
  },
  {
   "cell_type": "markdown",
   "metadata": {},
   "source": [
    "## Congratulations\n",
    "\n",
    "That's it!  Machine learning models should not feel like black boxes any more, because you have the tools to inspect them and understand what they learn about the world. \n",
    "\n",
    "This is an excellent skill for debugging models, building trust, and learning insights to make better decisions. These techniques have revolutionized how I do data science, and I hope they do the same for you.\n",
    "\n",
    "Real data science involves an element of exploration. I hope you find an interesting dataset to try these techniques on (Kaggle has a lot of [free datasets](https://www.kaggle.com/datasets) to try out). If you learn something interesting about the world, share your work [in this forum](https://www.kaggle.com/learn-forum/66354). I'm excited to see what you do with your new skills."
   ]
  },
  {
   "cell_type": "markdown",
   "metadata": {},
   "source": [
    "---\n",
    "\n",
    "\n",
    "\n",
    "\n",
    "*Have questions or comments? Visit the [course discussion forum](https://www.kaggle.com/learn/machine-learning-explainability/discussion) to chat with other learners.*"
   ]
  }
 ],
 "metadata": {
  "kernelspec": {
   "display_name": "Python 3",
   "language": "python",
   "name": "python3"
  },
  "language_info": {
   "codemirror_mode": {
    "name": "ipython",
    "version": 3
   },
   "file_extension": ".py",
   "mimetype": "text/x-python",
   "name": "python",
   "nbconvert_exporter": "python",
   "pygments_lexer": "ipython3",
   "version": "3.7.3"
  }
 },
 "nbformat": 4,
 "nbformat_minor": 4
}
