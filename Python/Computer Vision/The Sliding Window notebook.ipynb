{
 "cells": [
  {
   "cell_type": "markdown",
   "metadata": {},
   "source": [
    "**This notebook is an exercise in the [Computer Vision](https://www.kaggle.com/learn/computer-vision) course.  You can reference the tutorial at [this link](https://www.kaggle.com/ryanholbrook/the-sliding-window).**\n",
    "\n",
    "---\n"
   ]
  },
  {
   "cell_type": "markdown",
   "metadata": {},
   "source": [
    "# Introduction #\n",
    "\n",
    "In these exercises, you'll explore the operations a couple of popular convnet architectures use for feature extraction, learn about how convnets can capture large-scale visual features through stacking layers, and finally see how convolution can be used on one-dimensional data, in this case, a time series.\n",
    "\n",
    "Run the cell below to set everything up."
   ]
  },
  {
   "cell_type": "code",
   "execution_count": 1,
   "metadata": {
    "execution": {
     "iopub.execute_input": "2022-02-15T05:21:43.778765Z",
     "iopub.status.busy": "2022-02-15T05:21:43.777896Z",
     "iopub.status.idle": "2022-02-15T05:21:50.073856Z",
     "shell.execute_reply": "2022-02-15T05:21:50.072944Z",
     "shell.execute_reply.started": "2022-02-15T05:21:43.778612Z"
    },
    "lines_to_next_cell": 2
   },
   "outputs": [],
   "source": [
    "# Setup feedback system\n",
    "from learntools.core import binder\n",
    "binder.bind(globals())\n",
    "from learntools.computer_vision.ex4 import *\n",
    "\n",
    "import tensorflow as tf\n",
    "import matplotlib.pyplot as plt\n",
    "import learntools.computer_vision.visiontools as visiontools\n",
    "\n",
    "\n",
    "plt.rc('figure', autolayout=True)\n",
    "plt.rc('axes', labelweight='bold', labelsize='large',\n",
    "       titleweight='bold', titlesize=18, titlepad=10)\n",
    "plt.rc('image', cmap='magma')"
   ]
  },
  {
   "cell_type": "markdown",
   "metadata": {},
   "source": [
    "# (Optional) Experimenting with Feature Extraction #\n",
    "\n",
    "This exercise is meant to give you an opportunity to explore the sliding window computations and how their parameters affect feature extraction. There aren't any right or wrong answers -- it's just a chance to experiment!\n",
    "\n",
    "We've provided you with some images and kernels you can use. Run this cell to see them."
   ]
  },
  {
   "cell_type": "code",
   "execution_count": 2,
   "metadata": {
    "execution": {
     "iopub.execute_input": "2022-02-15T05:22:35.291841Z",
     "iopub.status.busy": "2022-02-15T05:22:35.291282Z",
     "iopub.status.idle": "2022-02-15T05:22:36.819129Z",
     "shell.execute_reply": "2022-02-15T05:22:36.818201Z",
     "shell.execute_reply.started": "2022-02-15T05:22:35.291781Z"
    }
   },
   "outputs": [],
   "source": [
    "from learntools.computer_vision.visiontools import edge, blur, bottom_sobel, emboss, sharpen, circle\n",
    "\n",
    "image_dir = '../input/computer-vision-resources/'\n",
    "circle_64 = tf.expand_dims(circle([64, 64], val=1.0, r_shrink=4), axis=-1)\n",
    "kaggle_k = visiontools.read_image(image_dir + str('k.jpg'), channels=1)\n",
    "car = visiontools.read_image(image_dir + str('car_illus.jpg'), channels=1)\n",
    "car = tf.image.resize(car, size=[200, 200])\n",
    "images = [(circle_64, \"circle_64\"), (kaggle_k, \"kaggle_k\"), (car, \"car\")]\n",
    "\n",
    "plt.figure(figsize=(14, 4))\n",
    "for i, (img, title) in enumerate(images):\n",
    "    plt.subplot(1, len(images), i+1)\n",
    "    plt.imshow(tf.squeeze(img))\n",
    "    plt.axis('off')\n",
    "    plt.title(title)\n",
    "plt.show();\n",
    "\n",
    "kernels = [(edge, \"edge\"), (blur, \"blur\"), (bottom_sobel, \"bottom_sobel\"),\n",
    "           (emboss, \"emboss\"), (sharpen, \"sharpen\")]\n",
    "plt.figure(figsize=(14, 4))\n",
    "for i, (krn, title) in enumerate(kernels):\n",
    "    plt.subplot(1, len(kernels), i+1)\n",
    "    visiontools.show_kernel(krn, digits=2, text_size=20)\n",
    "    plt.title(title)\n",
    "plt.show()"
   ]
  },
  {
   "cell_type": "markdown",
   "metadata": {},
   "source": [
    "To choose one to experiment with, just enter it's name in the appropriate place below. Then, set the parameters for the window computation. Try out some different combinations and see what they do!"
   ]
  },
  {
   "cell_type": "code",
   "execution_count": 3,
   "metadata": {
    "execution": {
     "iopub.execute_input": "2022-02-15T05:22:54.534258Z",
     "iopub.status.busy": "2022-02-15T05:22:54.533500Z",
     "iopub.status.idle": "2022-02-15T05:22:56.256964Z",
     "shell.execute_reply": "2022-02-15T05:22:56.256128Z",
     "shell.execute_reply.started": "2022-02-15T05:22:54.534205Z"
    },
    "lines_to_next_cell": 0
   },
   "outputs": [],
   "source": [
    "# YOUR CODE HERE: choose an image\n",
    "image = circle_64\n",
    "\n",
    "# YOUR CODE HERE: choose a kernel\n",
    "kernel = bottom_sobel\n",
    "\n",
    "visiontools.show_extraction(\n",
    "    image, kernel,\n",
    "\n",
    "    # YOUR CODE HERE: set parameters\n",
    "    conv_stride=1,\n",
    "    conv_padding='valid',\n",
    "    pool_size=2,\n",
    "    pool_stride=2,\n",
    "    pool_padding='same',\n",
    "    \n",
    "    subplot_shape=(1, 4),\n",
    "    figsize=(14, 6),\n",
    ")"
   ]
  },
  {
   "cell_type": "markdown",
   "metadata": {},
   "source": [
    "# The Receptive Field #\n",
    "\n",
    "Trace back all the connections from some neuron and eventually you reach the input image. All of the input pixels a neuron is connected to is that neuron's **receptive field**. The receptive field just tells you which parts of the input image a neuron receives information from.\n",
    "\n",
    "As we've seen, if your first layer is a convolution with $3 \\times 3$ kernels, then each neuron in that layer gets input from a $3 \\times 3$ patch of pixels (except maybe at the border).\n",
    "\n",
    "What happens if you add another convolutional layer with $3 \\times 3$ kernels? Consider this next illustration:\n",
    "\n",
    "<figure>\n",
    "<img src=\"https://i.imgur.com/HmwQm2S.png\" alt=\"Illustration of the receptive field of two stacked convolutions.\" width=250>\n",
    "</figure>\n",
    "\n",
    "Now trace back the connections from the neuron at top and you can see that it's connected to a $5 \\times 5$ patch of pixels in the input (the bottom layer): each neuron in the $3 \\times 3$ patch in the middle layer is connected to a $3 \\times 3$ input patch, but they overlap in a $5 \\times 5$ patch. So that neuron at top has a $5 \\times 5$ receptive field."
   ]
  },
  {
   "cell_type": "markdown",
   "metadata": {},
   "source": [
    "# 1) Growing the Receptive Field #\n",
    "\n",
    "Now, if you added a *third* convolutional layer with a `(3, 3)` kernel, what receptive field would its neurons have? Run the cell below for an answer. (Or see a hint first!)"
   ]
  },
  {
   "cell_type": "code",
   "execution_count": 4,
   "metadata": {
    "execution": {
     "iopub.execute_input": "2022-02-15T05:24:53.809537Z",
     "iopub.status.busy": "2022-02-15T05:24:53.808579Z",
     "iopub.status.idle": "2022-02-15T05:24:53.820585Z",
     "shell.execute_reply": "2022-02-15T05:24:53.819773Z",
     "shell.execute_reply.started": "2022-02-15T05:24:53.809481Z"
    }
   },
   "outputs": [],
   "source": [
    "# View the solution (Run this code cell to receive credit!)\n",
    "q_1.check()"
   ]
  },
  {
   "cell_type": "code",
   "execution_count": null,
   "metadata": {},
   "outputs": [],
   "source": [
    "# Lines below will give you a hint\n",
    "#q_1.hint()"
   ]
  },
  {
   "cell_type": "markdown",
   "metadata": {},
   "source": [
    "So why stack layers like this? Three `(3, 3)` kernels have 27 parameters, while one `(7, 7)` kernel has 49, though they both create the same receptive field. This stacking-layers trick is one of the ways convnets are able to create large receptive fields without increasing the number of parameters too much. You'll see how to do this yourself in the next lesson!"
   ]
  },
  {
   "cell_type": "markdown",
   "metadata": {},
   "source": [
    "# (Optional) One-Dimensional Convolution #\n",
    "\n",
    "Convolutional networks turn out to be useful not only (two-dimensional) images, but also on things like time-series (one-dimensional) and video (three-dimensional).\n",
    "\n",
    "We've seen how convolutional networks can learn to extract features from (two-dimensional) images. It turns out that convnets can also learn to extract features from things like time-series (one-dimensional) and video (three-dimensional).\n",
    "\n",
    "In this (optional) exercise, we'll see what convolution looks like on a time-series.\n",
    "\n",
    "The time series we'll use is from [Google Trends](https://trends.google.com/trends/). It measures the popularity of the search term \"machine learning\" for weeks from January 25, 2015 to January 15, 2020."
   ]
  },
  {
   "cell_type": "code",
   "execution_count": 5,
   "metadata": {
    "execution": {
     "iopub.execute_input": "2022-02-15T05:25:30.693584Z",
     "iopub.status.busy": "2022-02-15T05:25:30.692777Z",
     "iopub.status.idle": "2022-02-15T05:25:31.184264Z",
     "shell.execute_reply": "2022-02-15T05:25:31.182830Z",
     "shell.execute_reply.started": "2022-02-15T05:25:30.693532Z"
    }
   },
   "outputs": [],
   "source": [
    "import pandas as pd\n",
    "\n",
    "# Load the time series as a Pandas dataframe\n",
    "machinelearning = pd.read_csv(\n",
    "    '../input/computer-vision-resources/machinelearning.csv',\n",
    "    parse_dates=['Week'],\n",
    "    index_col='Week',\n",
    ")\n",
    "\n",
    "machinelearning.plot();"
   ]
  },
  {
   "cell_type": "markdown",
   "metadata": {},
   "source": [
    "What about the kernels? Images are two-dimensional and so our kernels were 2D arrays. A time-series is one-dimensional, so what should the kernel be? A 1D array! Here are some kernels sometimes used on time-series data:"
   ]
  },
  {
   "cell_type": "code",
   "execution_count": 6,
   "metadata": {
    "execution": {
     "iopub.execute_input": "2022-02-15T05:26:07.803081Z",
     "iopub.status.busy": "2022-02-15T05:26:07.802085Z",
     "iopub.status.idle": "2022-02-15T05:26:07.815891Z",
     "shell.execute_reply": "2022-02-15T05:26:07.815059Z",
     "shell.execute_reply.started": "2022-02-15T05:26:07.803026Z"
    }
   },
   "outputs": [],
   "source": [
    "detrend = tf.constant([-1, 1], dtype=tf.float32)\n",
    "\n",
    "average = tf.constant([0.2, 0.2, 0.2, 0.2, 0.2], dtype=tf.float32)\n",
    "\n",
    "spencer = tf.constant([-3, -6, -5, 3, 21, 46, 67, 74, 67, 46, 32, 3, -5, -6, -3], dtype=tf.float32) / 320"
   ]
  },
  {
   "cell_type": "markdown",
   "metadata": {},
   "source": [
    "Convolution on a sequence works just like convolution on an image. The difference is just that a sliding window on a sequence only has one direction to travel -- left to right -- instead of the two directions on an image. And just like before, the features picked out depend on the pattern on numbers in the kernel.\n",
    "\n",
    "Can you guess what kind of features these kernels extract? Uncomment one of the kernels below and run the cell to see!"
   ]
  },
  {
   "cell_type": "code",
   "execution_count": 10,
   "metadata": {
    "execution": {
     "iopub.execute_input": "2022-02-15T05:27:39.580852Z",
     "iopub.status.busy": "2022-02-15T05:27:39.580141Z",
     "iopub.status.idle": "2022-02-15T05:27:40.158626Z",
     "shell.execute_reply": "2022-02-15T05:27:40.157498Z",
     "shell.execute_reply.started": "2022-02-15T05:27:39.580802Z"
    },
    "lines_to_next_cell": 0
   },
   "outputs": [],
   "source": [
    "# UNCOMMENT ONE\n",
    "# kernel = detrend\n",
    "# kernel = average\n",
    "kernel = spencer\n",
    "\n",
    "# Reformat for TensorFlow\n",
    "ts_data = machinelearning.to_numpy()\n",
    "ts_data = tf.expand_dims(ts_data, axis=0)\n",
    "ts_data = tf.cast(ts_data, dtype=tf.float32)\n",
    "kern = tf.reshape(kernel, shape=(*kernel.shape, 1, 1))\n",
    "\n",
    "ts_filter = tf.nn.conv1d(\n",
    "    input=ts_data,\n",
    "    filters=kern,\n",
    "    stride=1,\n",
    "    padding='VALID',\n",
    ")\n",
    "\n",
    "# Format as Pandas Series\n",
    "machinelearning_filtered = pd.Series(tf.squeeze(ts_filter).numpy())\n",
    "\n",
    "machinelearning_filtered.plot();"
   ]
  },
  {
   "cell_type": "markdown",
   "metadata": {},
   "source": [
    "In fact, the `detrend` kernel filters for *changes* in the series, while `average` and `spencer` are both \"smoothers\" that filter for low-frequency components in the series.\n",
    "\n",
    "If you were interested in predicting the future popularity of search terms, you might train a convnet on time-series like this one. It would try to learn what features in those series are most informative for the prediction.\n",
    "\n",
    "Though convnets are not often the best choice on their own for these kinds of problems, they are often incorporated into other models for their feature extraction capabilities."
   ]
  },
  {
   "cell_type": "markdown",
   "metadata": {},
   "source": [
    "# Conclusion #\n",
    "\n",
    "This lesson ends our discussion of feature extraction. Hopefully, having completed these lessons, you've gained some intuition about how the process works and why the usual choices for its implementation are often the best ones."
   ]
  },
  {
   "cell_type": "markdown",
   "metadata": {},
   "source": [
    "# Keep Going #\n",
    "\n",
    "In the next lesson, [**Lesson 5**](https://www.kaggle.com/ryanholbrook/custom-convnets), you'll learn how to compose the `Conv2D` and `MaxPool2D` layers to build your own convolutional networks from scratch."
   ]
  },
  {
   "cell_type": "markdown",
   "metadata": {},
   "source": [
    "---\n",
    "\n",
    "\n",
    "\n",
    "\n",
    "*Have questions or comments? Visit the [course discussion forum](https://www.kaggle.com/learn/computer-vision/discussion) to chat with other learners.*"
   ]
  }
 ],
 "metadata": {
  "jupytext": {
   "formats": "md,ipynb",
   "split_at_heading": true
  },
  "kernelspec": {
   "display_name": "Python 3",
   "language": "python",
   "name": "python3"
  },
  "language_info": {
   "codemirror_mode": {
    "name": "ipython",
    "version": 3
   },
   "file_extension": ".py",
   "mimetype": "text/x-python",
   "name": "python",
   "nbconvert_exporter": "python",
   "pygments_lexer": "ipython3",
   "version": "3.7.3"
  }
 },
 "nbformat": 4,
 "nbformat_minor": 4
}
