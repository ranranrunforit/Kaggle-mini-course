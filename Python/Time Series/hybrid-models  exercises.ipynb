{
 "cells": [
  {
   "cell_type": "markdown",
   "metadata": {},
   "source": [
    "**This notebook is an exercise in the [Time Series](https://www.kaggle.com/learn/time-series) course.  You can reference the tutorial at [this link](https://www.kaggle.com/ryanholbrook/hybrid-models).**\n",
    "\n",
    "---\n"
   ]
  },
  {
   "cell_type": "markdown",
   "metadata": {},
   "source": [
    "# Introduction #\n",
    "\n",
    "Run this cell to set everything up!"
   ]
  },
  {
   "cell_type": "code",
   "execution_count": 6,
   "metadata": {
    "execution": {
     "iopub.execute_input": "2022-02-10T02:42:49.745599Z",
     "iopub.status.busy": "2022-02-10T02:42:49.745112Z",
     "iopub.status.idle": "2022-02-10T02:42:53.754584Z",
     "shell.execute_reply": "2022-02-10T02:42:53.753732Z",
     "shell.execute_reply.started": "2022-02-10T02:42:49.745550Z"
    }
   },
   "outputs": [],
   "source": [
    "# Setup feedback system\n",
    "from learntools.core import binder\n",
    "binder.bind(globals())\n",
    "from learntools.time_series.ex5 import *\n",
    "\n",
    "# Setup notebook\n",
    "from pathlib import Path\n",
    "from learntools.time_series.style import *  # plot style settings\n",
    "\n",
    "import matplotlib.pyplot as plt\n",
    "import pandas as pd\n",
    "from sklearn.linear_model import LinearRegression\n",
    "from sklearn.preprocessing import LabelEncoder\n",
    "from statsmodels.tsa.deterministic import DeterministicProcess\n",
    "from xgboost import XGBRegressor\n",
    "\n",
    "\n",
    "comp_dir = Path('../input/store-sales-time-series-forecasting')\n",
    "data_dir = Path(\"../input/ts-course-data\")\n",
    "\n",
    "store_sales = pd.read_csv(\n",
    "    comp_dir / 'train.csv',\n",
    "    usecols=['store_nbr', 'family', 'date', 'sales', 'onpromotion'],\n",
    "    dtype={\n",
    "        'store_nbr': 'category',\n",
    "        'family': 'category',\n",
    "        'sales': 'float32',\n",
    "    },\n",
    "    parse_dates=['date'],\n",
    "    infer_datetime_format=True,\n",
    ")\n",
    "store_sales['date'] = store_sales.date.dt.to_period('D')\n",
    "store_sales = store_sales.set_index(['store_nbr', 'family', 'date']).sort_index()\n",
    "\n",
    "family_sales = (\n",
    "    store_sales\n",
    "    .groupby(['family', 'date'])\n",
    "    .mean()\n",
    "    .unstack('family')\n",
    "    .loc['2017']\n",
    ")"
   ]
  },
  {
   "cell_type": "markdown",
   "metadata": {},
   "source": [
    "-------------------------------------------------------------------------------\n",
    "\n",
    "In the next two questions, you'll create a boosted hybrid for the *Store Sales* dataset by implementing a new Python class. Run this cell to create the initial class definition. You'll add `fit` and `predict` methods to give it a scikit-learn like interface.\n"
   ]
  },
  {
   "cell_type": "code",
   "execution_count": 7,
   "metadata": {
    "execution": {
     "iopub.execute_input": "2022-02-10T02:42:53.819759Z",
     "iopub.status.busy": "2022-02-10T02:42:53.819303Z",
     "iopub.status.idle": "2022-02-10T02:42:53.825254Z",
     "shell.execute_reply": "2022-02-10T02:42:53.824409Z",
     "shell.execute_reply.started": "2022-02-10T02:42:53.819711Z"
    }
   },
   "outputs": [],
   "source": [
    "# You'll add fit and predict methods to this minimal class\n",
    "class BoostedHybrid:\n",
    "    def __init__(self, model_1, model_2):\n",
    "        self.model_1 = model_1\n",
    "        self.model_2 = model_2\n",
    "        self.y_columns = None  # store column names from fit method\n"
   ]
  },
  {
   "cell_type": "markdown",
   "metadata": {},
   "source": [
    "# 1) Define fit method for boosted hybrid\n",
    "\n",
    "Complete the `fit` definition for the `BoostedHybrid` class. Refer back to steps 1 and 2 from the **Hybrid Forecasting with Residuals** section in the tutorial if you need."
   ]
  },
  {
   "cell_type": "code",
   "execution_count": 8,
   "metadata": {
    "execution": {
     "iopub.execute_input": "2022-02-10T02:42:59.558493Z",
     "iopub.status.busy": "2022-02-10T02:42:59.558042Z",
     "iopub.status.idle": "2022-02-10T02:42:59.582872Z",
     "shell.execute_reply": "2022-02-10T02:42:59.581937Z",
     "shell.execute_reply.started": "2022-02-10T02:42:59.558448Z"
    }
   },
   "outputs": [],
   "source": [
    "def fit(self, X_1, X_2, y):\n",
    "    # YOUR CODE HERE: fit self.model_1\n",
    "    self.model_1.fit(X_1,y)\n",
    "\n",
    "    y_fit = pd.DataFrame(\n",
    "        # YOUR CODE HERE: make predictions with self.model_1\n",
    "        self.model_1.predict(X_1),\n",
    "        index=X_1.index, columns=y.columns,\n",
    "    )\n",
    "\n",
    "    # YOUR CODE HERE: compute residuals\n",
    "    y_resid = y - y_fit\n",
    "    y_resid = y_resid.stack().squeeze() # wide to long\n",
    "\n",
    "    # YOUR CODE HERE: fit self.model_2 on residuals\n",
    "    self.model_2.fit(X_2,y_resid)\n",
    "\n",
    "    # Save column names for predict method\n",
    "    self.y_columns = y.columns\n",
    "    # Save data for question checking\n",
    "    self.y_fit = y_fit\n",
    "    self.y_resid = y_resid\n",
    "\n",
    "\n",
    "# Add method to class\n",
    "BoostedHybrid.fit = fit\n",
    "\n",
    "\n",
    "# Check your answer\n",
    "q_1.check()"
   ]
  },
  {
   "cell_type": "code",
   "execution_count": null,
   "metadata": {},
   "outputs": [],
   "source": [
    "# Lines below will give you a hint or solution code\n",
    "#q_1.hint()\n",
    "#q_1.solution()"
   ]
  },
  {
   "cell_type": "markdown",
   "metadata": {},
   "source": [
    "-------------------------------------------------------------------------------\n",
    "\n",
    "# 2) Define predict method for boosted hybrid\n",
    "\n",
    "Now define the `predict` method for the `BoostedHybrid` class. Refer back to step 3 from the **Hybrid Forecasting with Residuals** section in the tutorial if you need."
   ]
  },
  {
   "cell_type": "code",
   "execution_count": 9,
   "metadata": {
    "execution": {
     "iopub.execute_input": "2022-02-10T02:44:16.255705Z",
     "iopub.status.busy": "2022-02-10T02:44:16.254650Z",
     "iopub.status.idle": "2022-02-10T02:44:16.291271Z",
     "shell.execute_reply": "2022-02-10T02:44:16.290673Z",
     "shell.execute_reply.started": "2022-02-10T02:44:16.255653Z"
    }
   },
   "outputs": [],
   "source": [
    "def predict(self, X_1, X_2):\n",
    "    y_pred = pd.DataFrame(\n",
    "        # YOUR CODE HERE: predict with self.model_1\n",
    "        self.model_1.predict(X_1),\n",
    "        index=X_1.index, columns=self.y_columns,\n",
    "    )\n",
    "    y_pred = y_pred.stack().squeeze()  # wide to long\n",
    "\n",
    "    # YOUR CODE HERE: add self.model_2 predictions to y_pred\n",
    "    y_pred += self.model_2.predict(X_2)\n",
    "    \n",
    "    return y_pred.unstack()  # long to wide\n",
    "\n",
    "\n",
    "# Add method to class\n",
    "BoostedHybrid.predict = predict\n",
    "\n",
    "\n",
    "# Check your answer\n",
    "q_2.check()"
   ]
  },
  {
   "cell_type": "code",
   "execution_count": null,
   "metadata": {},
   "outputs": [],
   "source": [
    "# Lines below will give you a hint or solution code\n",
    "#q_2.hint()\n",
    "#q_2.solution()"
   ]
  },
  {
   "cell_type": "markdown",
   "metadata": {},
   "source": [
    "-------------------------------------------------------------------------------\n",
    "\n",
    "Now you're ready to use your new `BoostedHybrid` class to create a model for the *Store Sales* data. Run the next cell to set up the data for training."
   ]
  },
  {
   "cell_type": "code",
   "execution_count": 10,
   "metadata": {
    "execution": {
     "iopub.execute_input": "2022-02-10T02:44:25.546719Z",
     "iopub.status.busy": "2022-02-10T02:44:25.545721Z",
     "iopub.status.idle": "2022-02-10T02:44:25.574998Z",
     "shell.execute_reply": "2022-02-10T02:44:25.574245Z",
     "shell.execute_reply.started": "2022-02-10T02:44:25.546670Z"
    }
   },
   "outputs": [],
   "source": [
    "# Target series\n",
    "y = family_sales.loc[:, 'sales']\n",
    "\n",
    "\n",
    "# X_1: Features for Linear Regression\n",
    "dp = DeterministicProcess(index=y.index, order=1)\n",
    "X_1 = dp.in_sample()\n",
    "\n",
    "\n",
    "# X_2: Features for XGBoost\n",
    "X_2 = family_sales.drop('sales', axis=1).stack()  # onpromotion feature\n",
    "\n",
    "# Label encoding for 'family'\n",
    "le = LabelEncoder()  # from sklearn.preprocessing\n",
    "X_2 = X_2.reset_index('family')\n",
    "X_2['family'] = le.fit_transform(X_2['family'])\n",
    "\n",
    "# Label encoding for seasonality\n",
    "X_2[\"day\"] = X_2.index.day  # values are day of the month"
   ]
  },
  {
   "cell_type": "markdown",
   "metadata": {},
   "source": [
    "# 3) Train boosted hybrid\n",
    "\n",
    "Create the hybrid model by initializing a `BoostedHybrid` class with `LinearRegression()` and `XGBRegressor()` instances."
   ]
  },
  {
   "cell_type": "code",
   "execution_count": 11,
   "metadata": {
    "execution": {
     "iopub.execute_input": "2022-02-10T02:51:14.748392Z",
     "iopub.status.busy": "2022-02-10T02:51:14.747214Z",
     "iopub.status.idle": "2022-02-10T02:51:15.794468Z",
     "shell.execute_reply": "2022-02-10T02:51:15.793503Z",
     "shell.execute_reply.started": "2022-02-10T02:51:14.748336Z"
    }
   },
   "outputs": [],
   "source": [
    "# YOUR CODE HERE: Create LinearRegression + XGBRegressor hybrid with BoostedHybrid\n",
    "model = BoostedHybrid(\n",
    "    model_1=LinearRegression(),\n",
    "    model_2=XGBRegressor(),\n",
    ")\n",
    "\n",
    "# YOUR CODE HERE: Fit and predict\n",
    "model.fit(X_1, X_2, y)\n",
    "y_pred = model.predict(X_1, X_2)\n",
    "\n",
    "y_pred = y_pred.clip(0.0)\n",
    "\n",
    "\n",
    "# Check your answer\n",
    "q_3.check()"
   ]
  },
  {
   "cell_type": "code",
   "execution_count": null,
   "metadata": {},
   "outputs": [],
   "source": [
    "# Lines below will give you a hint or solution code\n",
    "#q_3.hint()\n",
    "#q_3.solution()"
   ]
  },
  {
   "cell_type": "markdown",
   "metadata": {},
   "source": [
    "-------------------------------------------------------------------------------\n",
    "\n",
    "Depending on your problem, you might want to use other hybrid combinations than the linear regression + XGBoost hybrid you've created in the previous questions. Run the next cell to try other algorithms from scikit-learn."
   ]
  },
  {
   "cell_type": "code",
   "execution_count": 12,
   "metadata": {
    "execution": {
     "iopub.execute_input": "2022-02-10T02:51:22.910271Z",
     "iopub.status.busy": "2022-02-10T02:51:22.909965Z",
     "iopub.status.idle": "2022-02-10T02:51:23.017698Z",
     "shell.execute_reply": "2022-02-10T02:51:23.016601Z",
     "shell.execute_reply.started": "2022-02-10T02:51:22.910235Z"
    }
   },
   "outputs": [],
   "source": [
    "# Model 1 (trend)\n",
    "from pyearth import Earth\n",
    "from sklearn.linear_model import ElasticNet, Lasso, Ridge\n",
    "\n",
    "# Model 2\n",
    "from sklearn.ensemble import ExtraTreesRegressor, RandomForestRegressor\n",
    "from sklearn.neighbors import KNeighborsRegressor\n",
    "from sklearn.neural_network import MLPRegressor\n",
    "\n",
    "# Boosted Hybrid\n",
    "\n",
    "# YOUR CODE HERE: Try different combinations of the algorithms above\n",
    "model = BoostedHybrid(\n",
    "    model_1=Ridge(),\n",
    "    model_2=KNeighborsRegressor(),\n",
    ")"
   ]
  },
  {
   "cell_type": "markdown",
   "metadata": {},
   "source": [
    "These are just some suggestions. You might discover other algorithms you like in the scikit-learn [User Guide](https://scikit-learn.org/stable/supervised_learning.html).\n",
    "\n",
    "Use the code in this cell to see the predictions your hybrid makes."
   ]
  },
  {
   "cell_type": "code",
   "execution_count": 13,
   "metadata": {
    "execution": {
     "iopub.execute_input": "2022-02-10T02:51:38.294132Z",
     "iopub.status.busy": "2022-02-10T02:51:38.293683Z",
     "iopub.status.idle": "2022-02-10T02:51:40.322728Z",
     "shell.execute_reply": "2022-02-10T02:51:40.321876Z",
     "shell.execute_reply.started": "2022-02-10T02:51:38.294095Z"
    }
   },
   "outputs": [],
   "source": [
    "y_train, y_valid = y[:\"2017-07-01\"], y[\"2017-07-02\":]\n",
    "X1_train, X1_valid = X_1[: \"2017-07-01\"], X_1[\"2017-07-02\" :]\n",
    "X2_train, X2_valid = X_2.loc[:\"2017-07-01\"], X_2.loc[\"2017-07-02\":]\n",
    "\n",
    "# Some of the algorithms above do best with certain kinds of\n",
    "# preprocessing on the features (like standardization), but this is\n",
    "# just a demo.\n",
    "model.fit(X1_train, X2_train, y_train)\n",
    "y_fit = model.predict(X1_train, X2_train).clip(0.0)\n",
    "y_pred = model.predict(X1_valid, X2_valid).clip(0.0)\n",
    "\n",
    "families = y.columns[0:6]\n",
    "axs = y.loc(axis=1)[families].plot(\n",
    "    subplots=True, sharex=True, figsize=(11, 9), **plot_params, alpha=0.5,\n",
    ")\n",
    "_ = y_fit.loc(axis=1)[families].plot(subplots=True, sharex=True, color='C0', ax=axs)\n",
    "_ = y_pred.loc(axis=1)[families].plot(subplots=True, sharex=True, color='C3', ax=axs)\n",
    "for ax, family in zip(axs, families):\n",
    "    ax.legend([])\n",
    "    ax.set_ylabel(family)"
   ]
  },
  {
   "cell_type": "markdown",
   "metadata": {},
   "source": [
    "# 4) Fit with different learning algorithms\n",
    "\n",
    "Once you're ready to move on, run the next cell for credit on this question."
   ]
  },
  {
   "cell_type": "code",
   "execution_count": 14,
   "metadata": {
    "execution": {
     "iopub.execute_input": "2022-02-10T02:51:49.434327Z",
     "iopub.status.busy": "2022-02-10T02:51:49.433988Z",
     "iopub.status.idle": "2022-02-10T02:51:49.444015Z",
     "shell.execute_reply": "2022-02-10T02:51:49.443101Z",
     "shell.execute_reply.started": "2022-02-10T02:51:49.434293Z"
    },
    "lines_to_next_cell": 2
   },
   "outputs": [],
   "source": [
    "# View the solution (Run this cell to receive credit!)\n",
    "q_4.check()"
   ]
  },
  {
   "cell_type": "markdown",
   "metadata": {},
   "source": [
    "# Keep Going #\n",
    "\n",
    "[**Convert any forecasting task**](https://www.kaggle.com/ryanholbrook/forecasting-with-machine-learning) to a machine learning problem with four ML forecasting strategies."
   ]
  },
  {
   "cell_type": "markdown",
   "metadata": {},
   "source": [
    "---\n",
    "\n",
    "\n",
    "\n",
    "\n",
    "*Have questions or comments? Visit the [course discussion forum](https://www.kaggle.com/learn/time-series/discussion) to chat with other learners.*"
   ]
  }
 ],
 "metadata": {
  "kernelspec": {
   "display_name": "Python 3",
   "language": "python",
   "name": "python3"
  },
  "language_info": {
   "codemirror_mode": {
    "name": "ipython",
    "version": 3
   },
   "file_extension": ".py",
   "mimetype": "text/x-python",
   "name": "python",
   "nbconvert_exporter": "python",
   "pygments_lexer": "ipython3",
   "version": "3.7.3"
  }
 },
 "nbformat": 4,
 "nbformat_minor": 4
}
