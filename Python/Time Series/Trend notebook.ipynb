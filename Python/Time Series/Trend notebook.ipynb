{
 "cells": [
  {
   "cell_type": "markdown",
   "metadata": {},
   "source": [
    "**This notebook is an exercise in the [Time Series](https://www.kaggle.com/learn/time-series) course.  You can reference the tutorial at [this link](https://www.kaggle.com/ryanholbrook/trend).**\n",
    "\n",
    "---\n"
   ]
  },
  {
   "cell_type": "markdown",
   "metadata": {},
   "source": [
    "\n",
    "# Introduction #"
   ]
  },
  {
   "cell_type": "markdown",
   "metadata": {},
   "source": [
    "Run this cell to set everything up!"
   ]
  },
  {
   "cell_type": "code",
   "execution_count": 3,
   "metadata": {
    "execution": {
     "iopub.execute_input": "2022-02-06T12:37:19.027836Z",
     "iopub.status.busy": "2022-02-06T12:37:19.027078Z",
     "iopub.status.idle": "2022-02-06T12:37:22.961581Z",
     "shell.execute_reply": "2022-02-06T12:37:22.960415Z",
     "shell.execute_reply.started": "2022-02-06T12:37:19.027779Z"
    },
    "lines_to_next_cell": 0
   },
   "outputs": [],
   "source": [
    "# Setup feedback system\n",
    "from learntools.core import binder\n",
    "binder.bind(globals())\n",
    "from learntools.time_series.ex2 import *\n",
    "\n",
    "# Setup notebook\n",
    "from pathlib import Path\n",
    "from learntools.time_series.style import *  # plot style settings\n",
    "\n",
    "import pandas as pd\n",
    "import matplotlib.pyplot as plt\n",
    "import numpy as np\n",
    "import seaborn as sns\n",
    "from sklearn.linear_model import LinearRegression\n",
    "\n",
    "data_dir = Path('../input/ts-course-data/')\n",
    "comp_dir = Path('../input/store-sales-time-series-forecasting')\n",
    "\n",
    "retail_sales = pd.read_csv(\n",
    "    data_dir / \"us-retail-sales.csv\",\n",
    "    parse_dates=['Month'],\n",
    "    index_col='Month',\n",
    ").to_period('D')\n",
    "food_sales = retail_sales.loc[:, 'FoodAndBeverage']\n",
    "auto_sales = retail_sales.loc[:, 'Automobiles']\n",
    "\n",
    "dtype = {\n",
    "    'store_nbr': 'category',\n",
    "    'family': 'category',\n",
    "    'sales': 'float32',\n",
    "    'onpromotion': 'uint64',\n",
    "}\n",
    "store_sales = pd.read_csv(\n",
    "    comp_dir / 'train.csv',\n",
    "    dtype=dtype,\n",
    "    parse_dates=['date'],\n",
    "    infer_datetime_format=True,\n",
    ")\n",
    "store_sales = store_sales.set_index('date').to_period('D')\n",
    "store_sales = store_sales.set_index(['store_nbr', 'family'], append=True)\n",
    "average_sales = store_sales.groupby('date').mean()['sales']"
   ]
  },
  {
   "cell_type": "markdown",
   "metadata": {},
   "source": [
    "-------------------------------------------------------------------------------"
   ]
  },
  {
   "cell_type": "markdown",
   "metadata": {},
   "source": [
    "# 1) Determine trend with a moving average plot\n",
    "\n",
    "The *US Retail Sales* dataset contains monthly sales data for a number of retail industries in the United States. Run the next cell to see a plot of the *Food and Beverage* series."
   ]
  },
  {
   "cell_type": "code",
   "execution_count": 3,
   "metadata": {
    "execution": {
     "iopub.execute_input": "2022-02-06T12:31:59.080620Z",
     "iopub.status.busy": "2022-02-06T12:31:59.079774Z",
     "iopub.status.idle": "2022-02-06T12:31:59.526158Z",
     "shell.execute_reply": "2022-02-06T12:31:59.525018Z",
     "shell.execute_reply.started": "2022-02-06T12:31:59.080565Z"
    }
   },
   "outputs": [],
   "source": [
    "ax = food_sales.plot(**plot_params)\n",
    "ax.set(title=\"US Food and Beverage Sales\", ylabel=\"Millions of Dollars\");"
   ]
  },
  {
   "cell_type": "markdown",
   "metadata": {},
   "source": [
    "Now make a moving average plot to estimate the trend for this series."
   ]
  },
  {
   "cell_type": "code",
   "execution_count": 4,
   "metadata": {
    "execution": {
     "iopub.execute_input": "2022-02-06T12:37:22.963857Z",
     "iopub.status.busy": "2022-02-06T12:37:22.963569Z",
     "iopub.status.idle": "2022-02-06T12:37:23.407399Z",
     "shell.execute_reply": "2022-02-06T12:37:23.406275Z",
     "shell.execute_reply.started": "2022-02-06T12:37:22.963817Z"
    },
    "lines_to_next_cell": 0
   },
   "outputs": [],
   "source": [
    "# YOUR CODE HERE: Add methods to `food_sales` to compute a moving\n",
    "# average with appropriate parameters for trend estimation.\n",
    "\n",
    "trend = food_sales.rolling( window=12,center=True,min_periods=6).mean()\n",
    "\n",
    "# Check your answer\n",
    "q_1.check()\n",
    "\n",
    "# Make a plot\n",
    "ax = food_sales.plot(**plot_params, alpha=0.5)\n",
    "ax = trend.plot(ax=ax, linewidth=3)"
   ]
  },
  {
   "cell_type": "code",
   "execution_count": 7,
   "metadata": {
    "execution": {
     "iopub.execute_input": "2022-02-06T12:35:40.586966Z",
     "iopub.status.busy": "2022-02-06T12:35:40.586200Z",
     "iopub.status.idle": "2022-02-06T12:35:40.595756Z",
     "shell.execute_reply": "2022-02-06T12:35:40.594896Z",
     "shell.execute_reply.started": "2022-02-06T12:35:40.586919Z"
    },
    "lines_to_next_cell": 0
   },
   "outputs": [],
   "source": [
    "# Uncomment to get a hint or solution\n",
    "#q_1.hint()\n",
    "#q_1.solution()"
   ]
  },
  {
   "cell_type": "markdown",
   "metadata": {},
   "source": [
    "-------------------------------------------------------------------------------\n",
    "\n",
    "# 2) Identify trend\n",
    "\n",
    "What order polynomial trend might be appropriate for the *Food and Beverage Sales* series? Can you think of a non-polynomial curve that might work even better?\n",
    "\n",
    "Once you've thought about it, run this cell for some discussion."
   ]
  },
  {
   "cell_type": "code",
   "execution_count": 5,
   "metadata": {
    "execution": {
     "iopub.execute_input": "2022-02-06T12:37:34.693556Z",
     "iopub.status.busy": "2022-02-06T12:37:34.692552Z",
     "iopub.status.idle": "2022-02-06T12:37:34.702422Z",
     "shell.execute_reply": "2022-02-06T12:37:34.701477Z",
     "shell.execute_reply.started": "2022-02-06T12:37:34.693502Z"
    }
   },
   "outputs": [],
   "source": [
    "# View the solution (Run this cell to receive credit!)\n",
    "q_2.check()"
   ]
  },
  {
   "cell_type": "markdown",
   "metadata": {},
   "source": [
    "-------------------------------------------------------------------------------\n",
    "\n",
    "We'll continue using the time series of average sales in this lesson. Run this cell to see a moving average plot of `average_sales` estimating the trend."
   ]
  },
  {
   "cell_type": "code",
   "execution_count": 6,
   "metadata": {
    "execution": {
     "iopub.execute_input": "2022-02-06T12:38:20.477252Z",
     "iopub.status.busy": "2022-02-06T12:38:20.476917Z",
     "iopub.status.idle": "2022-02-06T12:38:20.857699Z",
     "shell.execute_reply": "2022-02-06T12:38:20.856811Z",
     "shell.execute_reply.started": "2022-02-06T12:38:20.477217Z"
    }
   },
   "outputs": [],
   "source": [
    "trend = average_sales.rolling(\n",
    "    window=365,\n",
    "    center=True,\n",
    "    min_periods=183,\n",
    ").mean()\n",
    "\n",
    "ax = average_sales.plot(**plot_params, alpha=0.5)\n",
    "ax = trend.plot(ax=ax, linewidth=3)"
   ]
  },
  {
   "cell_type": "markdown",
   "metadata": {},
   "source": [
    "# 3) Create a Trend Feature\n",
    "\n",
    "Use `DeterministicProcess` to create a feature set for a cubic trend model. Also create features for a 90-day forecast."
   ]
  },
  {
   "cell_type": "code",
   "execution_count": 10,
   "metadata": {
    "execution": {
     "iopub.execute_input": "2022-02-06T12:45:20.136841Z",
     "iopub.status.busy": "2022-02-06T12:45:20.136484Z",
     "iopub.status.idle": "2022-02-06T12:45:20.157020Z",
     "shell.execute_reply": "2022-02-06T12:45:20.154578Z",
     "shell.execute_reply.started": "2022-02-06T12:45:20.136809Z"
    }
   },
   "outputs": [],
   "source": [
    "from statsmodels.tsa.deterministic import DeterministicProcess\n",
    "\n",
    "y = average_sales.copy()  # the target\n",
    "\n",
    "# YOUR CODE HERE: Instantiate `DeterministicProcess` with arguments\n",
    "# appropriate for a cubic trend model\n",
    "dp = DeterministicProcess(index=y.index,order=3)\n",
    "\n",
    "# YOUR CODE HERE: Create the feature set for the dates given in y.index\n",
    "X = dp.in_sample()\n",
    "\n",
    "# YOUR CODE HERE: Create features for a 90-day forecast.\n",
    "X_fore =  dp.out_of_sample(steps=90)\n",
    "\n",
    "\n",
    "# Check your answer\n",
    "q_3.check()"
   ]
  },
  {
   "cell_type": "code",
   "execution_count": 9,
   "metadata": {
    "execution": {
     "iopub.execute_input": "2022-02-06T12:44:18.667186Z",
     "iopub.status.busy": "2022-02-06T12:44:18.666616Z",
     "iopub.status.idle": "2022-02-06T12:44:18.676228Z",
     "shell.execute_reply": "2022-02-06T12:44:18.675216Z",
     "shell.execute_reply.started": "2022-02-06T12:44:18.667143Z"
    }
   },
   "outputs": [],
   "source": [
    "# Lines below will give you a hint or solution code\n",
    "#q_3.hint()\n",
    "#q_3.solution()"
   ]
  },
  {
   "cell_type": "markdown",
   "metadata": {},
   "source": [
    "You can see the a plot of the result by running the next cell."
   ]
  },
  {
   "cell_type": "code",
   "execution_count": 11,
   "metadata": {
    "execution": {
     "iopub.execute_input": "2022-02-06T12:45:30.540080Z",
     "iopub.status.busy": "2022-02-06T12:45:30.539493Z",
     "iopub.status.idle": "2022-02-06T12:45:30.990723Z",
     "shell.execute_reply": "2022-02-06T12:45:30.989953Z",
     "shell.execute_reply.started": "2022-02-06T12:45:30.540043Z"
    }
   },
   "outputs": [],
   "source": [
    "model = LinearRegression()\n",
    "model.fit(X, y)\n",
    "\n",
    "y_pred = pd.Series(model.predict(X), index=X.index)\n",
    "y_fore = pd.Series(model.predict(X_fore), index=X_fore.index)\n",
    "\n",
    "ax = y.plot(**plot_params, alpha=0.5, title=\"Average Sales\", ylabel=\"items sold\")\n",
    "ax = y_pred.plot(ax=ax, linewidth=3, label=\"Trend\", color='C0')\n",
    "ax = y_fore.plot(ax=ax, linewidth=3, label=\"Trend Forecast\", color='C3')\n",
    "ax.legend();"
   ]
  },
  {
   "cell_type": "markdown",
   "metadata": {},
   "source": [
    "--------------------------------------------------------------------------------\n",
    "\n",
    "One way to fit more complicated trends is to increase the order of the polynomial you use. To get a better fit to the somewhat complicated trend in *Store Sales*, we could try using an order 11 polynomial."
   ]
  },
  {
   "cell_type": "code",
   "execution_count": 12,
   "metadata": {
    "execution": {
     "iopub.execute_input": "2022-02-06T12:46:00.726155Z",
     "iopub.status.busy": "2022-02-06T12:46:00.725670Z",
     "iopub.status.idle": "2022-02-06T12:46:01.289707Z",
     "shell.execute_reply": "2022-02-06T12:46:01.288711Z",
     "shell.execute_reply.started": "2022-02-06T12:46:00.726101Z"
    }
   },
   "outputs": [],
   "source": [
    "from statsmodels.tsa.deterministic import DeterministicProcess\n",
    "\n",
    "dp = DeterministicProcess(index=y.index, order=11)\n",
    "X = dp.in_sample()\n",
    "\n",
    "model = LinearRegression()\n",
    "model.fit(X, y)\n",
    "\n",
    "y_pred = pd.Series(model.predict(X), index=X.index)\n",
    "\n",
    "ax = y.plot(**plot_params, alpha=0.5, title=\"Average Sales\", ylabel=\"items sold\")\n",
    "ax = y_pred.plot(ax=ax, linewidth=3, label=\"Trend\", color='C0')\n",
    "ax.legend();"
   ]
  },
  {
   "cell_type": "markdown",
   "metadata": {},
   "source": [
    "# 4) Understand risks of forecasting with high-order polynomials\n",
    "\n",
    "High-order polynomials are generally not well-suited to forecasting, however. Can you guess why?"
   ]
  },
  {
   "cell_type": "code",
   "execution_count": 13,
   "metadata": {
    "execution": {
     "iopub.execute_input": "2022-02-06T12:46:14.304533Z",
     "iopub.status.busy": "2022-02-06T12:46:14.303782Z",
     "iopub.status.idle": "2022-02-06T12:46:14.315580Z",
     "shell.execute_reply": "2022-02-06T12:46:14.314437Z",
     "shell.execute_reply.started": "2022-02-06T12:46:14.304477Z"
    }
   },
   "outputs": [],
   "source": [
    "# View the solution (Run this cell to receive credit!)\n",
    "q_4.check()"
   ]
  },
  {
   "cell_type": "code",
   "execution_count": null,
   "metadata": {},
   "outputs": [],
   "source": [
    "# Uncomment the next line for a hint\n",
    "#q_4.hint()"
   ]
  },
  {
   "cell_type": "markdown",
   "metadata": {},
   "source": [
    "Run this cell to see the same 90-day forecast using an order 11 polynomial. Does it confirm your intuition?"
   ]
  },
  {
   "cell_type": "code",
   "execution_count": 14,
   "metadata": {
    "execution": {
     "iopub.execute_input": "2022-02-06T12:46:44.784480Z",
     "iopub.status.busy": "2022-02-06T12:46:44.784115Z",
     "iopub.status.idle": "2022-02-06T12:46:45.267790Z",
     "shell.execute_reply": "2022-02-06T12:46:45.266938Z",
     "shell.execute_reply.started": "2022-02-06T12:46:44.784441Z"
    }
   },
   "outputs": [],
   "source": [
    "X_fore = dp.out_of_sample(steps=90)\n",
    "y_fore = pd.Series(model.predict(X_fore), index=X_fore.index)\n",
    "\n",
    "ax = y.plot(**plot_params, alpha=0.5, title=\"Average Sales\", ylabel=\"items sold\")\n",
    "ax = y_pred.plot(ax=ax, linewidth=3, label=\"Trend\", color='C0')\n",
    "ax = y_fore.plot(ax=ax, linewidth=3, label=\"Trend Forecast\", color='C3')\n",
    "ax.legend();"
   ]
  },
  {
   "cell_type": "markdown",
   "metadata": {},
   "source": [
    "--------------------------------------------------------------------------------\n",
    "\n",
    "# (Optional) Fit trend with splines\n",
    "\n",
    "*Splines* are a nice alternative to polynomials when you want to fit a trend. The *Multivariate Adaptive Regression Splines* (MARS) algorithm in the `pyearth` library is powerful and easy to use. There are a lot of hyperparameters you may want to investigate."
   ]
  },
  {
   "cell_type": "code",
   "execution_count": 15,
   "metadata": {
    "execution": {
     "iopub.execute_input": "2022-02-06T12:47:53.557607Z",
     "iopub.status.busy": "2022-02-06T12:47:53.556895Z",
     "iopub.status.idle": "2022-02-06T12:48:12.397773Z",
     "shell.execute_reply": "2022-02-06T12:48:12.396942Z",
     "shell.execute_reply.started": "2022-02-06T12:47:53.557564Z"
    }
   },
   "outputs": [],
   "source": [
    "from pyearth import Earth\n",
    "\n",
    "# Target and features are the same as before\n",
    "y = average_sales.copy()\n",
    "dp = DeterministicProcess(index=y.index, order=1)\n",
    "X = dp.in_sample()\n",
    "\n",
    "# Fit a MARS model with `Earth`\n",
    "model = Earth()\n",
    "model.fit(X, y)\n",
    "\n",
    "y_pred = pd.Series(model.predict(X), index=X.index)\n",
    "\n",
    "ax = y.plot(**plot_params, title=\"Average Sales\", ylabel=\"items sold\")\n",
    "ax = y_pred.plot(ax=ax, linewidth=3, label=\"Trend\")"
   ]
  },
  {
   "cell_type": "markdown",
   "metadata": {},
   "source": [
    "Forecasting complicated trends like this will typically be difficult (if not impossible). With historical data, however, you can use splines to isolate other patterns in a time series by *detrending*."
   ]
  },
  {
   "cell_type": "code",
   "execution_count": 16,
   "metadata": {
    "execution": {
     "iopub.execute_input": "2022-02-06T12:48:28.905707Z",
     "iopub.status.busy": "2022-02-06T12:48:28.905091Z",
     "iopub.status.idle": "2022-02-06T12:48:29.250296Z",
     "shell.execute_reply": "2022-02-06T12:48:29.249462Z",
     "shell.execute_reply.started": "2022-02-06T12:48:28.905657Z"
    }
   },
   "outputs": [],
   "source": [
    "y_detrended = y - y_pred   # remove the trend from store_sales\n",
    "\n",
    "y_detrended.plot(**plot_params, title=\"Detrended Average Sales\");"
   ]
  },
  {
   "cell_type": "markdown",
   "metadata": {},
   "source": [
    "# Keep Going #\n",
    "\n",
    "[**Model seasonality**](https://www.kaggle.com/ryanholbrook/seasonality), another common type of time dependence, with indicators and Fourier features."
   ]
  },
  {
   "cell_type": "markdown",
   "metadata": {},
   "source": [
    "---\n",
    "\n",
    "\n",
    "\n",
    "\n",
    "*Have questions or comments? Visit the [course discussion forum](https://www.kaggle.com/learn/time-series/discussion) to chat with other learners.*"
   ]
  }
 ],
 "metadata": {
  "jupytext": {
   "formats": "md,ipynb"
  },
  "kernelspec": {
   "display_name": "Python 3",
   "language": "python",
   "name": "python3"
  },
  "language_info": {
   "codemirror_mode": {
    "name": "ipython",
    "version": 3
   },
   "file_extension": ".py",
   "mimetype": "text/x-python",
   "name": "python",
   "nbconvert_exporter": "python",
   "pygments_lexer": "ipython3",
   "version": "3.7.3"
  }
 },
 "nbformat": 4,
 "nbformat_minor": 5
}
