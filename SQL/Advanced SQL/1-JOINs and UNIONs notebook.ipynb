{
 "cells": [
  {
   "cell_type": "markdown",
   "metadata": {},
   "source": [
    "**This notebook is an exercise in the [Advanced SQL](https://www.kaggle.com/learn/advanced-sql) course.  You can reference the tutorial at [this link](https://www.kaggle.com/alexisbcook/joins-and-unions).**\n",
    "\n",
    "---\n"
   ]
  },
  {
   "cell_type": "markdown",
   "metadata": {},
   "source": [
    "# Introduction\n",
    "\n",
    "Here, you'll use different types of SQL **JOINs** to answer questions about the [Stack Overflow](https://www.kaggle.com/stackoverflow/stackoverflow) dataset.\n",
    "\n",
    "Before you get started, run the following cell to set everything up."
   ]
  },
  {
   "cell_type": "code",
   "execution_count": 1,
   "metadata": {
    "execution": {
     "iopub.execute_input": "2021-11-26T03:17:38.781377Z",
     "iopub.status.busy": "2021-11-26T03:17:38.780690Z",
     "iopub.status.idle": "2021-11-26T03:18:00.923273Z",
     "shell.execute_reply": "2021-11-26T03:18:00.922273Z",
     "shell.execute_reply.started": "2021-11-26T03:17:38.781227Z"
    }
   },
   "outputs": [],
   "source": [
    "# Set up feedback system\n",
    "from learntools.core import binder\n",
    "binder.bind(globals())\n",
    "from learntools.sql_advanced.ex1 import *\n",
    "print(\"Setup Complete\")"
   ]
  },
  {
   "cell_type": "markdown",
   "metadata": {},
   "source": [
    "The code cell below fetches the `posts_questions` table from the `stackoverflow` dataset.  We also preview the first five rows of the table."
   ]
  },
  {
   "cell_type": "code",
   "execution_count": 2,
   "metadata": {
    "execution": {
     "iopub.execute_input": "2021-11-26T03:18:14.527162Z",
     "iopub.status.busy": "2021-11-26T03:18:14.526321Z",
     "iopub.status.idle": "2021-11-26T03:18:16.548585Z",
     "shell.execute_reply": "2021-11-26T03:18:16.547642Z",
     "shell.execute_reply.started": "2021-11-26T03:18:14.527099Z"
    }
   },
   "outputs": [],
   "source": [
    "from google.cloud import bigquery\n",
    "\n",
    "# Create a \"Client\" object\n",
    "client = bigquery.Client()\n",
    "\n",
    "# Construct a reference to the \"stackoverflow\" dataset\n",
    "dataset_ref = client.dataset(\"stackoverflow\", project=\"bigquery-public-data\")\n",
    "\n",
    "# API request - fetch the dataset\n",
    "dataset = client.get_dataset(dataset_ref)\n",
    "\n",
    "# Construct a reference to the \"posts_questions\" table\n",
    "table_ref = dataset_ref.table(\"posts_questions\")\n",
    "\n",
    "# API request - fetch the table\n",
    "table = client.get_table(table_ref)\n",
    "\n",
    "# Preview the first five lines of the table\n",
    "client.list_rows(table, max_results=5).to_dataframe()"
   ]
  },
  {
   "cell_type": "markdown",
   "metadata": {},
   "source": [
    "We also take a look at the `posts_answers` table."
   ]
  },
  {
   "cell_type": "code",
   "execution_count": 3,
   "metadata": {
    "execution": {
     "iopub.execute_input": "2021-11-26T03:18:21.466605Z",
     "iopub.status.busy": "2021-11-26T03:18:21.466228Z",
     "iopub.status.idle": "2021-11-26T03:18:22.647520Z",
     "shell.execute_reply": "2021-11-26T03:18:22.646642Z",
     "shell.execute_reply.started": "2021-11-26T03:18:21.466544Z"
    }
   },
   "outputs": [],
   "source": [
    "# Construct a reference to the \"posts_answers\" table\n",
    "table_ref = dataset_ref.table(\"posts_answers\")\n",
    "\n",
    "# API request - fetch the table\n",
    "table = client.get_table(table_ref)\n",
    "\n",
    "# Preview the first five lines of the table\n",
    "client.list_rows(table, max_results=5).to_dataframe()"
   ]
  },
  {
   "cell_type": "markdown",
   "metadata": {},
   "source": [
    "You will work with both of these tables to answer the questions below.\n",
    "\n",
    "# Exercises\n",
    "\n",
    "### 1) How long does it take for questions to receive answers?\n",
    "\n",
    "You're interested in exploring the data to have a better understanding of how long it generally takes for questions to receive answers.  Armed with this knowledge, you plan to use this information to better design the order in which questions are presented to Stack Overflow users.\n",
    "\n",
    "With this goal in mind, you write the query below, which focuses on questions asked in January 2018.  It returns a table with two columns:\n",
    "- `q_id` - the ID of the question\n",
    "- `time_to_answer` - how long it took (in seconds) for the question to receive an answer\n",
    "\n",
    "Run the query below (without changes), and take a look at the output."
   ]
  },
  {
   "cell_type": "code",
   "execution_count": 4,
   "metadata": {
    "execution": {
     "iopub.execute_input": "2021-11-26T03:18:43.431627Z",
     "iopub.status.busy": "2021-11-26T03:18:43.431267Z",
     "iopub.status.idle": "2021-11-26T03:18:50.230865Z",
     "shell.execute_reply": "2021-11-26T03:18:50.230011Z",
     "shell.execute_reply.started": "2021-11-26T03:18:43.431589Z"
    }
   },
   "outputs": [],
   "source": [
    "first_query = \"\"\"\n",
    "              SELECT q.id AS q_id,\n",
    "                  MIN(TIMESTAMP_DIFF(a.creation_date, q.creation_date, SECOND)) as time_to_answer\n",
    "              FROM `bigquery-public-data.stackoverflow.posts_questions` AS q\n",
    "                  INNER JOIN `bigquery-public-data.stackoverflow.posts_answers` AS a\n",
    "              ON q.id = a.parent_id\n",
    "              WHERE q.creation_date >= '2018-01-01' and q.creation_date < '2018-02-01'\n",
    "              GROUP BY q_id\n",
    "              ORDER BY time_to_answer\n",
    "              \"\"\"\n",
    "\n",
    "first_result = client.query(first_query).result().to_dataframe()\n",
    "print(\"Percentage of answered questions: %s%%\" % \\\n",
    "      (sum(first_result[\"time_to_answer\"].notnull()) / len(first_result) * 100))\n",
    "print(\"Number of questions:\", len(first_result))\n",
    "first_result.head()"
   ]
  },
  {
   "cell_type": "markdown",
   "metadata": {},
   "source": [
    "You're surprised at the results and strongly suspect that something is wrong with your query.  In particular,\n",
    "- According to the query, 100% of the questions from January 2018 received an answer.  But, you know that ~80% of the questions on the site usually receive an answer.\n",
    "- The total number of questions is surprisingly low.  You expected to see at least 150,000 questions represented in the table.\n",
    "\n",
    "Given these observations, you think that the type of **JOIN** you have chosen has inadvertently excluded unanswered questions.  Using the code cell below, can you figure out what type of **JOIN** to use to fix the problem so that the table includes unanswered questions?\n",
    "\n",
    "**Note**: You need only amend the type of **JOIN** (i.e., **INNER**, **LEFT**, **RIGHT**, or **FULL**) to answer the question successfully."
   ]
  },
  {
   "cell_type": "code",
   "execution_count": 5,
   "metadata": {
    "execution": {
     "iopub.execute_input": "2021-11-26T03:18:55.829709Z",
     "iopub.status.busy": "2021-11-26T03:18:55.828492Z",
     "iopub.status.idle": "2021-11-26T03:19:11.547128Z",
     "shell.execute_reply": "2021-11-26T03:19:11.546289Z",
     "shell.execute_reply.started": "2021-11-26T03:18:55.829628Z"
    }
   },
   "outputs": [],
   "source": [
    "# Your code here\n",
    "correct_query = \"\"\"\n",
    "            SELECT q.id AS q_id,\n",
    "                  MIN(TIMESTAMP_DIFF(a.creation_date, q.creation_date, SECOND)) as time_to_answer\n",
    "              FROM `bigquery-public-data.stackoverflow.posts_questions` AS q\n",
    "                  LEFT JOIN `bigquery-public-data.stackoverflow.posts_answers` AS a\n",
    "              ON q.id = a.parent_id\n",
    "              WHERE q.creation_date >= '2018-01-01' and q.creation_date < '2018-02-01'\n",
    "              GROUP BY q_id\n",
    "              ORDER BY time_to_answer\n",
    "                \"\"\"\n",
    "\n",
    "# Check your answer\n",
    "q_1.check()\n",
    "\n",
    "# Run the query, and return a pandas DataFrame\n",
    "correct_result = client.query(correct_query).result().to_dataframe()\n",
    "print(\"Percentage of answered questions: %s%%\" % \\\n",
    "      (sum(correct_result[\"time_to_answer\"].notnull()) / len(correct_result) * 100))\n",
    "print(\"Number of questions:\", len(correct_result))"
   ]
  },
  {
   "cell_type": "code",
   "execution_count": null,
   "metadata": {},
   "outputs": [],
   "source": [
    "# Lines below will give you a hint or solution code\n",
    "#q_1.hint()\n",
    "#q_1.solution()"
   ]
  },
  {
   "cell_type": "markdown",
   "metadata": {},
   "source": [
    "### 2) Initial questions and answers, Part 1\n",
    "\n",
    "You're interested in understanding the initial experiences that users typically have with the Stack Overflow website.  Is it more common for users to first ask questions or provide answers?  After signing up, how long does it take for users to first interact with the website?  To explore this further, you draft the (partial) query in the code cell below.\n",
    "\n",
    "The query returns a table with three columns:\n",
    "- `owner_user_id` - the user ID\n",
    "- `q_creation_date` - the first time the user asked a question \n",
    "- `a_creation_date` - the first time the user contributed an answer \n",
    "\n",
    "You want to keep track of users who have asked questions, but have yet to provide answers.  And, your table should also include users who have answered questions, but have yet to pose their own questions.  \n",
    "\n",
    "With this in mind, please fill in the appropriate **JOIN** (i.e., **INNER**, **LEFT**, **RIGHT**, or **FULL**) to return the correct information.  \n",
    "\n",
    "**Note**: You need only fill in the appropriate **JOIN**.  All other parts of the query should be left as-is.  (You also don't need to write any additional code to run the query, since the `check()` method will take care of this for you.)\n",
    "\n",
    "To avoid returning too much data, we'll restrict our attention to questions and answers posed in January 2019.  We'll amend the timeframe in Part 2 of this question to be more realistic!"
   ]
  },
  {
   "cell_type": "code",
   "execution_count": 6,
   "metadata": {
    "execution": {
     "iopub.execute_input": "2021-11-26T03:19:12.033392Z",
     "iopub.status.busy": "2021-11-26T03:19:12.032207Z",
     "iopub.status.idle": "2021-11-26T03:19:15.937226Z",
     "shell.execute_reply": "2021-11-26T03:19:15.936349Z",
     "shell.execute_reply.started": "2021-11-26T03:19:12.033328Z"
    }
   },
   "outputs": [],
   "source": [
    "# Your code here\n",
    "q_and_a_query = \"\"\"\n",
    "                SELECT q.owner_user_id AS owner_user_id,\n",
    "                    MIN(q.creation_date) AS q_creation_date,\n",
    "                    MIN(a.creation_date) AS a_creation_date\n",
    "                FROM `bigquery-public-data.stackoverflow.posts_questions` AS q\n",
    "                    FULL JOIN `bigquery-public-data.stackoverflow.posts_answers` AS a\n",
    "                ON q.owner_user_id = a.owner_user_id \n",
    "                WHERE q.creation_date >= '2019-01-01' AND q.creation_date < '2019-02-01' \n",
    "                    AND a.creation_date >= '2019-01-01' AND a.creation_date < '2019-02-01'\n",
    "                GROUP BY owner_user_id\n",
    "                \"\"\"\n",
    "\n",
    "# Check your answer\n",
    "q_2.check()"
   ]
  },
  {
   "cell_type": "code",
   "execution_count": null,
   "metadata": {},
   "outputs": [],
   "source": [
    "# Lines below will give you a hint or solution code\n",
    "#q_2.hint()\n",
    "#q_2.solution()"
   ]
  },
  {
   "cell_type": "markdown",
   "metadata": {},
   "source": [
    "### 3) Initial questions and answers, Part 2\n",
    "\n",
    "Now you'll address a more realistic (and complex!) scenario.  To answer this question, you'll need to pull information from *three* different tables!  This syntax very similar to the case when we have to join only two tables.  For instance, consider the three tables below.\n",
    "\n",
    "![three tables](https://i.imgur.com/OyhYtD1.png)\n",
    "\n",
    "We can use two different **JOINs** to link together information from all three tables, in a single query.\n",
    "\n",
    "![double join](https://i.imgur.com/G6buS7P.png)\n",
    "\n",
    "With this in mind, say you're interested in understanding users who joined the site in January 2019.  You want to track their activity on the site: when did they post their first questions and answers, if ever?\n",
    "\n",
    "Write a query that returns the following columns:\n",
    "- `id` - the IDs of all users who created Stack Overflow accounts in January 2019 (January 1, 2019, to January 31, 2019, inclusive)\n",
    "- `q_creation_date` - the first time the user posted a question on the site; if the user has never posted a question, the value should be null\n",
    "- `a_creation_date` - the first time the user posted a question on the site; if the user has never posted a question, the value should be null\n",
    "\n",
    "Note that questions and answers posted after January 31, 2019, should still be included in the results.  And, all users who joined the site in January 2019 should be included (even if they have never posted a question or provided an answer).\n",
    "\n",
    "The query from the previous question should be a nice starting point to answering this question!  You'll need to use the `posts_answers` and `posts_questions` tables.  You'll also need to use the `users` table from the Stack Overflow dataset.  The relevant columns from the `users` table are `id` (the ID of each user) and `creation_date` (when the user joined the Stack Overflow site, in DATETIME format)."
   ]
  },
  {
   "cell_type": "code",
   "execution_count": 7,
   "metadata": {
    "execution": {
     "iopub.execute_input": "2021-11-26T03:19:18.361093Z",
     "iopub.status.busy": "2021-11-26T03:19:18.360481Z",
     "iopub.status.idle": "2021-11-26T03:19:25.353270Z",
     "shell.execute_reply": "2021-11-26T03:19:25.352315Z",
     "shell.execute_reply.started": "2021-11-26T03:19:18.361041Z"
    }
   },
   "outputs": [],
   "source": [
    "# Your code here\n",
    "three_tables_query = \"\"\"\n",
    "                    SELECT u.id AS id,\n",
    "                    MIN(q.creation_date) AS q_creation_date,\n",
    "                    MIN(a.creation_date) AS a_creation_date\n",
    "                FROM `bigquery-public-data.stackoverflow.posts_questions` AS q\n",
    "                    FULL JOIN `bigquery-public-data.stackoverflow.posts_answers` AS a\n",
    "                ON q.owner_user_id = a.owner_user_id\n",
    "                RIGHT JOIN `bigquery-public-data.stackoverflow.users` AS u\n",
    "                ON q.owner_user_id = u.id\n",
    "                WHERE u.creation_date >= '2019-01-01' AND u.creation_date < '2019-02-01' \n",
    "                GROUP BY id\n",
    "                     \"\"\"\n",
    "\n",
    "# Check your answer\n",
    "q_3.check()"
   ]
  },
  {
   "cell_type": "code",
   "execution_count": null,
   "metadata": {},
   "outputs": [],
   "source": [
    "# Lines below will give you a hint or solution code\n",
    "#q_3.hint()\n",
    "#q_3.solution()"
   ]
  },
  {
   "cell_type": "markdown",
   "metadata": {},
   "source": [
    "### 4) How many distinct users posted on January 1, 2019?\n",
    "\n",
    "In the code cell below, write a query that returns a table with a single column:\n",
    "- `owner_user_id` - the IDs of all users who posted at least one question or answer on January 1, 2019.  Each user ID should appear at most once.\n",
    "\n",
    "In the `posts_questions` (and `posts_answers`) tables, you can get the ID of the original poster from the `owner_user_id` column.  Likewise, the date of the original posting can be found in the `creation_date` column.  \n",
    "\n",
    "In order for your answer to be marked correct, your query must use a **UNION**."
   ]
  },
  {
   "cell_type": "code",
   "execution_count": 14,
   "metadata": {
    "execution": {
     "iopub.execute_input": "2021-11-26T03:30:11.509925Z",
     "iopub.status.busy": "2021-11-26T03:30:11.509563Z",
     "iopub.status.idle": "2021-11-26T03:30:14.636423Z",
     "shell.execute_reply": "2021-11-26T03:30:14.635547Z",
     "shell.execute_reply.started": "2021-11-26T03:30:11.509893Z"
    }
   },
   "outputs": [],
   "source": [
    "# Your code here\n",
    "all_users_query = \"\"\"\n",
    "            SELECT q.owner_user_id\n",
    "              FROM`bigquery-public-data.stackoverflow.posts_questions` AS q\n",
    "              WHERE EXTRACT(DATE FROM q.creation_date) = '2019-01-01'\n",
    "              UNION DISTINCT\n",
    "              SELECT a.owner_user_id\n",
    "              FROM `bigquery-public-data.stackoverflow.posts_answers` AS a\n",
    "              WHERE EXTRACT(DATE FROM a.creation_date) = '2019-01-01'\n",
    "                  \"\"\"\n",
    "\n",
    "# Check your answer\n",
    "q_4.check()"
   ]
  },
  {
   "cell_type": "code",
   "execution_count": 13,
   "metadata": {
    "execution": {
     "iopub.execute_input": "2021-11-26T03:29:35.144020Z",
     "iopub.status.busy": "2021-11-26T03:29:35.142625Z",
     "iopub.status.idle": "2021-11-26T03:29:35.153990Z",
     "shell.execute_reply": "2021-11-26T03:29:35.153085Z",
     "shell.execute_reply.started": "2021-11-26T03:29:35.143949Z"
    }
   },
   "outputs": [],
   "source": [
    "# Lines below will give you a hint or solution code\n",
    "#q_4.hint()\n",
    "q_4.solution()"
   ]
  },
  {
   "cell_type": "markdown",
   "metadata": {},
   "source": [
    "# Keep going\n",
    "\n",
    "Learn how to use **[analytic functions](https://www.kaggle.com/alexisbcook/analytic-functions)** to perform complex calculations with minimal SQL code."
   ]
  },
  {
   "cell_type": "markdown",
   "metadata": {},
   "source": [
    "---\n",
    "\n",
    "\n",
    "\n",
    "\n",
    "*Have questions or comments? Visit the [course discussion forum](https://www.kaggle.com/learn/advanced-sql/discussion) to chat with other learners.*"
   ]
  }
 ],
 "metadata": {
  "kernelspec": {
   "display_name": "Python 3",
   "language": "python",
   "name": "python3"
  },
  "language_info": {
   "codemirror_mode": {
    "name": "ipython",
    "version": 3
   },
   "file_extension": ".py",
   "mimetype": "text/x-python",
   "name": "python",
   "nbconvert_exporter": "python",
   "pygments_lexer": "ipython3",
   "version": "3.7.3"
  }
 },
 "nbformat": 4,
 "nbformat_minor": 4
}
