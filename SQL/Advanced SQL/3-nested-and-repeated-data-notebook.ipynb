{
 "cells": [
  {
   "cell_type": "markdown",
   "metadata": {},
   "source": [
    "**This notebook is an exercise in the [Advanced SQL](https://www.kaggle.com/learn/advanced-sql) course.  You can reference the tutorial at [this link](https://www.kaggle.com/alexisbcook/nested-and-repeated-data).**\n",
    "\n",
    "---\n"
   ]
  },
  {
   "cell_type": "markdown",
   "metadata": {},
   "source": [
    "# Introduction\n",
    "\n",
    "Now that you know how to query nested and repeated data, you're ready to draw interesting insights from the [GitHub Repos](https://www.kaggle.com/github/github-repos) dataset.  \n",
    "\n",
    "Before you get started, run the following cell to set everything up."
   ]
  },
  {
   "cell_type": "code",
   "execution_count": 2,
   "metadata": {
    "execution": {
     "iopub.execute_input": "2021-11-26T07:29:15.956195Z",
     "iopub.status.busy": "2021-11-26T07:29:15.955851Z",
     "iopub.status.idle": "2021-11-26T07:29:21.929372Z",
     "shell.execute_reply": "2021-11-26T07:29:21.928523Z",
     "shell.execute_reply.started": "2021-11-26T07:29:15.956163Z"
    }
   },
   "outputs": [],
   "source": [
    "# Set up feedback system\n",
    "from learntools.core import binder\n",
    "binder.bind(globals())\n",
    "from learntools.sql_advanced.ex3 import *\n",
    "print(\"Setup Complete\")"
   ]
  },
  {
   "cell_type": "markdown",
   "metadata": {},
   "source": [
    "# Exercises\n",
    "\n",
    "### 1) Who had the most commits in 2016?\n",
    "\n",
    "GitHub is the most popular place to collaborate on software projects. A GitHub **repository** (or repo) is a collection of files associated with a specific project, and a GitHub **commit** is a change that a user has made to a repository.  We refer to the user as a **committer**.\n",
    "\n",
    "The `sample_commits` table contains a small sample of GitHub commits, where each row corresponds to different commit.  The code cell below fetches the table and shows the first five rows of this table."
   ]
  },
  {
   "cell_type": "code",
   "execution_count": 3,
   "metadata": {
    "execution": {
     "iopub.execute_input": "2021-11-26T07:29:27.798655Z",
     "iopub.status.busy": "2021-11-26T07:29:27.798009Z",
     "iopub.status.idle": "2021-11-26T07:29:29.819099Z",
     "shell.execute_reply": "2021-11-26T07:29:29.817606Z",
     "shell.execute_reply.started": "2021-11-26T07:29:27.798599Z"
    }
   },
   "outputs": [],
   "source": [
    "from google.cloud import bigquery\n",
    "\n",
    "# Create a \"Client\" object\n",
    "client = bigquery.Client()\n",
    "\n",
    "# Construct a reference to the \"github_repos\" dataset\n",
    "dataset_ref = client.dataset(\"github_repos\", project=\"bigquery-public-data\")\n",
    "\n",
    "# API request - fetch the dataset\n",
    "dataset = client.get_dataset(dataset_ref)\n",
    "\n",
    "# Construct a reference to the \"sample_commits\" table\n",
    "table_ref = dataset_ref.table(\"sample_commits\")\n",
    "\n",
    "# API request - fetch the table\n",
    "sample_commits_table = client.get_table(table_ref)\n",
    "\n",
    "# Preview the first five lines of the table\n",
    "client.list_rows(sample_commits_table, max_results=5).to_dataframe()"
   ]
  },
  {
   "cell_type": "markdown",
   "metadata": {},
   "source": [
    "Run the next code cell to print the table schema. "
   ]
  },
  {
   "cell_type": "code",
   "execution_count": 4,
   "metadata": {
    "execution": {
     "iopub.execute_input": "2021-11-26T07:29:35.295319Z",
     "iopub.status.busy": "2021-11-26T07:29:35.294992Z",
     "iopub.status.idle": "2021-11-26T07:29:35.301744Z",
     "shell.execute_reply": "2021-11-26T07:29:35.300915Z",
     "shell.execute_reply.started": "2021-11-26T07:29:35.295283Z"
    }
   },
   "outputs": [],
   "source": [
    "# Print information on all the columns in the table\n",
    "sample_commits_table.schema"
   ]
  },
  {
   "cell_type": "markdown",
   "metadata": {},
   "source": [
    "Write a query to find the individuals with the most commits in this table in 2016.  Your query should return a table with two columns:\n",
    "- `committer_name` - contains the name of each individual with a commit (from 2016) in the table\n",
    "- `num_commits` - shows the number of commits the individual has in the table (from 2016)\n",
    "\n",
    "Sort the table, so that people with more commits appear first.\n",
    "\n",
    "**NOTE**: You can find the name of each committer and the date of the commit under the \"committer\" column, in the \"name\" and \"date\" child fields, respectively."
   ]
  },
  {
   "cell_type": "code",
   "execution_count": 5,
   "metadata": {
    "execution": {
     "iopub.execute_input": "2021-11-26T07:29:39.700771Z",
     "iopub.status.busy": "2021-11-26T07:29:39.699946Z",
     "iopub.status.idle": "2021-11-26T07:29:41.547600Z",
     "shell.execute_reply": "2021-11-26T07:29:41.546726Z",
     "shell.execute_reply.started": "2021-11-26T07:29:39.700730Z"
    }
   },
   "outputs": [],
   "source": [
    "# Write a query to find the answer\n",
    "max_commits_query = \"\"\"\n",
    " SELECT committer.name AS committer_name,COUNT(*) AS num_commits\n",
    "        FROM `bigquery-public-data.github_repos.sample_commits`\n",
    "        WHERE committer.date >= '2016-01-01' AND committer.date < '2017-01-01'\n",
    "        GROUP BY committer_name\n",
    "        ORDER BY num_commits DESC\n",
    "                    \"\"\"\n",
    "\n",
    "# Check your answer\n",
    "q_1.check()"
   ]
  },
  {
   "cell_type": "code",
   "execution_count": null,
   "metadata": {
    "execution": {
     "iopub.execute_input": "2021-11-26T07:07:26.48162Z",
     "iopub.status.busy": "2021-11-26T07:07:26.481271Z",
     "iopub.status.idle": "2021-11-26T07:07:26.491091Z",
     "shell.execute_reply": "2021-11-26T07:07:26.490249Z",
     "shell.execute_reply.started": "2021-11-26T07:07:26.481583Z"
    }
   },
   "outputs": [],
   "source": [
    "# Lines below will give you a hint or solution code\n",
    "#q_1.hint()\n",
    "#q_1.solution()"
   ]
  },
  {
   "cell_type": "markdown",
   "metadata": {},
   "source": [
    "### 2) Look at languages!\n",
    "\n",
    "Now you will work with the `languages` table.  Run the code cell below to print the first few rows."
   ]
  },
  {
   "cell_type": "code",
   "execution_count": 6,
   "metadata": {
    "execution": {
     "iopub.execute_input": "2021-11-26T07:29:49.724401Z",
     "iopub.status.busy": "2021-11-26T07:29:49.723824Z",
     "iopub.status.idle": "2021-11-26T07:29:50.894759Z",
     "shell.execute_reply": "2021-11-26T07:29:50.893633Z",
     "shell.execute_reply.started": "2021-11-26T07:29:49.724341Z"
    }
   },
   "outputs": [],
   "source": [
    "# Construct a reference to the \"languages\" table\n",
    "table_ref = dataset_ref.table(\"languages\")\n",
    "\n",
    "# API request - fetch the table\n",
    "languages_table = client.get_table(table_ref)\n",
    "\n",
    "# Preview the first five lines of the table\n",
    "client.list_rows(languages_table, max_results=5).to_dataframe()"
   ]
  },
  {
   "cell_type": "markdown",
   "metadata": {},
   "source": [
    "Each row of the `languages` table corresponds to a different repository.  \n",
    "- The \"repo_name\" column contains the name of the repository,\n",
    "- the \"name\" field in the \"language\" column contains the programming languages that can be found in the repo, and \n",
    "- the \"bytes\" field in the \"language\" column has the size of the files (in bytes, for the corresponding language).\n",
    "\n",
    "Run the following code cell to print the table schema."
   ]
  },
  {
   "cell_type": "code",
   "execution_count": 7,
   "metadata": {
    "execution": {
     "iopub.execute_input": "2021-11-26T07:29:54.219179Z",
     "iopub.status.busy": "2021-11-26T07:29:54.218487Z",
     "iopub.status.idle": "2021-11-26T07:29:54.227007Z",
     "shell.execute_reply": "2021-11-26T07:29:54.226146Z",
     "shell.execute_reply.started": "2021-11-26T07:29:54.219119Z"
    }
   },
   "outputs": [],
   "source": [
    "# Print information on all the columns in the table\n",
    "languages_table.schema"
   ]
  },
  {
   "cell_type": "markdown",
   "metadata": {},
   "source": [
    "Assume for the moment that you have access to a table called `sample_languages` that contains only a very small subset of the rows from the `languages` table: in fact, it contains only three rows!  This table is depicted in the image below.\n",
    "\n",
    "![](https://i.imgur.com/qAb5lZ2.png)\n",
    "\n",
    "How many rows are in the table returned by the query below?\n",
    "\n",
    "![](https://i.imgur.com/Q5qYAtz.png)\n",
    "\n",
    "Fill in your answer in the next code cell."
   ]
  },
  {
   "cell_type": "code",
   "execution_count": 8,
   "metadata": {
    "execution": {
     "iopub.execute_input": "2021-11-26T07:29:59.630728Z",
     "iopub.status.busy": "2021-11-26T07:29:59.629895Z",
     "iopub.status.idle": "2021-11-26T07:29:59.643092Z",
     "shell.execute_reply": "2021-11-26T07:29:59.642001Z",
     "shell.execute_reply.started": "2021-11-26T07:29:59.630645Z"
    }
   },
   "outputs": [],
   "source": [
    "# Fill in the blank\n",
    "num_rows = 6\n",
    "\n",
    "# Check your answer\n",
    "q_2.check()"
   ]
  },
  {
   "cell_type": "code",
   "execution_count": null,
   "metadata": {},
   "outputs": [],
   "source": [
    "# Lines below will give you a hint or solution code\n",
    "#q_2.hint()\n",
    "#q_2.solution()"
   ]
  },
  {
   "cell_type": "markdown",
   "metadata": {},
   "source": [
    "### 3) What's the most popular programming language?\n",
    "\n",
    "Write a query to leverage the information in the `languages` table to determine which programming languages appear in the most repositories.  The table returned by your query should have two columns:\n",
    "- `language_name` - the name of the programming language\n",
    "- `num_repos` - the number of repositories in the `languages` table that use the programming language\n",
    "\n",
    "Sort the table so that languages that appear in more repos are shown first."
   ]
  },
  {
   "cell_type": "code",
   "execution_count": 9,
   "metadata": {
    "execution": {
     "iopub.execute_input": "2021-11-26T07:30:05.628561Z",
     "iopub.status.busy": "2021-11-26T07:30:05.628172Z",
     "iopub.status.idle": "2021-11-26T07:30:07.306249Z",
     "shell.execute_reply": "2021-11-26T07:30:07.305409Z",
     "shell.execute_reply.started": "2021-11-26T07:30:05.628514Z"
    }
   },
   "outputs": [],
   "source": [
    "# Write a query to find the answer\n",
    "pop_lang_query = \"\"\"\n",
    " SELECT language.name as language_name,\n",
    "            COUNT(*) as num_repos\n",
    "        FROM `bigquery-public-data.github_repos.languages`, \n",
    "            UNNEST(language) as language\n",
    "        GROUP BY language_name\n",
    "        ORDER BY num_repos DESC\n",
    "                 \"\"\"\n",
    "\n",
    "# Check your answer\n",
    "q_3.check()"
   ]
  },
  {
   "cell_type": "code",
   "execution_count": null,
   "metadata": {
    "execution": {
     "iopub.execute_input": "2021-11-26T07:22:50.862374Z",
     "iopub.status.busy": "2021-11-26T07:22:50.86143Z",
     "iopub.status.idle": "2021-11-26T07:22:50.875911Z",
     "shell.execute_reply": "2021-11-26T07:22:50.874665Z",
     "shell.execute_reply.started": "2021-11-26T07:22:50.862313Z"
    }
   },
   "outputs": [],
   "source": [
    "# Lines below will give you a hint or solution code\n",
    "#q_3.hint()\n",
    "#q_3.solution()"
   ]
  },
  {
   "cell_type": "markdown",
   "metadata": {},
   "source": [
    "### 4) Which languages are used in the repository with the most languages?\n",
    "\n",
    "For this question, you'll restrict your attention to the repository with name `'polyrabbit/polyglot'`.\n",
    "\n",
    "Write a query that returns a table with one row for each language in this repository.  The table should have two columns:\n",
    "- `name` - the name of the programming language\n",
    "- `bytes` - the total number of bytes of that programming language\n",
    "\n",
    "Sort the table by the `bytes` column so that programming languages that take up more space in the repo appear first."
   ]
  },
  {
   "cell_type": "code",
   "execution_count": 10,
   "metadata": {
    "execution": {
     "iopub.execute_input": "2021-11-26T07:30:12.674585Z",
     "iopub.status.busy": "2021-11-26T07:30:12.673570Z",
     "iopub.status.idle": "2021-11-26T07:30:14.942398Z",
     "shell.execute_reply": "2021-11-26T07:30:14.941518Z",
     "shell.execute_reply.started": "2021-11-26T07:30:12.674525Z"
    }
   },
   "outputs": [],
   "source": [
    "# Your code here\n",
    "all_langs_query = \"\"\"\n",
    "SELECT language.name as name,\n",
    "            language.bytes as bytes\n",
    "        FROM `bigquery-public-data.github_repos.languages`, \n",
    "            UNNEST(language) as language\n",
    "        WHERE repo_name = 'polyrabbit/polyglot'\n",
    "        ORDER BY bytes DESC\n",
    "                  \"\"\"\n",
    "\n",
    "# Check your answer\n",
    "q_4.check()"
   ]
  },
  {
   "cell_type": "code",
   "execution_count": null,
   "metadata": {},
   "outputs": [],
   "source": [
    "# Lines below will give you a hint or solution code\n",
    "#q_4.hint()\n",
    "#q_4.solution()"
   ]
  },
  {
   "cell_type": "code",
   "execution_count": null,
   "metadata": {},
   "outputs": [],
   "source": []
  },
  {
   "cell_type": "markdown",
   "metadata": {},
   "source": [
    "# Keep going\n",
    "\n",
    "Learn how to make your queries **[more efficient](https://www.kaggle.com/alexisbcook/writing-efficient-queries)**."
   ]
  },
  {
   "cell_type": "markdown",
   "metadata": {},
   "source": [
    "---\n",
    "\n",
    "\n",
    "\n",
    "\n",
    "*Have questions or comments? Visit the [course discussion forum](https://www.kaggle.com/learn/advanced-sql/discussion) to chat with other learners.*"
   ]
  }
 ],
 "metadata": {
  "kernelspec": {
   "display_name": "Python 3",
   "language": "python",
   "name": "python3"
  },
  "language_info": {
   "codemirror_mode": {
    "name": "ipython",
    "version": 3
   },
   "file_extension": ".py",
   "mimetype": "text/x-python",
   "name": "python",
   "nbconvert_exporter": "python",
   "pygments_lexer": "ipython3",
   "version": "3.7.3"
  }
 },
 "nbformat": 4,
 "nbformat_minor": 4
}
