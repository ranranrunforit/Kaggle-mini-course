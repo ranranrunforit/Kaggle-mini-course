{
 "cells": [
  {
   "cell_type": "markdown",
   "metadata": {},
   "source": [
    "**This notebook is an exercise in the [SQL](https://www.kaggle.com/learn/intro-to-sql) course.  You can reference the tutorial at [this link](https://www.kaggle.com/dansbecker/getting-started-with-sql-and-bigquery).**\n",
    "\n",
    "---\n"
   ]
  },
  {
   "cell_type": "markdown",
   "metadata": {},
   "source": [
    "# Introduction\n",
    "\n",
    "The first test of your new data exploration skills uses data describing crime in the city of Chicago.\n",
    "\n",
    "Before you get started, run the following cell. It sets up the automated feedback system to review your answers."
   ]
  },
  {
   "cell_type": "code",
   "execution_count": 1,
   "metadata": {
    "execution": {
     "iopub.execute_input": "2021-11-19T03:08:11.228088Z",
     "iopub.status.busy": "2021-11-19T03:08:11.227420Z",
     "iopub.status.idle": "2021-11-19T03:08:13.190807Z",
     "shell.execute_reply": "2021-11-19T03:08:13.189977Z",
     "shell.execute_reply.started": "2021-11-19T03:08:11.227964Z"
    }
   },
   "outputs": [],
   "source": [
    "# Set up feedack system\n",
    "from learntools.core import binder\n",
    "binder.bind(globals())\n",
    "from learntools.sql.ex1 import *\n",
    "print(\"Setup Complete\")"
   ]
  },
  {
   "cell_type": "markdown",
   "metadata": {},
   "source": [
    "Use the next code cell to fetch the dataset."
   ]
  },
  {
   "cell_type": "code",
   "execution_count": 2,
   "metadata": {
    "execution": {
     "iopub.execute_input": "2021-11-19T03:08:13.193316Z",
     "iopub.status.busy": "2021-11-19T03:08:13.192535Z",
     "iopub.status.idle": "2021-11-19T03:08:13.736371Z",
     "shell.execute_reply": "2021-11-19T03:08:13.735479Z",
     "shell.execute_reply.started": "2021-11-19T03:08:13.193275Z"
    }
   },
   "outputs": [],
   "source": [
    "from google.cloud import bigquery\n",
    "\n",
    "# Create a \"Client\" object\n",
    "client = bigquery.Client()\n",
    "\n",
    "# Construct a reference to the \"chicago_crime\" dataset\n",
    "dataset_ref = client.dataset(\"chicago_crime\", project=\"bigquery-public-data\")\n",
    "\n",
    "# API request - fetch the dataset\n",
    "dataset = client.get_dataset(dataset_ref)"
   ]
  },
  {
   "cell_type": "markdown",
   "metadata": {},
   "source": []
  },
  {
   "cell_type": "markdown",
   "metadata": {},
   "source": [
    "# Exercises\n",
    "\n",
    "### 1) Count tables in the dataset\n",
    "\n",
    "How many tables are in the Chicago Crime dataset?"
   ]
  },
  {
   "cell_type": "code",
   "execution_count": 3,
   "metadata": {
    "execution": {
     "iopub.execute_input": "2021-11-19T03:08:13.738331Z",
     "iopub.status.busy": "2021-11-19T03:08:13.737833Z",
     "iopub.status.idle": "2021-11-19T03:08:14.283000Z",
     "shell.execute_reply": "2021-11-19T03:08:14.282066Z",
     "shell.execute_reply.started": "2021-11-19T03:08:13.738286Z"
    }
   },
   "outputs": [],
   "source": [
    "# Write the code you need here to figure out the answer\n",
    "# List all the tables in the \"chicago_crime\" dataset\n",
    "tables = list(client.list_tables(dataset))\n",
    "\n",
    "# Print names of all tables in the dataset (there are four!)\n",
    "for table in tables:  \n",
    "    print(table.table_id)"
   ]
  },
  {
   "cell_type": "code",
   "execution_count": 4,
   "metadata": {
    "execution": {
     "iopub.execute_input": "2021-11-19T03:08:14.285572Z",
     "iopub.status.busy": "2021-11-19T03:08:14.285241Z",
     "iopub.status.idle": "2021-11-19T03:08:14.295310Z",
     "shell.execute_reply": "2021-11-19T03:08:14.294513Z",
     "shell.execute_reply.started": "2021-11-19T03:08:14.285531Z"
    }
   },
   "outputs": [],
   "source": [
    "num_tables = 2  # Store the answer as num_tables and then run this cell\n",
    "\n",
    "# Check your answer\n",
    "q_1.check()"
   ]
  },
  {
   "cell_type": "markdown",
   "metadata": {},
   "source": [
    "For a hint or the solution, uncomment the appropriate line below."
   ]
  },
  {
   "cell_type": "code",
   "execution_count": null,
   "metadata": {},
   "outputs": [],
   "source": [
    "#q_1.hint()\n",
    "#q_1.solution()"
   ]
  },
  {
   "cell_type": "markdown",
   "metadata": {},
   "source": [
    "### 2) Explore the table schema\n",
    "\n",
    "How many columns in the `crime` table have `TIMESTAMP` data?"
   ]
  },
  {
   "cell_type": "code",
   "execution_count": 7,
   "metadata": {
    "execution": {
     "iopub.execute_input": "2021-11-19T03:08:34.456181Z",
     "iopub.status.busy": "2021-11-19T03:08:34.455900Z",
     "iopub.status.idle": "2021-11-19T03:08:34.950085Z",
     "shell.execute_reply": "2021-11-19T03:08:34.949409Z",
     "shell.execute_reply.started": "2021-11-19T03:08:34.456150Z"
    }
   },
   "outputs": [],
   "source": [
    "# Construct a reference to the \"full\" table\n",
    "table_ref = dataset_ref.table(\"crime\")\n",
    "\n",
    "# API request - fetch the table\n",
    "table = client.get_table(table_ref)"
   ]
  },
  {
   "cell_type": "code",
   "execution_count": 8,
   "metadata": {
    "execution": {
     "iopub.execute_input": "2021-11-19T03:08:36.683178Z",
     "iopub.status.busy": "2021-11-19T03:08:36.682573Z",
     "iopub.status.idle": "2021-11-19T03:08:36.689952Z",
     "shell.execute_reply": "2021-11-19T03:08:36.689019Z",
     "shell.execute_reply.started": "2021-11-19T03:08:36.683128Z"
    }
   },
   "outputs": [],
   "source": [
    "# Print information on all the columns in the \"full\" table in the \"hacker_news\" dataset\n",
    "table.schema"
   ]
  },
  {
   "cell_type": "code",
   "execution_count": 9,
   "metadata": {
    "execution": {
     "iopub.execute_input": "2021-11-19T03:08:39.977775Z",
     "iopub.status.busy": "2021-11-19T03:08:39.977444Z",
     "iopub.status.idle": "2021-11-19T03:08:39.986338Z",
     "shell.execute_reply": "2021-11-19T03:08:39.985539Z",
     "shell.execute_reply.started": "2021-11-19T03:08:39.977743Z"
    }
   },
   "outputs": [],
   "source": [
    "num_timestamp_fields = 2 # Put your answer here\n",
    "\n",
    "# Check your answer\n",
    "q_2.check()"
   ]
  },
  {
   "cell_type": "markdown",
   "metadata": {},
   "source": [
    "For a hint or the solution, uncomment the appropriate line below."
   ]
  },
  {
   "cell_type": "code",
   "execution_count": null,
   "metadata": {},
   "outputs": [],
   "source": [
    "#q_2.hint()\n",
    "#q_2.solution()"
   ]
  },
  {
   "cell_type": "markdown",
   "metadata": {},
   "source": [
    "### 3) Create a crime map\n",
    "\n",
    "If you wanted to create a map with a dot at the location of each crime, what are the names of the two fields you likely need to pull out of the `crime` table to plot the crimes on a map?"
   ]
  },
  {
   "cell_type": "code",
   "execution_count": 10,
   "metadata": {
    "execution": {
     "iopub.execute_input": "2021-11-19T03:08:44.518811Z",
     "iopub.status.busy": "2021-11-19T03:08:44.518156Z",
     "iopub.status.idle": "2021-11-19T03:08:45.275549Z",
     "shell.execute_reply": "2021-11-19T03:08:45.274176Z",
     "shell.execute_reply.started": "2021-11-19T03:08:44.518757Z"
    }
   },
   "outputs": [],
   "source": [
    "# Write the code here to explore the data so you can find the answer\n",
    "# Preview the first five lines of the \"full\" table\n",
    "client.list_rows(table, max_results=5).to_dataframe()"
   ]
  },
  {
   "cell_type": "code",
   "execution_count": 15,
   "metadata": {
    "execution": {
     "iopub.execute_input": "2021-11-19T03:11:34.470671Z",
     "iopub.status.busy": "2021-11-19T03:11:34.470369Z",
     "iopub.status.idle": "2021-11-19T03:11:35.421435Z",
     "shell.execute_reply": "2021-11-19T03:11:35.420659Z",
     "shell.execute_reply.started": "2021-11-19T03:11:34.470640Z"
    }
   },
   "outputs": [],
   "source": [
    "# Preview the first five entries in the \"by\" column of the \"full\" table\n",
    "client.list_rows(table, selected_fields=table.schema[:-1], max_results=5).to_dataframe()"
   ]
  },
  {
   "cell_type": "code",
   "execution_count": 18,
   "metadata": {
    "execution": {
     "iopub.execute_input": "2021-11-19T03:12:23.063413Z",
     "iopub.status.busy": "2021-11-19T03:12:23.063109Z",
     "iopub.status.idle": "2021-11-19T03:12:23.074032Z",
     "shell.execute_reply": "2021-11-19T03:12:23.072786Z",
     "shell.execute_reply.started": "2021-11-19T03:12:23.063379Z"
    }
   },
   "outputs": [],
   "source": [
    "fields_for_plotting = ['latitude', 'longitude'] # Put your answers here\n",
    "\n",
    "# Check your answer\n",
    "q_3.check()"
   ]
  },
  {
   "cell_type": "markdown",
   "metadata": {},
   "source": [
    "For a hint or the solution, uncomment the appropriate line below."
   ]
  },
  {
   "cell_type": "code",
   "execution_count": 17,
   "metadata": {
    "execution": {
     "iopub.execute_input": "2021-11-19T03:12:10.014861Z",
     "iopub.status.busy": "2021-11-19T03:12:10.014354Z",
     "iopub.status.idle": "2021-11-19T03:12:10.023097Z",
     "shell.execute_reply": "2021-11-19T03:12:10.022260Z",
     "shell.execute_reply.started": "2021-11-19T03:12:10.014803Z"
    }
   },
   "outputs": [],
   "source": [
    "#q_3.hint()\n",
    "q_3.solution()\n"
   ]
  },
  {
   "cell_type": "markdown",
   "metadata": {},
   "source": [
    "Thinking about the question above, there are a few columns that appear to have geographic data. Look at a few values (with the `list_rows()` command) to see if you can determine their relationship.  Two columns will still be hard to interpret. But it should be obvious how the `location` column relates to `latitude` and `longitude`."
   ]
  },
  {
   "cell_type": "code",
   "execution_count": null,
   "metadata": {},
   "outputs": [],
   "source": [
    "# Scratch space for your code"
   ]
  },
  {
   "cell_type": "markdown",
   "metadata": {},
   "source": [
    "# Keep going\n",
    "\n",
    "You've looked at the schema, but you haven't yet done anything exciting with the data itself. Things get more interesting when you get to the data, so keep going to **[write your first SQL query](https://www.kaggle.com/dansbecker/select-from-where).**"
   ]
  },
  {
   "cell_type": "markdown",
   "metadata": {},
   "source": [
    "---\n",
    "\n",
    "\n",
    "\n",
    "\n",
    "*Have questions or comments? Visit the [course discussion forum](https://www.kaggle.com/learn/intro-to-sql/discussion) to chat with other learners.*"
   ]
  }
 ],
 "metadata": {
  "kernelspec": {
   "display_name": "Python 3",
   "language": "python",
   "name": "python3"
  },
  "language_info": {
   "codemirror_mode": {
    "name": "ipython",
    "version": 3
   },
   "file_extension": ".py",
   "mimetype": "text/x-python",
   "name": "python",
   "nbconvert_exporter": "python",
   "pygments_lexer": "ipython3",
   "version": "3.7.3"
  }
 },
 "nbformat": 4,
 "nbformat_minor": 4
}
